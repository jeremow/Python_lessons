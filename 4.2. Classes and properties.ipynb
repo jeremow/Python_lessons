{
 "cells": [
  {
   "cell_type": "markdown",
   "metadata": {},
   "source": [
    "# 4. Object-oriented programmation with Obspy\n",
    "\n",
    "In this chapter, we will study what Python was planned to be : an oriented-object language!\n",
    "_\"Jérémy, you lost me...\"_. No worries! We will go slowly. Theses lessons about Classes, methods and everything are brand new to you if you didn't study other oriented-object languages.\n",
    "\n",
    "In this chapter, we will see:\n",
    "\n",
    "- Open and write into a file: not really into _object-oriented_ stuff but I wanted to see that with you.\n",
    "- Apprehend classes and define properties : The really beginning of you being a master of Python ... After this you will conquer the world for sure\n",
    "- Specific methods: A class is not just methods and attributes, you can do a bit more (a lot more actually)\n",
    "- Inheritance: For small projects, a little bit useless but when you will write the whole Windows OS in Python in the last chapter ... (not true, don't panick!). It's a important notion in object-oriented programmation that you can find anywhere.\n",
    "\n",
    "## 4.2. Classes\n",
    "\n",
    "### 4.2.1 Classes\n",
    "\n",
    "Aaaaand here we are. The Object-Oriented programmation. I see your smile on your face when new notions appear in the lessons. A whole world to discover for some people. It is not just concepts, it's a true philosophy.  And in Python, without even knowing about it, everything is object. A function, a variable. Behind all of this, the concept of object is here. \n",
    "\n",
    "You already saw that to add an element in a list, you just have to write `my_list.append(element)`. And it just seemed a little easier than `append_to_list(my_list, element)`. But it's not just aesthetic for the __OOP__, that's a way of life.\n",
    "\n",
    "A __class__ is the __model__ to create the __object__. Inside of it, there will be our __methods__, __attributes__. Attributes are just variables created inside of the object. Do you follow me?\n",
    "\n",
    "There are a lot of already existing classes like numbers, strings, lists ... but when you create a big script, you'll have to create your own class to make it all a little a bit easy for you, the programmer, but also for the user of your script. If he doesn't understand the logic when he wants to modify something, he will try to call to you every two minutes.\n",
    "\n",
    "#### Convention PEP8\n",
    "\n",
    "To write classes, there are some conventions of writing style that you can find [here](<https://www.python.org/dev/peps/pep-0020/>).\n",
    "\n",
    "We don't use the _underscore_ anymore like for functions. We will use the __Camel Case__. Each time you write a word, you'll use a capital letter. For example, to declare a class with the keyword ... __`class`__, you'll write : `class NameOfMyClass:`.\n",
    "\n",
    "And what is coming ... you see me coming with this ... `obspy`! We will begin slow using the functions of obspy to create our own classes. \n",
    "\n",
    "#### `class Station` : Attributes\n",
    "\n",
    "Here. We. Are. You can work in a PyCharm project or just here for the moment. Depends on what do you want to do after my lesson.\n",
    "\n",
    "We will first create a class with some attributes directly taken from seismic data and after we will go further.\n",
    "\n",
    "The main attributes can be find in MiniSeed file in the `stats` of the Trace."
   ]
  },
  {
   "cell_type": "code",
   "execution_count": 3,
   "metadata": {
    "scrolled": true
   },
   "outputs": [
    {
     "name": "stdout",
     "output_type": "stream",
     "text": [
      "         network: RD\n",
      "         station: SONA0\n",
      "        location: \n",
      "         channel: SHZ\n",
      "       starttime: 2020-01-01T00:00:00.000000Z\n",
      "         endtime: 2020-01-01T23:59:59.980000Z\n",
      "   sampling_rate: 50.0\n",
      "           delta: 0.02\n",
      "            npts: 4320000\n",
      "           calib: 1.0\n",
      "         _format: MSEED\n",
      "           mseed: AttribDict({'dataquality': 'D', 'number_of_records': 1219, 'encoding': 'STEIM2', 'byteorder': '>', 'record_length': 4096, 'filesize': 4993024})\n"
     ]
    }
   ],
   "source": [
    "from obspy import read\n",
    "\n",
    "st = read('code/3_1/RD.SONA0..SHZ.D.2020.001')\n",
    "tr = st[0]\n",
    "print(tr.stats)"
   ]
  },
  {
   "cell_type": "markdown",
   "metadata": {},
   "source": [
    "So we will create our class based on the information of ``SONA0`` the LP and CP stations of Songino. As attributes, we take the network, the name of the station, the channel and the sampling_rate.\n",
    "\n",
    "To create an object of the class, we will need a special method called the __instantiation__. So we don't say anymore _create an object of the class_ but _create a new instance_. The instantiation will create the attributes."
   ]
  },
  {
   "cell_type": "code",
   "execution_count": 2,
   "metadata": {},
   "outputs": [],
   "source": [
    "class Station: # define our class Station\n",
    "    \"\"\"\n",
    "    Class describing a sensor with attributes:\n",
    "    - network\n",
    "    - station\n",
    "    - channel\n",
    "    - sampling_rate\n",
    "    \"\"\"\n",
    "    \n",
    "    def __init__(self): # Our instantiation method\n",
    "        \"\"\"\n",
    "        Define the attribute station\n",
    "        \"\"\"\n",
    "        self.station = tr.stats.station # from the Trace we read before"
   ]
  },
  {
   "cell_type": "markdown",
   "metadata": {},
   "source": [
    "As you can see, the function `__init__(self)` seems classic. The name is _init_ and will be the same for every class you write. In the next chapter, we will the see all the __special methods__, there are always surrounded by two underscores from each side (`__namemethod__`).\n",
    "\n",
    "In the instantiation, you see the attribute `station`. We create the variable `self.station` inside of the class and we affect the value `SONA0`."
   ]
  },
  {
   "cell_type": "code",
   "execution_count": 3,
   "metadata": {
    "scrolled": true
   },
   "outputs": [
    {
     "name": "stdout",
     "output_type": "stream",
     "text": [
      "<__main__.Station object at 0x7f31f4fbeb38>\n",
      "SONA0\n"
     ]
    }
   ],
   "source": [
    "my_station = Station()\n",
    "print(my_station)\n",
    "\n",
    "print(my_station.station)"
   ]
  },
  {
   "cell_type": "markdown",
   "metadata": {},
   "source": [
    "The `self.***` is simply the object we create. It's not a new variable, object or anything. So when you write `self.station`, you declare a value inside of a class statement. It will be the same for every attribute and method!\n",
    "\n",
    "If we put some more things inside of our _instantiator_ (= instantiation method), we will have something like this :"
   ]
  },
  {
   "cell_type": "code",
   "execution_count": 4,
   "metadata": {},
   "outputs": [],
   "source": [
    "class Station: # define our class Station\n",
    "    \"\"\"\n",
    "    Class describing a sensor with attributes:\n",
    "    - network\n",
    "    - station\n",
    "    - channel\n",
    "    - sampling_rate\n",
    "    \"\"\"\n",
    "    \n",
    "    def __init__(self): # Our instantiation method\n",
    "        \"\"\"\n",
    "        Instantiator of Station class.\n",
    "        \"\"\"\n",
    "        self.network = tr.stats.network # from the Trace we read before\n",
    "        self.station = tr.stats.station \n",
    "        self.channel = tr.stats.channel\n",
    "        self.sampling_rate = tr.stats.sampling_rate"
   ]
  },
  {
   "cell_type": "markdown",
   "metadata": {},
   "source": [
    "Now, you can create an object with more attributes."
   ]
  },
  {
   "cell_type": "code",
   "execution_count": 5,
   "metadata": {},
   "outputs": [
    {
     "name": "stdout",
     "output_type": "stream",
     "text": [
      "RD\n",
      "SHZ\n"
     ]
    }
   ],
   "source": [
    "my_station = Station()\n",
    "print(my_station.network)\n",
    "print(my_station.channel)"
   ]
  },
  {
   "cell_type": "markdown",
   "metadata": {},
   "source": [
    "If you want to change an attribute, you just have to affect with a new value."
   ]
  },
  {
   "cell_type": "code",
   "execution_count": 6,
   "metadata": {},
   "outputs": [
    {
     "name": "stdout",
     "output_type": "stream",
     "text": [
      "20.0\n"
     ]
    }
   ],
   "source": [
    "my_station.sampling_rate = 20.0\n",
    "print(my_station.sampling_rate)"
   ]
  },
  {
   "cell_type": "markdown",
   "metadata": {},
   "source": [
    "What is the point of doing this, all my stations don't have the same name, etc. Yes, we can have a smart instantiator to declare the attributes when we create the object. We will add parameters to our ``__init__`` method without forgetting the `self`!"
   ]
  },
  {
   "cell_type": "code",
   "execution_count": 8,
   "metadata": {},
   "outputs": [],
   "source": [
    "class Station: # define our class Station\n",
    "    \"\"\"\n",
    "    Class describing a sensor with attributes:\n",
    "    - network\n",
    "    - station\n",
    "    - channel\n",
    "    - sampling_rate\n",
    "    \"\"\"\n",
    "    \n",
    "    def __init__(self, network, station, channel, sampling_rate): # Our instantiation method\n",
    "        \"\"\"\n",
    "        Instantiator of Station class.\n",
    "        \"\"\"\n",
    "        self.network = network # from the Trace we read before\n",
    "        self.station = station \n",
    "        self.channel = channel\n",
    "        self.sampling_rate = sampling_rate"
   ]
  },
  {
   "cell_type": "markdown",
   "metadata": {},
   "source": [
    "So when you create a new instance now ..."
   ]
  },
  {
   "cell_type": "code",
   "execution_count": 7,
   "metadata": {},
   "outputs": [
    {
     "name": "stdout",
     "output_type": "stream",
     "text": [
      "100.0\n"
     ]
    }
   ],
   "source": [
    "SONA0_SHZ = Station(tr.stats.network, tr.stats.station,\n",
    "                   tr.stats.channel, tr.stats.sampling_rate)\n",
    "\n",
    "print(SONA0_SHZ.sampling_rate)"
   ]
  },
  {
   "cell_type": "markdown",
   "metadata": {},
   "source": [
    "I highly recommend you to to try to add some others attributes, change the instantiator and everything to really understand what's going on with the classes.\n",
    "\n",
    "We can also create what's called a __class attribute__. A class attribute is a common attribute to all the instances of your classes. It can be useful to count how many stations you have for example. Generally we define it before the instantiator."
   ]
  },
  {
   "cell_type": "code",
   "execution_count": 1,
   "metadata": {},
   "outputs": [],
   "source": [
    "class Station: # define our class Station\n",
    "    \"\"\"\n",
    "    Class describing a sensor with attributes:\n",
    "    - network\n",
    "    - station\n",
    "    - channel\n",
    "    - sampling_rate\n",
    "    \"\"\"\n",
    "    \n",
    "    number_of_stations = 0\n",
    "    \n",
    "    def __init__(self, network, station, channel, sampling_rate): # Our instantiation method\n",
    "        \"\"\"\n",
    "        Instantiator of Station class.\n",
    "        \"\"\"\n",
    "        Station.number_of_stations += 1\n",
    "        \n",
    "        self.network = network # from the Trace we read before\n",
    "        self.station = station \n",
    "        self.channel = channel\n",
    "        self.sampling_rate = sampling_rate"
   ]
  },
  {
   "cell_type": "code",
   "execution_count": 2,
   "metadata": {},
   "outputs": [
    {
     "ename": "NameError",
     "evalue": "name 'tr' is not defined",
     "output_type": "error",
     "traceback": [
      "\u001b[0;31m---------------------------------------------------------------------------\u001b[0m",
      "\u001b[0;31mNameError\u001b[0m                                 Traceback (most recent call last)",
      "\u001b[0;32m<ipython-input-2-07800b8dd9fa>\u001b[0m in \u001b[0;36m<module>\u001b[0;34m\u001b[0m\n\u001b[0;32m----> 1\u001b[0;31m SONA0_SHZ = Station(tr.stats.network, tr.stats.station,\n\u001b[0m\u001b[1;32m      2\u001b[0m                    'SHZ', tr.stats.sampling_rate)\n\u001b[1;32m      3\u001b[0m SONA0_SHE = Station(tr.stats.network, tr.stats.station,\n\u001b[1;32m      4\u001b[0m                    'SHE', tr.stats.sampling_rate)\n\u001b[1;32m      5\u001b[0m SONA0_SHN = Station(tr.stats.network, tr.stats.station,\n",
      "\u001b[0;31mNameError\u001b[0m: name 'tr' is not defined"
     ]
    }
   ],
   "source": [
    "SONA0_SHZ = Station(tr.stats.network, tr.stats.station,\n",
    "                   'SHZ', tr.stats.sampling_rate)\n",
    "SONA0_SHE = Station(tr.stats.network, tr.stats.station,\n",
    "                   'SHE', tr.stats.sampling_rate)\n",
    "SONA0_SHN = Station(tr.stats.network, tr.stats.station,\n",
    "                   'SHN', tr.stats.sampling_rate)\n",
    "\n",
    "print(SONA0_SHN.number_of_stations)"
   ]
  },
  {
   "cell_type": "markdown",
   "metadata": {},
   "source": [
    "#### `class Station` : methods\n",
    "\n",
    "The attributes are the variables attached to the class and the methods are the actions. It is just functions who manipulate the objets of the class like `append` for the class `list`. \n",
    "\n",
    "We take again our Station class and we will add the dedicated function to plot the trace of it inside of obspy. I know, it's not really useful, but it's to learn to you obspy and the creation of classes at the same time.\n",
    "\n",
    "We will rewrite our class `Station` to build new instance with just the trace of one trace. And then we will add the feature to plot "
   ]
  },
  {
   "cell_type": "code",
   "execution_count": 22,
   "metadata": {},
   "outputs": [],
   "source": [
    "class Station: # define our class Station\n",
    "    \"\"\"\n",
    "    Class describing a sensor with attributes:\n",
    "    - Trace related to obspy file\n",
    "    - network\n",
    "    - station\n",
    "    - channel\n",
    "    - sampling_rate\n",
    "    \"\"\"\n",
    "    \n",
    "    number_of_stations = 0\n",
    "    \n",
    "    def __init__(self, trace): # Our instantiation method\n",
    "        \"\"\"\n",
    "        Instantiator of Station class.\n",
    "        \"\"\"\n",
    "        Station.number_of_stations += 1\n",
    "        \n",
    "        self.trace =  trace\n",
    "        self.network = trace.stats.network # just an artefact to access easily\n",
    "        self.station = trace.stats.station \n",
    "        self.channel = trace.stats.channel\n",
    "        self.sampling_rate = trace.stats.sampling_rate\n",
    "    \n",
    "    def plot(self):\n",
    "        \"\"\"\n",
    "        Plot the trace inside of our class.\n",
    "        \"\"\"\n",
    "        self.trace.plot()"
   ]
  },
  {
   "cell_type": "code",
   "execution_count": 23,
   "metadata": {
    "scrolled": true
   },
   "outputs": [
    {
     "data": {
      "image/png": "[encoded data removed]",
      "text/plain": [
       "<Figure size 800x250 with 1 Axes>"
      ]
     },
     "metadata": {
      "needs_background": "light"
     },
     "output_type": "display_data"
    }
   ],
   "source": [
    "SONA0_SHZ = Station(tr) # tr was the trace #0 of SONA0 SHZ\n",
    "SONA0_SHZ.plot()"
   ]
  },
  {
   "cell_type": "markdown",
   "metadata": {},
   "source": [
    "Et voilà! You wrote your first method. Now you can imagine all what you want with it. For sure, it doesn't seem really useful to create another thing similar to what obspy can offer. But if you work on a big research project and want to do use your functions with a formatted number of parameters of an obspy stream object, create your own class will help you to speed up your efficiency.\n",
    "\n",
    "#### `self`\n",
    "\n",
    "Just a little thing with the `self`. I said to you that it call the object. When you call attributes, it will search for it in the object you created but when you call functions, it will search for it in your written class. So with our example, calling `SONA0_SHZ.plot()` is exactly the same as `Station.plot(SONA0_SHZ)`. Aaand here is the self.\n",
    "\n",
    "#### To go further\n",
    "\n",
    "There are a lot of others things to know about classes like `classmethod`, `staticmethod`, the function `dir`, the dictionary `__dict__` but I don't want you to have mix feelings about it. Especially because you won't use it. You can learn by yourself if you're interested.\n",
    "\n",
    "### 4.2.2. Properties\n",
    "\n",
    "The classes are the first point of the object-oriented programmation. But in Python like in others languages, there are some concepts which created the philosophy of the `object`. \n",
    "\n",
    "#### Encapsulation\n",
    "\n",
    "Encapsulation is the principle to hide or protect some data of your object. It's not compulsory to use this at the level we are but I want to present to you just the basics of it if one day, you need it.\n",
    "\n",
    "How to change or get the attributes so? With __Accessor__ (getter) or __Mutator__ (setter). So when you want to have access to your attribute, instead of writing `my_station.network`, you'll write `my_station.get_network()`. You use a method. And the same way to affect a new value : `my_station.set_network(new_value)`. \n",
    "\n",
    "The drawback is it's really long to write like this. So if you don't need it, don't use it. \n",
    "\n",
    "And here comes the `property`. You can manage an attribute with three functions. `_get_***`, `_set_***` and `_del_***`. I will write an example with our `Station` and you will understand."
   ]
  },
  {
   "cell_type": "code",
   "execution_count": 4,
   "metadata": {},
   "outputs": [],
   "source": [
    "class Station: # define our class Station\n",
    "    \"\"\"\n",
    "    Class describing a sensor with attributes:\n",
    "    - station\n",
    "    \"\"\"\n",
    "    \n",
    "    def __init__(self, station): # Our instantiation method\n",
    "        \"\"\"\n",
    "        Instantiator of Station class.\n",
    "        \"\"\"\n",
    "        self._station = station\n",
    "        \n",
    "    def _get_station(self):\n",
    "        \"\"\"\n",
    "        Method to read the variable station\n",
    "        \"\"\"\n",
    "        print('I return you the value of the station')\n",
    "        return self._station\n",
    "    \n",
    "    def _set_station(self, new_station):\n",
    "        \"\"\"\n",
    "        Method to set a new value for the station\n",
    "        \"\"\"\n",
    "        print('You modify the station from {} to {}'.format(self._station, new_station))\n",
    "        self._station = new_station\n",
    "    \n",
    "    station = property(_get_station,_set_station)"
   ]
  },
  {
   "cell_type": "code",
   "execution_count": 5,
   "metadata": {},
   "outputs": [
    {
     "name": "stdout",
     "output_type": "stream",
     "text": [
      "I return you the value of the station\n",
      "SONA0\n"
     ]
    }
   ],
   "source": [
    "SONA0 = Station('SONA0')\n",
    "print(SONA0.station)"
   ]
  },
  {
   "cell_type": "code",
   "execution_count": 3,
   "metadata": {
    "scrolled": false
   },
   "outputs": [
    {
     "name": "stdout",
     "output_type": "stream",
     "text": [
      "You modify the station from SONA0 to SONA1\n",
      "I return you the value of the station\n",
      "SONA1\n"
     ]
    }
   ],
   "source": [
    "SONA0.station = 'SONA1'\n",
    "print(SONA0.station)"
   ]
  },
  {
   "cell_type": "markdown",
   "metadata": {},
   "source": [
    "You see some difference like the underscore of `_station`. That will be variable protected from the outside. So, now when you want to access the value, it will call the function you pass into the first parameter of `property`. And to set the value, it will call the second one.\n",
    "\n",
    "If it's not clear, just analyze the code and try to understand.\n",
    "\n",
    "It doesn't mean that you cannot write and read directly through `SONA0._name` but it's the convention for Python to consider the attribute as protected. And when you are outside of a class, you know that if this attribute of your object is written like this, you don't have to use it directly, especially modify it directly. Else terrible thing could happen inside of complex classes which needed this attribute."
   ]
  }
 ],
 "metadata": {
  "kernelspec": {
   "display_name": "Python 3",
   "language": "python",
   "name": "python3"
  },
  "language_info": {
   "codemirror_mode": {
    "name": "ipython",
    "version": 3
   },
   "file_extension": ".py",
   "mimetype": "text/x-python",
   "name": "python",
   "nbconvert_exporter": "python",
   "pygments_lexer": "ipython3",
   "version": "3.7.3"
  }
 },
 "nbformat": 4,
 "nbformat_minor": 4
}
