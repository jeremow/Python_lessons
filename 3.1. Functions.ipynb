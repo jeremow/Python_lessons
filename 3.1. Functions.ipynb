{
 "cells": [
  {
   "cell_type": "markdown",
   "metadata": {},
   "source": [
    "# 3. Functions and modules\n",
    "\n",
    "In this part, we'll talk again about function. It is really one of the most important thing to understand perfectly. Without this, you cannot go further in Python. We will go slowly, don't panic!\n",
    "\n",
    "When programming, we must often use some part of the code several times. Not just with loop but grouped within bigger code. This can be function or module. I'll go easy on these 2 concepts but detailed enough for you to understand all what you need to follow the lead of programming.\n",
    "\n",
    "__Functions__ allow you to group several commands/instructions with a name. You already saw the function `print` for example.\n",
    "\n",
    "__Modules__ allow you to group several _Functions_ with the same principle. For example, all the mathematical functions are in module named _math_. \n",
    "\n",
    "And at least, we will apprehend the exceptions in Python. A way to traceback the errors we can make.\n",
    "\n",
    "## 3.1. Functions\n",
    "\n",
    "### Create a function\n",
    "\n",
    "First, a function is defined by different rules :"
   ]
  },
  {
   "cell_type": "code",
   "execution_count": null,
   "metadata": {},
   "outputs": [],
   "source": [
    "def name_function(parameter1, parameter2, parameter3, parameterN):\n",
    "    # some code here"
   ]
  },
  {
   "cell_type": "markdown",
   "metadata": {},
   "source": [
    "- `def` is the keyword for define. Python know there will be a function after this word ;\n",
    "- The name of the function which will be used as a variable after. Don't name a function after something which is already used like print or type ;\n",
    "- The list of parameters with a comma between then and a space for the visibility. When no argument is passed, the brackets stays compulsory ;\n",
    "- Two points at the end."
   ]
  },
  {
   "cell_type": "code",
   "execution_count": null,
   "metadata": {},
   "outputs": [],
   "source": [
    "# Function without parameters\n",
    "\n",
    "def name_function():\n",
    "    # some code here\n",
    "    "
   ]
  },
  {
   "cell_type": "markdown",
   "metadata": {},
   "source": [
    "We are now in a karaoke bar where Baby Girl song can be sung. The waiter is here and wants our first round of drinks.\n",
    "Jeremy, Bayaraa, Pujee, Munkhbayar and Tuguldur take a beer. The function to compute the sum of what we'll pay could be :"
   ]
  },
  {
   "cell_type": "code",
   "execution_count": null,
   "metadata": {},
   "outputs": [],
   "source": [
    "# here the code to define the order function (CTRL+ENTER). \n",
    "\n",
    "def first_order():\n",
    "    \n",
    "    # define the order and the price\n",
    "    nb_beer = 5\n",
    "    price_beer = 4000\n",
    "    \n",
    "    total_price = nb_beer * price_beer # compute the price\n",
    "    print('The total price for 5 beers is :', total_price)"
   ]
  },
  {
   "cell_type": "markdown",
   "metadata": {},
   "source": [
    "Nothing happens because we didn't launch the function for the moment. Watch to the names of the variables. They are really precise and we know exactly what they will contain. It is absolutely necessary to put names like this. Not `b = 5` and `p = 4000` for example. When you'll watch to your code again in 3 months, if you see `p` and `b`, you won't understand anymore what was the meaning of all of this. Same with the comments. If you explain a little what you're doing, you will remember 3 months later why you did this and also some other people who read your code can also understand what's going on."
   ]
  },
  {
   "cell_type": "code",
   "execution_count": null,
   "metadata": {},
   "outputs": [],
   "source": [
    "# here the command to launch the function (CTRL+ENTER):\n",
    "\n",
    "first_order()"
   ]
  },
  {
   "cell_type": "markdown",
   "metadata": {},
   "source": [
    "Euh, okay, good but what the point of this, was it necessary to create a function for this ? Not really but what if we want to take another order and Pujee is already gone because we have to do the maintenance in Songino on a saturday morning.\n",
    "It will be more useful. The `nb_beer` variable will now be a parameter. The code will be easy to find :"
   ]
  },
  {
   "cell_type": "code",
   "execution_count": null,
   "metadata": {},
   "outputs": [],
   "source": [
    "# define the function order\n",
    "\n",
    "def order(nb_beer):\n",
    "    \n",
    "    # define the price\n",
    "    price_beer = 4000\n",
    "    \n",
    "    total_price = nb_beer * price_beer # compute the price\n",
    "    print('The total price for {} beers is: {}'.format(nb_beer, total_price))\n",
    "\n",
    "# launch the function\n",
    "\n",
    "order(5)"
   ]
  },
  {
   "cell_type": "markdown",
   "metadata": {},
   "source": [
    "Mmh, what's happening with the `print` function ? I didn't see that before. \n",
    "\n",
    "Yes there are different ways of printing variables. The first you know is :"
   ]
  },
  {
   "cell_type": "code",
   "execution_count": null,
   "metadata": {},
   "outputs": [],
   "source": [
    "a = 1\n",
    "b = 2\n",
    "print('a =', a, ', b =', b)"
   ]
  },
  {
   "cell_type": "markdown",
   "metadata": {},
   "source": [
    "Another way is :"
   ]
  },
  {
   "cell_type": "code",
   "execution_count": null,
   "metadata": {
    "scrolled": true
   },
   "outputs": [],
   "source": [
    "a, b = 1, 2\n",
    "print('a = {}, b = {}'.format(a, b))"
   ]
  },
  {
   "cell_type": "markdown",
   "metadata": {},
   "source": [
    "You see it prints the same thing. With the help of `.format()` you can add the variables at the end of the print function which is a little more readable as the first solution. However, both options are correct. I just wanted to show you another option of printing some text. Back on topic, we can add more parameters if we want like this :"
   ]
  },
  {
   "cell_type": "code",
   "execution_count": null,
   "metadata": {},
   "outputs": [],
   "source": [
    "def order(nb_beer, price_beer):\n",
    "    \n",
    "    total_price = nb_beer * price_beer # compute the price\n",
    "    print('The total price for {} beers is: {}'.format(nb_beer, total_price))"
   ]
  },
  {
   "cell_type": "markdown",
   "metadata": {},
   "source": [
    "Now, if you launch the cell below, you can choose the number of beers and the price of a beer"
   ]
  },
  {
   "cell_type": "code",
   "execution_count": null,
   "metadata": {},
   "outputs": [],
   "source": [
    "order(5, 5000)\n",
    "order(4, 3000)\n"
   ]
  },
  {
   "cell_type": "markdown",
   "metadata": {},
   "source": [
    "If we just write the parameters without naming it, you have to respect which parameter is number 1, number 2 ... but you can mix them if you named it explicitely when the function is called."
   ]
  },
  {
   "cell_type": "code",
   "execution_count": null,
   "metadata": {},
   "outputs": [],
   "source": [
    "order(nb_beer = 5, price_beer = 5000)\n",
    "order(price_beer = 5000, nb_beer = 5)\n"
   ]
  },
  {
   "cell_type": "markdown",
   "metadata": {},
   "source": [
    "### Default value of a parameter\n",
    "\n",
    "You can tell a function what is the default parameter if the user doesn't precise it and it's really easy :"
   ]
  },
  {
   "cell_type": "code",
   "execution_count": null,
   "metadata": {},
   "outputs": [],
   "source": [
    "def order(nb_beer, price_beer=4000):\n",
    "    \"\"\"\n",
    "    Function which print the price of a specific order of beers\n",
    "    \n",
    "    (nb_beer >= 0)\n",
    "    \"\"\"\n",
    "    \n",
    "    total_price = nb_beer * price_beer # compute the price\n",
    "    print('The total price for {} beers is: {}'.format(nb_beer, total_price))"
   ]
  },
  {
   "cell_type": "markdown",
   "metadata": {},
   "source": [
    "You just need to add `=4000` for the parameter `price_beer` . Easy, right ?"
   ]
  },
  {
   "cell_type": "code",
   "execution_count": null,
   "metadata": {},
   "outputs": [],
   "source": [
    "order(3)\n",
    "order(3, price_beer=5000)\n"
   ]
  },
  {
   "cell_type": "markdown",
   "metadata": {},
   "source": [
    "I also add some text under the definition of the function between `\"\"\" \"\"\"`. It is called `docstring`. It will help the user or another people who wants to use your code to see what the function does. To get the help you just have to write `help(order)` (don't forget to CTRL+ENTER the code of `def order(...)`)."
   ]
  },
  {
   "cell_type": "code",
   "execution_count": null,
   "metadata": {},
   "outputs": [],
   "source": [
    "help(order)"
   ]
  },
  {
   "cell_type": "markdown",
   "metadata": {},
   "source": [
    "### Signature of a function\n",
    "\n",
    "In Python, you cannot precise the type of the parameters of the function like in other languages like Java, C++. The signature of the function will be the name itself. It means that if you write a new definition of the function, it erases the previous one. "
   ]
  },
  {
   "cell_type": "code",
   "execution_count": null,
   "metadata": {},
   "outputs": [],
   "source": [
    "def say_hello(name):\n",
    "    print('Hello,', name)\n",
    "\n",
    "say_hello('Jeremy')\n",
    "\n",
    "def say_hello():\n",
    "    print('Sain uu?')\n",
    "    \n",
    "say_hello('Jeremy')"
   ]
  },
  {
   "cell_type": "markdown",
   "metadata": {},
   "source": [
    "You cannot _overload_ a function like in Java and C++."
   ]
  },
  {
   "cell_type": "markdown",
   "metadata": {},
   "source": [
    "### The instruction `return`\n",
    "\n",
    "`return` in a function is the way to get a value from it. In the previous examples, we just printed to values on the screen but you cannot reuse it later. Perhaps you will take several orders during the night and with the effect of alcohol, you don't remember what was the price of everything. Hopefully the barman was adding each time on his computer what you ordered. Now we don't print anymore the `total_price` but the function will return it and you can print it if you want. We even change the name as the function doesn't give us the same information. A name near from the reality of the function is now `order_price`."
   ]
  },
  {
   "cell_type": "code",
   "execution_count": null,
   "metadata": {},
   "outputs": [],
   "source": [
    "def order_price(nb_beer, price_beer=4000):\n",
    "    \"\"\"\n",
    "    Function which returns the price of a specific order of beers\n",
    "    \n",
    "    (nb_beer >= 0)\n",
    "    \"\"\"\n",
    "\n",
    "    return nb_beer * price_beer"
   ]
  },
  {
   "cell_type": "code",
   "execution_count": null,
   "metadata": {},
   "outputs": [],
   "source": [
    "total_price = order_price(nb_beer=3)\n"
   ]
  },
  {
   "cell_type": "markdown",
   "metadata": {},
   "source": [
    "_\"Why does it do nothing ?_\n",
    "\n",
    "It computes the total price but you just didn't print it! Add the line to print in the cell above.\n",
    "\n",
    "You can also return several values if you want. They just have to be separated by a comma. For example, imagine you ordered also some Airag and you want the details of the invoice :"
   ]
  },
  {
   "cell_type": "code",
   "execution_count": null,
   "metadata": {},
   "outputs": [],
   "source": [
    "def order_price(nb_beer, nb_airag, price_beer=4000, price_airag=6000):\n",
    "    \"\"\"\n",
    "    Function which returns the total price of a specific order.\n",
    "    \n",
    "    (nb_beer >= 0, nb_airag >= 0)\n",
    "    \"\"\"\n",
    "    price_beer = nb_beer * price_beer\n",
    "    price_airag = nb_airag * price_airag\n",
    "    \n",
    "    return price_beer, price_airag, price_beer + price_airag\n",
    "\n",
    "\n",
    "price_beer, price_airag, total_price = order_price(3, 4)\n",
    "print('Beers : {}T\\nAirag : {}T\\n-------\\nTotal : {}T'.format(price_beer, price_airag, total_price))"
   ]
  },
  {
   "cell_type": "markdown",
   "metadata": {},
   "source": [
    "Watch to the format of the string, you already did it last year... `\\n` is the escape character to create a new line. "
   ]
  },
  {
   "cell_type": "markdown",
   "metadata": {},
   "source": [
    "### To go further ... lambda functions\n",
    "\n",
    "We just saw how to write a function with the `def` keyword. Python has another feature which is called `lambda` function. They are limited for just one instruction. It's a really short function. I won't argue for the moment why it exists. We will see in some chapters the possibilites.\n",
    "\n",
    "The syntax is quite simple : `lambda arg1, arg2, ... : instruction`.\n",
    "\n",
    "For example, for the order of beers :"
   ]
  },
  {
   "cell_type": "code",
   "execution_count": null,
   "metadata": {},
   "outputs": [],
   "source": [
    "lambda nb_beer, price_beer : nb_beer * price_beer"
   ]
  },
  {
   "cell_type": "markdown",
   "metadata": {},
   "source": [
    "_\"The output is strange, why have I this ?\"_\n",
    "\n",
    "You just declare the lambda without saving it somewhere. You have to store it in a variable to use it later."
   ]
  },
  {
   "cell_type": "code",
   "execution_count": null,
   "metadata": {},
   "outputs": [],
   "source": [
    "order_price = lambda nb_beer, price_beer : nb_beer * price_beer"
   ]
  },
  {
   "cell_type": "markdown",
   "metadata": {},
   "source": [
    "Now it's declared, you can use it like any function."
   ]
  },
  {
   "cell_type": "code",
   "execution_count": null,
   "metadata": {},
   "outputs": [],
   "source": [
    "order_price(2,4000)"
   ]
  },
  {
   "cell_type": "code",
   "execution_count": null,
   "metadata": {},
   "outputs": [],
   "source": [
    "order_price(price_beer = 6000, nb_beer = 3)"
   ]
  },
  {
   "cell_type": "markdown",
   "metadata": {},
   "source": [
    "You can even add a default value."
   ]
  },
  {
   "cell_type": "code",
   "execution_count": null,
   "metadata": {},
   "outputs": [],
   "source": [
    "order_price = lambda nb_beer, price_beer=5000 : nb_beer * price_beer\n",
    "\n",
    "order_price(3)"
   ]
  },
  {
   "cell_type": "markdown",
   "metadata": {},
   "source": [
    "It seems useless for the moment, and you're right. Our level in Python doesn't need this definition. But we're in the good section to have the first feeling about the notion. And in one month when we will see again, you'll ask me _\"What is this lambda thing, lord Jérémy?\"_  and I'll answer _\"See chapter 3 guys\"_."
   ]
  },
  {
   "cell_type": "markdown",
   "metadata": {},
   "source": [
    "### Function with unknown number of parameters\n",
    "\n",
    "Perhaps you will need to declare some functions without knowing at first how many parameters in input you will use. The easiest way to declare it is like this : ``def function(*parameters)``. We simply write a little star in front of the argument which will receive the list... or I must say the **tuple** (you see it before, you know it). A little example with a really strange function that nobody can understand : the *add* function !"
   ]
  },
  {
   "cell_type": "code",
   "execution_count": null,
   "metadata": {},
   "outputs": [],
   "source": [
    "def add(*numbers):\n",
    "    \"\"\"\n",
    "    Function + to add numbers between them.\n",
    "    \"\"\"\n",
    "    \n",
    "    sum_nb = 0 # initialization\n",
    "    \n",
    "    for i, number in enumerate(numbers): # no star when you call the parameter after !\n",
    "        sum_nb += number\n",
    "        \n",
    "    return sum_nb"
   ]
  },
  {
   "cell_type": "code",
   "execution_count": null,
   "metadata": {},
   "outputs": [],
   "source": [
    "res = add(1,2)\n",
    "print('1+2={}'.format(res))\n",
    "\n",
    "res = add(5,5,10,10)\n",
    "print('5+5+10+10={}'.format(res))"
   ]
  },
  {
   "cell_type": "markdown",
   "metadata": {},
   "source": [
    "It sees useless to create an ``add`` function for numbers when you can just use ``+`` and you're right. We will also see in chapter 3 how to change the behavior of the ``+`` sign when you will create your own classes... you already saw some different behaviors depending on the classes : *string*, *integer*, *complex* ..."
   ]
  },
  {
   "cell_type": "code",
   "execution_count": null,
   "metadata": {},
   "outputs": [],
   "source": [
    "print('Hello ' +  'World!') # str\n",
    "print(3 + 4) # int\n",
    "print((3+4j) + (1+2j)) # complex"
   ]
  },
  {
   "cell_type": "markdown",
   "metadata": {},
   "source": [
    "You can declare compulsory parameters before a **tuple** of parameters like ```def function(name, age, *parameters)```. Caution! you cannot declare first a list of parameters. If you write this : ``def function(*parameters, name, age)``. You understand that if you don't name the parameters when you call to the function, Python cannot know where you facultative parameters end...\n",
    "\n",
    "The exception is when you declare a function with predefined parameters like ``def function(name, age, *parameters, color='blue', place='Mongolia')``. It's made like this because when you want to change the predefined value of the parameter, you have to call it by its name. So Python cannot misinterpret your list of unknown parameters and the predefined parameters.\n",
    "\n",
    "And it's now the rule when you write a function, always declare in this order when you need all of the three types :\n",
    "1. Compulsory parameters\n",
    "2. Tuple of parameters \n",
    "3. Predefined parameters\n",
    "\n",
    "### Little exercise : the ``print()`` function\n",
    "\n",
    "Try below to rewrite the print function. Some indications : the function doesn't return anything, you have to convert all the arguments in the string format before sending your final string to the stream. The stream is where you display the printed object you want to see or users to see. It's a little bit soon before Modules and Packages is the next lesson but just assume that this :"
   ]
  },
  {
   "cell_type": "code",
   "execution_count": null,
   "metadata": {},
   "outputs": [],
   "source": [
    "import sys\n",
    "sys.stdout.write('Hello World!\\n')"
   ]
  },
  {
   "cell_type": "markdown",
   "metadata": {},
   "source": [
    "Is the equivalent to this :"
   ]
  },
  {
   "cell_type": "code",
   "execution_count": null,
   "metadata": {},
   "outputs": [],
   "source": [
    "print('Hello','World!')"
   ]
  },
  {
   "cell_type": "markdown",
   "metadata": {},
   "source": [
    "All the input parameters have to be automatically separated with a space and the final string has to end with the backspace character ``\\n``. Now you have all the keys in your hand, go and fly by yourself ! There isn't just one solution !"
   ]
  },
  {
   "cell_type": "code",
   "execution_count": null,
   "metadata": {},
   "outputs": [],
   "source": [
    "import sys\n",
    "\n",
    "def your_print(*parameters, sep = ' ', end = '\\n'):\n",
    "    \"\"\"\n",
    "    Here is your print function. The parameters are in a tuple, the sep character is a space and the ending\n",
    "    character is backspace.\n",
    "    \"\"\"\n",
    "    \n",
    "    # get all the parameters one by one, convert them to str and add them the a final string called final_string\n",
    "    \n",
    "    \n",
    "    # here the last line to write on the stream :\n",
    "    sys.stdout.write(final_string)\n",
    "\n",
    "your_print('Hello','World!') # must print 'Hello World!'\n",
    "your_print('Hello you')"
   ]
  },
  {
   "cell_type": "markdown",
   "metadata": {},
   "source": [
    "#### Correction"
   ]
  },
  {
   "cell_type": "code",
   "execution_count": null,
   "metadata": {},
   "outputs": [],
   "source": [
    "# Correction of print function\n",
    "\n",
    "import sys\n",
    "\n",
    "def your_print(*parameters, sep = ' ', end = '\\n'):\n",
    "    \"\"\"\n",
    "    Here is your print function. The parameters are in a tuple, the sep character is a space and the ending\n",
    "    character is backspace.\n",
    "    \"\"\"\n",
    "    # get all the parameters one by one, convert them to str and add them the a final string called final_string\n",
    "    str_parameters = '' \n",
    "    final_string= ''\n",
    "    for _, parameter in enumerate(parameters): \n",
    "        str_parameters += str(parameter)\n",
    "        str_parameters += sep \n",
    "    \n",
    "    final_string = str_parameters + end\n",
    "\n",
    "    sys.stdout.write(final_string)\n",
    "\n",
    "your_print('Hello', 'World!')\n",
    "your_print('Hello you')"
   ]
  }
 ],
 "metadata": {
  "kernelspec": {
   "display_name": "Python 3",
   "language": "python",
   "name": "python3"
  },
  "language_info": {
   "codemirror_mode": {
    "name": "ipython",
    "version": 3
   },
   "file_extension": ".py",
   "mimetype": "text/x-python",
   "name": "python",
   "nbconvert_exporter": "python",
   "pygments_lexer": "ipython3",
   "version": "3.7.3"
  }
 },
 "nbformat": 4,
 "nbformat_minor": 4
}
