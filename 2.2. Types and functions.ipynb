{
 "cells": [
  {
   "cell_type": "markdown",
   "metadata": {},
   "source": [
    "# 2.2. Types and functions\n",
    "\n",
    "\n",
    "## 2.2.1. Data types\n",
    "\n",
    "Nothing complicated to understand but Types in Python are a concept which is compulsory to understand if you want to go deep in Python.\n",
    "\n",
    "We just saw some numbers before but that's not the only data type which exists in Python and you will even create your own after, but don't skip step! It is useful for Python to know what we work with because when you'll do some operations, the behavior of Python is not the same if you work with numbers or with strings.\n",
    "\n",
    "### Your first datatypes\n",
    "\n",
    "We begin with the easiest datatypes and there will be two whole chapters with the others. \n",
    "\n",
    "#### Integer and float\n",
    "\n",
    "__Integers__ are numbers without commas (called __float__) like `3`. That's not the same as `3.0` because the calculation method is different. When you add two integers together, there is no error possible. But if you add two floats together, you have a possibility of mistake because your computer cannot store all the numbers behind the comma."
   ]
  },
  {
   "cell_type": "code",
   "execution_count": null,
   "metadata": {},
   "outputs": [],
   "source": [
    "# CTRL + ENTER to compute\n",
    "3+3 # result is an integer"
   ]
  },
  {
   "cell_type": "code",
   "execution_count": null,
   "metadata": {},
   "outputs": [],
   "source": [
    "3.1 + 3 # result is a float"
   ]
  },
  {
   "cell_type": "markdown",
   "metadata": {},
   "source": [
    "One error of approximation can be easily seen with floats:"
   ]
  },
  {
   "cell_type": "code",
   "execution_count": null,
   "metadata": {},
   "outputs": [],
   "source": [
    "3.1 + 3.2"
   ]
  },
  {
   "cell_type": "markdown",
   "metadata": {},
   "source": [
    "Why is there this `1*10^(-15)` ? It's a little complicated but the representation of your float is binary and there are some little mistake of approximation when it's not an _even_ number in binary representation (like 0.3 here). I won't go further with this, it's totally out of subject and it's more how your computer works..."
   ]
  },
  {
   "cell_type": "markdown",
   "metadata": {},
   "source": [
    "#### Strings\n",
    "\n",
    "Another type you will use a lot is the string. You can store a bunch of letters, a sentence with quotation marks `\"Hello, World!\"` or with apostrophes `'Hello, World!\"` (or with triple quotation marks but we won't use it for this purpose, it's confusing and useless).\n",
    "\n",
    "You can also store in variable like everything."
   ]
  },
  {
   "cell_type": "code",
   "execution_count": null,
   "metadata": {},
   "outputs": [],
   "source": [
    "my_string = \"Hello, World\"\n",
    "my_string"
   ]
  },
  {
   "cell_type": "markdown",
   "metadata": {},
   "source": [
    "But what if I also want to put an apostrophe inside of my string? Good question. There is an escaping symbol and it's the __backslash__ `\\`. So if you want to write _I'm here baby_:"
   ]
  },
  {
   "cell_type": "code",
   "execution_count": null,
   "metadata": {},
   "outputs": [],
   "source": [
    "my_string = 'I\\'m here baby'\n",
    "my_string"
   ]
  },
  {
   "cell_type": "markdown",
   "metadata": {},
   "source": [
    "But if you use quotation marks, it's facultative to write the backslash : `my_string = \"I'm here baby\"` will work fine.\n",
    "\n",
    "If you don't use the backslash with apostrophes, Python will think that your string ends after _I_ and that you write some random letters after. And it creates an error :"
   ]
  },
  {
   "cell_type": "code",
   "execution_count": null,
   "metadata": {},
   "outputs": [],
   "source": [
    "my_string = 'I'm here baby'"
   ]
  },
  {
   "cell_type": "markdown",
   "metadata": {},
   "source": [
    "You can also see the color changing which indicates you that something is wrong.\n",
    "\n",
    "To create a new line in your string, you have to use `\\n`. Python will interpret it correctly."
   ]
  },
  {
   "cell_type": "code",
   "execution_count": null,
   "metadata": {
    "scrolled": true
   },
   "outputs": [],
   "source": [
    "my_string = 'Hello\\nWorld\\n!'\n",
    "my_string"
   ]
  },
  {
   "cell_type": "markdown",
   "metadata": {},
   "source": [
    "Why doesn't it work? Because we directly write in the interpreter. 5 minutes and you will know how to display it in a good way.\n",
    "\n",
    "Another thing: you can add strings together like this:"
   ]
  },
  {
   "cell_type": "code",
   "execution_count": null,
   "metadata": {},
   "outputs": [],
   "source": [
    "first_word = \"Hello\"\n",
    "second_word = \"World\"\n",
    "third_word = \", I'm fine\"\n",
    "#first_word + second_word\n",
    "first_word + second_word"
   ]
  },
  {
   "cell_type": "markdown",
   "metadata": {},
   "source": [
    "You just see that there is no spaces. If you want it, you have to add it in one of your two strings."
   ]
  },
  {
   "cell_type": "code",
   "execution_count": null,
   "metadata": {},
   "outputs": [],
   "source": [
    "first_word = \"Hello \"\n",
    "second_word = \"World\"\n",
    "first_word + second_word"
   ]
  },
  {
   "cell_type": "markdown",
   "metadata": {},
   "source": [
    "#### Booleans\n",
    "\n",
    "Booleans is the basis for conditional programming. You can test if a condition is ``True`` or ``False``. Python will return these two words that you can also use yourself to affect a variable with booleans. If you write without the uppercase _T_ or _F_, Python won't understand.\n",
    "\n",
    "You have different operands to test the condition :\n",
    "- ``<`` : strictly inferior\n",
    "- ``>`` : strictly superior\n",
    "- ``<=`` : inferior or equal\n",
    "- ``>=`` : superior or equal\n",
    "- ``==`` : equal\n",
    "- ``!=`` : different"
   ]
  },
  {
   "cell_type": "code",
   "execution_count": null,
   "metadata": {},
   "outputs": [],
   "source": [
    "a = True\n",
    "b = False # see the different colors of these specials words.\n",
    "\n",
    "a = true\n",
    "b = false # incorrect, the words aren't highlighten"
   ]
  },
  {
   "cell_type": "code",
   "execution_count": null,
   "metadata": {},
   "outputs": [],
   "source": [
    "# CTRL + ENTER\n",
    "1 != 0"
   ]
  },
  {
   "cell_type": "markdown",
   "metadata": {},
   "source": [
    "Be careful, to verify if it's equal, it's `==` and to affect a value to a variable it's `=`. It is one of the most common error when beginning to program"
   ]
  },
  {
   "cell_type": "code",
   "execution_count": null,
   "metadata": {},
   "outputs": [],
   "source": [
    "a = 1 # affect the value\n",
    "a == 1 # verify if it's true or not"
   ]
  },
  {
   "cell_type": "markdown",
   "metadata": {},
   "source": [
    "### Little useful tricks\n",
    "\n",
    "You remember when I did `age = age + 1`? There is a little trick to go faster because programming is for lazy people!"
   ]
  },
  {
   "cell_type": "code",
   "execution_count": null,
   "metadata": {},
   "outputs": [],
   "source": [
    "age = 26\n",
    "age += 1 # it's the same as age = age + 1\n",
    "age"
   ]
  },
  {
   "cell_type": "markdown",
   "metadata": {},
   "source": [
    "It works also for ``-=``, ``*=`` and ``/=`` but that's not as usual as ``+=`` !"
   ]
  },
  {
   "cell_type": "markdown",
   "metadata": {},
   "source": [
    "Another trick is the permutation, when you want to exchange two values. With other languages, you have to call a third variable to permute but not with Python."
   ]
  },
  {
   "cell_type": "code",
   "execution_count": null,
   "metadata": {},
   "outputs": [],
   "source": [
    "# way in other other languages\n",
    "a = 20\n",
    "b = 30\n",
    "c = a\n",
    "a = b\n",
    "b = c\n",
    "\n",
    "a "
   ]
  },
  {
   "cell_type": "code",
   "execution_count": null,
   "metadata": {},
   "outputs": [],
   "source": [
    "b"
   ]
  },
  {
   "cell_type": "code",
   "execution_count": null,
   "metadata": {},
   "outputs": [],
   "source": [
    "# Python way\n",
    "\n",
    "a = 20\n",
    "b = 30\n",
    "a, b = b, a\n",
    "\n",
    "a"
   ]
  },
  {
   "cell_type": "code",
   "execution_count": null,
   "metadata": {},
   "outputs": [],
   "source": [
    "a = b = 20\n",
    "a"
   ]
  },
  {
   "cell_type": "markdown",
   "metadata": {},
   "source": [
    "You can also affect the same value to several variables with `a = b = 20`"
   ]
  },
  {
   "cell_type": "markdown",
   "metadata": {},
   "source": [
    "## 2.2.2. Introduction to functions\n",
    "\n",
    "I will introduce functions here but there will be in the second part a whole chapter for functions.\n",
    "\n",
    "Functions are here to execute several instructions (lines of code) just calling its name. You choose its little name and after you can call it as often as you want without write all the instructions inside.\n",
    "\n",
    "Most of the functions need at least parameter to work. These parameters allow the function to work directly on the data you enter. 7\n",
    "\n",
    "Functions are called with this syntax : `name_of_function(parameter_1, parameter_2, ..., parameter_n)`. So you begin writting the name of the function and after, you place parenthesis even if there is no parameters.\n",
    "\n",
    "If it's blurry in your mind. It's because I just explained with words what's better with example.\n",
    "\n",
    "### ``type`` function\n",
    "\n",
    "Just before, we see different types of variables and the ``type`` function returns what ... type is the variable obviously! You just write ``type(name_variable)`` and you get the result."
   ]
  },
  {
   "cell_type": "code",
   "execution_count": null,
   "metadata": {},
   "outputs": [],
   "source": [
    "a = True\n",
    "type(a) # name of the function and parenthesis"
   ]
  },
  {
   "cell_type": "markdown",
   "metadata": {},
   "source": [
    "It also work directly with number without calling a variable :"
   ]
  },
  {
   "cell_type": "code",
   "execution_count": null,
   "metadata": {},
   "outputs": [],
   "source": [
    "a = 5\n",
    "print(a)"
   ]
  },
  {
   "cell_type": "markdown",
   "metadata": {},
   "source": [
    "``int`` is the abbreviation of integer, `float` for floating number and ``str`` for strings. We call the type of the variable : the __class__. I just say this to you now to do inception in your mind for the third part ...\n",
    "\n",
    "### ``print`` function\n",
    "\n",
    "This function allows you to display, in a correct way, what you want. Not just by typing the name of the variable. And when we will work out of the interpreter, just writing the name of the variable won't display it anymore. You remember also that to display a new line, we have to write `\\n`. So with print, it will work well.\n",
    "\n",
    "The number of parameters inside the function depends on what you want to do!"
   ]
  },
  {
   "cell_type": "code",
   "execution_count": null,
   "metadata": {},
   "outputs": [],
   "source": [
    "a = 3\n",
    "print(a)\n",
    "a = a + 3\n",
    "b = a - 2\n",
    "print(\"a =\", a, \"and b =\", b)"
   ]
  },
  {
   "cell_type": "markdown",
   "metadata": {},
   "source": [
    "You see all the power of ``print``. The first call just display the value of the variable ``a``. The second call takes 4 parameters : two strings and two variables separated by a space. Bring back the example of \"Hello World!\" with new lines :"
   ]
  },
  {
   "cell_type": "code",
   "execution_count": null,
   "metadata": {},
   "outputs": [],
   "source": [
    "my_string = 'Hello\\nWorld\\n!'\n",
    "print(my_string)"
   ]
  },
  {
   "cell_type": "markdown",
   "metadata": {},
   "source": [
    "### `round`\n",
    "\n",
    "round(number, 1)"
   ]
  },
  {
   "cell_type": "code",
   "execution_count": null,
   "metadata": {},
   "outputs": [],
   "source": [
    "round(3.1 + 3.2, 1)"
   ]
  }
 ],
 "metadata": {
  "kernelspec": {
   "display_name": "Python 3",
   "language": "python",
   "name": "python3"
  },
  "language_info": {
   "codemirror_mode": {
    "name": "ipython",
    "version": 3
   },
   "file_extension": ".py",
   "mimetype": "text/x-python",
   "name": "python",
   "nbconvert_exporter": "python",
   "pygments_lexer": "ipython3",
   "version": "3.7.3"
  }
 },
 "nbformat": 4,
 "nbformat_minor": 4
}
