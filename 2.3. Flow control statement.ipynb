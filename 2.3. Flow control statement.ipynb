{
 "cells": [
  {
   "cell_type": "markdown",
   "metadata": {},
   "source": [
    "# 2.3. Flow control statement\n",
    "\n",
    "We just executed some instructions without too much purposes. But it will be good if we can get some better things to do, or execute something if a condition is filled. \n",
    "\n",
    "That's why we have a conditional statement, like in any other languages also...\n",
    "\n",
    "Perhaps you feel a little confused and where we're going, that's slow but you could at the end of this first part, create a little script to do a specific task.\n",
    "\n",
    "## 2.3.1. `if`-statement\n",
    "\n",
    "We begin with an example and we will explain every line of it. You already saw it but I write a lot of `# something`. That's a comment and it's ignored by Python. It's just for us, to explain the code, to precise something. Comments are really important because when you will write a script and after three months you have to change something, you will forget all what you knew about it and the comments are here to remind you what was the purpose of a function, of your script ..."
   ]
  },
  {
   "cell_type": "code",
   "execution_count": null,
   "metadata": {},
   "outputs": [],
   "source": [
    "# First example : CTRL+ENTER to execute\n",
    "a = -5\n",
    "if a < 0: # condition to verify if a is negative\n",
    "    print(\"a is inferior 0\")\n",
    "    #statements block\n",
    "    "
   ]
  },
  {
   "cell_type": "markdown",
   "metadata": {},
   "source": [
    "1. First line is a comment ignored by the interpreter\n",
    "2. Affect 5 to the variable a\n",
    "3. Here is the conditional statement :\n",
    "    1. `if` keyword to call a condition\n",
    "    2. `a > 0`  is the condition we test. You can use all the boolean operators we saw before.\n",
    "    3. `:` these two points are important and Python will return you an error if you forget them.\n",
    "4. The __statements block__ you want to execute in case a is greater than 0. It will simply print _a is greater than 0_. You see that the text is __indented__.\n",
    "\n",
    "Two important notions here: the __statements block__ and __indentation__.\n",
    "Indentation are compulsory in Python. Else the interpreter won't understand that you are in your statements block.\n",
    "\n",
    "### Full form (`if`, `elif` and `else`)\n",
    "\n",
    "If we just use `if`, it can be limited. You just ask your script a condition and nothing happens if the condition is not filled. Or you have to write another `if` statement with another condition... The first word which is useful is `else`. If your condition is not filled, it will execute the `else` statement. If you script enter in the `if`-statements block, it's impossible to execute what's in the `else`-statements block.\n",
    "\n",
    "When we come again with the example :\n"
   ]
  },
  {
   "cell_type": "code",
   "execution_count": null,
   "metadata": {},
   "outputs": [],
   "source": [
    "a = 0\n",
    "if a > 0:\n",
    "    print(\"a is stricly superior to 0.\")\n",
    "else:\n",
    "    print(\"a is inferior or equal to 0.\")"
   ]
  },
  {
   "cell_type": "markdown",
   "metadata": {},
   "source": [
    "And what if we want to also say that the variable is equal to zero? We will use the keyword `elif` which is a contraction of _else if_. So our script is now :"
   ]
  },
  {
   "cell_type": "code",
   "execution_count": null,
   "metadata": {},
   "outputs": [],
   "source": [
    "a = -4\n",
    "if a > 0:\n",
    "    print(\"a is superior to 0.\")\n",
    "elif a < -5:\n",
    "    print(\"a is inferior to -5.\")\n",
    "elif a < 0:\n",
    "    print(\"a is inferior to 0.\")\n",
    "else:\n",
    "    print(\"a is equal to 0.\")"
   ]
  },
  {
   "cell_type": "markdown",
   "metadata": {},
   "source": [
    "You can write as many `elif` as you want and just one `else` at the end but there are facultative like in the first example. There is no else or elif and the condition works! Nothing happens when the condition is not filled, that's all.\n",
    "\n",
    "### Keywords `and`, `or` and `is`, `not`\n",
    "\n",
    "A lot of time, you will have to test several conditions to execute statements like verify that a variable is in an interval. With just what we learned :"
   ]
  },
  {
   "cell_type": "code",
   "execution_count": null,
   "metadata": {},
   "outputs": [],
   "source": [
    "# Verify if a is in the interval [2; 8]\n",
    "a = 9\n",
    "if a >= 2:\n",
    "    if a <= 8:\n",
    "        print(\"a is in the interval.\")\n",
    "    else:\n",
    "        print(\"a is not in the interval.\")\n",
    "else:\n",
    "    print(\"a is not in the interval.\")"
   ]
  },
  {
   "cell_type": "markdown",
   "metadata": {},
   "source": [
    "But there is the little word called `and` which can accomplish the two conditions in just one line. It will search if `a >= 2` and `a <= 8` faster."
   ]
  },
  {
   "cell_type": "code",
   "execution_count": null,
   "metadata": {},
   "outputs": [],
   "source": [
    "a = 5\n",
    "if a >= 2 and a <= 8:\n",
    "    print(\"a is in the interval.\")\n",
    "else:\n",
    "    print(\"a is not in the interval.\")"
   ]
  },
  {
   "cell_type": "markdown",
   "metadata": {},
   "source": [
    "It's better, faster, stronger. You understand better directly when you see it. Another useful word is `or`. If one or more of the conditions are True, it will execute the statements block. Applying to our example :"
   ]
  },
  {
   "cell_type": "code",
   "execution_count": null,
   "metadata": {},
   "outputs": [],
   "source": [
    "a = 0\n",
    "if a < 2 or a > 8:\n",
    "    print(\"a is not in the interval.\")\n",
    "else:\n",
    "    print(\"a is in the interval.\")"
   ]
  },
  {
   "cell_type": "markdown",
   "metadata": {},
   "source": [
    "The keyword `not` will give the opposite result if you test something. It's clearer when you test directly booleans. It works also for numbers but with the operator `!=` (different to), you have the same result. So `not a == 5` is equivalent to `a != 5`. Not really useful here an easy example :"
   ]
  },
  {
   "cell_type": "code",
   "execution_count": null,
   "metadata": {},
   "outputs": [],
   "source": [
    "adult = False\n",
    "if adult is not True:\n",
    "    print(\"You're a child.\")"
   ]
  },
  {
   "cell_type": "markdown",
   "metadata": {},
   "source": [
    "You also see the little word `is` which will be better for this kind of situation. If we go deep in Python, `is` is different from `==` but for integer, float and boolean, it's the same. Just remember that."
   ]
  },
  {
   "cell_type": "markdown",
   "metadata": {},
   "source": [
    "## 2.3.2. Exercise : Leap year\n",
    "\n",
    "Open PyCharm, create a new project and call it ``leap_year.py``. Here we go.\n",
    "\n",
    "\n",
    "### Subject\n",
    "\n",
    "The user (here it will be you) will write a year and your script will display if the year the user wrote if a leap year (2000, 2004, ...) or not (all the others years).\n",
    "\n",
    "There are rules which exist to know if it's leap year or not, I don't let you with just this! Here are they:\n",
    "- If a year is not a multiple of 4, you stop, it's not a leap year.\n",
    "- If the year is a multiple of 4, you have to see if it's a multiple of 100.\n",
    "    - If it's the case, you have to watch if it's a multiple of 400.\n",
    "        - If it's the case, that's a leap year.\n",
    "        - Else the year is not.\n",
    "    - Else, that's a leap year.\n",
    "\n",
    "I wrote for you the algorithm part. Now you have to translate it into Python language. However, you don't know some things to get what you want.\n",
    "\n",
    "#### ``input()`` and ``int()``\n",
    "\n",
    "The function ``input()`` allow the user to write something, to interact with the script. you have to save the result in a variable :"
   ]
  },
  {
   "cell_type": "code",
   "execution_count": null,
   "metadata": {},
   "outputs": [],
   "source": [
    "# Test of input\n",
    "year = input(\"Write a year: \")\n",
    "print(\"year:\", year)\n",
    "print(\"type of year:\",type(year))"
   ]
  },
  {
   "cell_type": "markdown",
   "metadata": {},
   "source": [
    "Yes, when you use the `input` function, it returns a string... So we have also the function `int()` which takes a variable in parameter and returns an integer as result :"
   ]
  },
  {
   "cell_type": "code",
   "execution_count": null,
   "metadata": {},
   "outputs": [],
   "source": [
    "year = input(\"Write a year: \")\n",
    "year = int(year)\n",
    "print(\"year:\", year)\n",
    "print(\"type of year:\",type(year))"
   ]
  },
  {
   "cell_type": "markdown",
   "metadata": {},
   "source": [
    "Riiight, now we're good. Just a last advice: to test a multiple, you just have to see if the rest of the division is equal to 0 (also called modulo ... `a % b`).\n",
    "\n",
    "You have all the cards in your hands, I let you alone with what you already learned ..."
   ]
  },
  {
   "cell_type": "markdown",
   "metadata": {},
   "source": [
    "#### Correction"
   ]
  },
  {
   "cell_type": "code",
   "execution_count": null,
   "id": "russian-imagination",
   "metadata": {},
   "outputs": [],
   "source": [
    "### LEAP YEAR\n",
    "\n",
    "# ask the user to write a year and convert into an int\n",
    "year = int(input('Write a year: '))\n",
    "\n",
    "if year % 4 != 0:\n",
    "    print(year, 'is not a leap year')\n",
    "else:\n",
    "    if year % 100 == 0:\n",
    "        if year % 400 == 0:\n",
    "            print(year, 'is a leap year')\n",
    "        else:\n",
    "            print(year, 'is not a leap year')\n",
    "    else:\n",
    "        print(year, 'is a leap year')"
   ]
  },
  {
   "cell_type": "markdown",
   "metadata": {},
   "source": [
    "## 2.3.3. The loops\n",
    "\n",
    "Loops allow you to repeat a task as much as you want. Concept is a little strange at first but you'll understand.\n",
    "\n",
    "We can, for example, get any character from a string...\n",
    "\n",
    "Firstly, if I ask you to display the multiplication table of 3 from 1\\*3 to 5\\*3, how do you proceed?"
   ]
  },
  {
   "cell_type": "code",
   "execution_count": null,
   "metadata": {},
   "outputs": [],
   "source": [
    "# your turn to write :\n",
    "print('1*3=',1*3)\n",
    "print('2*3=',2*3)"
   ]
  },
  {
   "cell_type": "markdown",
   "metadata": {},
   "source": [
    "Now, if I ask you to write the multiplication table of 4 from 1\\*4 to 5\\*4 but smarter using a variable in case I ask you after to write with 5 or 6..."
   ]
  },
  {
   "cell_type": "code",
   "execution_count": null,
   "metadata": {},
   "outputs": [],
   "source": [
    "nb = 4\n",
    "print('1 *', nb, '=', nb*1)\n",
    "print('2 *', nb, '=', nb*2)\n",
    "print('3 *', nb, '=', nb*3)\n",
    "print('4 *', nb, '=', nb*4)\n",
    "print('5 *', nb, '=', nb*5)"
   ]
  },
  {
   "cell_type": "markdown",
   "metadata": {},
   "source": [
    "It's smarter but not efficient at all. That's why we'll use the loops!\n",
    "\n",
    "### `while`-loop\n",
    "\n",
    "This loop execute a __indented statements block__ while the condition you wrote is __True__. If someone has a question about these notions, ask me now."
   ]
  },
  {
   "cell_type": "code",
   "execution_count": null,
   "metadata": {},
   "outputs": [],
   "source": [
    "while condition:\n",
    "    # statement 1\n",
    "    # statement 2\n",
    "    #...\n",
    "\n"
   ]
  },
  {
   "cell_type": "markdown",
   "metadata": {},
   "source": [
    "What kind of condition can we write? In our example of multiplication table of 3 from 1 to 5, we'll increment a variable each time we go in the `while`-loop until this variable is greater than 5."
   ]
  },
  {
   "cell_type": "code",
   "execution_count": null,
   "metadata": {},
   "outputs": [],
   "source": [
    "table_number = 3 # the table of multiplication we want to display\n",
    "i = 0 # initialization of the variable which will be incremented\n",
    "\n",
    "while i < 5: # condition for the variable\n",
    "    print(i + 1, \"x\", table_number, \"=\", (i + 1) * table_number)\n",
    "    i += 1 # we increment our counter"
   ]
  },
  {
   "cell_type": "markdown",
   "metadata": {},
   "source": [
    "Line by line :\n",
    "1. Affecting the value 3 for the multiplication table\n",
    "2. That's our counter. We initialize it at 0. Why 0? It's an habit of programming you have to get in Python. You'll understand when we'll see lists. For the people who know about Matlab, lists begin at 1 but in Python and some many other languages, lists begin at 0.\n",
    "3. Appreciating a line break for readibility\n",
    "4. Our first line of while loop with the condition : while our counter is stricly inferior to 5. And don't forget the two points (colon).\n",
    "5. The indented block begin here with the `print` function. I let you understand.\n",
    "6. Most important part: we increment the counter. Each time, `i` variable will go from 0 to 1, then 1 to 2, ... until the condition ``i < 5`` become ``False``. If we don't do it, it will be an infinite loop and we execute `while` statements until the user stop it with CTRL + C. "
   ]
  },
  {
   "cell_type": "markdown",
   "metadata": {},
   "source": [
    "### `for`-loop\n",
    "\n",
    "This statement works on sequences. It's specialized when you have to browse a sequence of multiple datas. One of a sequence we already saw together is the string. A string is a sequence of characters. We build a for-loop like this :"
   ]
  },
  {
   "cell_type": "code",
   "execution_count": null,
   "metadata": {},
   "outputs": [],
   "source": [
    "for element in sequence:\n",
    "    # statement 1\n",
    "    # ..."
   ]
  },
  {
   "cell_type": "markdown",
   "metadata": {},
   "source": [
    "`element` is a variable created by the `for`. You don't have to affect yourself. During the loop, `element` will take successively all the values  of the browsing sequence. For example with the string _Sain uu?_ :"
   ]
  },
  {
   "cell_type": "code",
   "execution_count": null,
   "metadata": {
    "scrolled": true
   },
   "outputs": [],
   "source": [
    "string = \"Sain uu?\"\n",
    "\n",
    "for letter in string:\n",
    "    print(letter)"
   ]
  },
  {
   "cell_type": "markdown",
   "metadata": {},
   "source": [
    "Here, no need to increment letter and no condition needed, it will do its job alone. You see here a new keyword: ``in``. It's not only used during `for`-loop but it can also used in a `if`-statement :"
   ]
  },
  {
   "cell_type": "code",
   "execution_count": null,
   "metadata": {},
   "outputs": [],
   "source": [
    "string = \"Sain uu?\"\n",
    "\n",
    "for letter in string:\n",
    "    if letter in \"AIUaiu\": \n",
    "        print(letter)\n",
    "    else:\n",
    "        print(\"*\")"
   ]
  },
  {
   "cell_type": "markdown",
   "metadata": {},
   "source": [
    "It verifies if a letter is in the string we write. If it's the case, condition become `True` and we execute the statement.\n",
    "\n",
    "#### `range()` in a `for`-loop\n",
    "\n",
    "A new function you will find useful is the `range()` one. It will be the role of a counter but in a `for`-loop. You don't have to increment your variable because it's a for-loop. Simple example, you want to count from 0 to 10 : "
   ]
  },
  {
   "cell_type": "code",
   "execution_count": null,
   "metadata": {
    "scrolled": true
   },
   "outputs": [],
   "source": [
    "for i in range(0, 11):\n",
    "    print(\"i =\", i)"
   ]
  },
  {
   "cell_type": "markdown",
   "metadata": {},
   "source": [
    "Explanation: ``range(0,11)`` create a sequence in which `i` will browse its values. First parameter is the _start_ number, second parameter is the _ending_ number BUT excluded. So it will go from 0 to 10, not 11. It is possible to add a third parameter which is the step between two numbers :"
   ]
  },
  {
   "cell_type": "code",
   "execution_count": null,
   "metadata": {},
   "outputs": [],
   "source": [
    "for i in range(0, 11, 2):\n",
    "    print(\"i =\", i)"
   ]
  },
  {
   "cell_type": "markdown",
   "metadata": {},
   "source": [
    "### Bonus : keywords `break` and `continue`\n",
    "\n",
    "#### `break` keyword\n",
    "\n",
    "The __break__ litteraly stops a loop, even if the condition of the loop is `True`. I use it personnaly sometimes but if can avoid it with a condition in the while, try this solution and not the _break_ one. It's clearer for a external viewer to see what your script does if you don't use the `break`. Little example of a break situation and also how to avoid it."
   ]
  },
  {
   "cell_type": "code",
   "execution_count": null,
   "metadata": {},
   "outputs": [],
   "source": [
    "# Solution with a break\n",
    "while 1: # 1 is always True -> infinite loop\n",
    "    letter = input(\"Write 'Q' to quit : \")\n",
    "    if letter == \"Q\":\n",
    "        print(\"I quit.\")\n",
    "        break\n",
    "               \n",
    "print('End of program')"
   ]
  },
  {
   "cell_type": "code",
   "execution_count": null,
   "metadata": {},
   "outputs": [],
   "source": [
    "# Solution without a break\n",
    "answer = True\n",
    "while answer:\n",
    "    letter = input(\"Write 'Q' to quit :\")\n",
    "    if letter == \"Q\":\n",
    "        print('I quit.')\n",
    "        answer = False\n",
    "\n",
    "print('End of program')"
   ]
  },
  {
   "cell_type": "markdown",
   "metadata": {},
   "source": [
    "#### `continue` keyword\n",
    "\n",
    "This keyword, when read by Python, will go back to the ``while``/``for`` statement and ... continue the work until the condition is not ``True`` anymore. "
   ]
  },
  {
   "cell_type": "code",
   "execution_count": null,
   "metadata": {},
   "outputs": [],
   "source": [
    "i = 1\n",
    "while i < 20:\n",
    "    if i % 3 == 0:\n",
    "        i += 4 \n",
    "        print(\"We increment i with 4. i is now equal to\", i)\n",
    "        continue \n",
    "        \n",
    "    print(\"The variable i =\", i)\n",
    "    i += 1"
   ]
  },
  {
   "cell_type": "markdown",
   "metadata": {},
   "source": [
    "Sometimes you will find this keywords useful, or you'll never use it in your whole life, it depends on your coding style."
   ]
  },
  {
   "cell_type": "markdown",
   "metadata": {},
   "source": [
    "## 2.3.4. Exercises\n",
    "\n",
    "#### 1. Write a script to invert a word \n",
    "\n",
    "\"cool\" becomes \"looc\".\n"
   ]
  },
  {
   "cell_type": "code",
   "execution_count": null,
   "metadata": {},
   "outputs": [],
   "source": [
    "# 1. inverted word (CTRL+ENTER to launch)\n",
    "\n",
    "word = \"Dedpython\"\n",
    "inverted_word = \"\""
   ]
  },
  {
   "cell_type": "markdown",
   "metadata": {},
   "source": [
    "#### 2. Write a script to compute the difference between the square of the sum and the sum of the squares of the first N natural numbers given by a user.\n",
    "\n",
    "Ex : 5 gives the result 170"
   ]
  },
  {
   "cell_type": "code",
   "execution_count": null,
   "metadata": {},
   "outputs": [],
   "source": [
    "# 2. Difference between square of the sum and sum of the square \n"
   ]
  },
  {
   "cell_type": "markdown",
   "metadata": {},
   "source": [
    "#### Correction"
   ]
  },
  {
   "cell_type": "code",
   "execution_count": null,
   "metadata": {},
   "outputs": [],
   "source": [
    "# 1. inverted word\n",
    "\n",
    "word = \"kebab\"\n",
    "inverted_word = \"\"\n",
    "\n",
    "for letter in word:\n",
    "    inverted_word = letter + inverted_word\n",
    "    \n",
    "print(inverted_word)"
   ]
  },
  {
   "cell_type": "code",
   "execution_count": null,
   "metadata": {},
   "outputs": [],
   "source": [
    "# 2. Difference between square of the sum and sum of the square \n",
    "\n",
    "n = int(input(\"Give a natural number : \"))\n",
    "square_sums = 0\n",
    "sum_squares = 0\n",
    "for i in range(1,n+1):\n",
    "    square_sums += i\n",
    "    sum_squares += i * i\n",
    "print(square_sums*square_sums - sum_squares)"
   ]
  }
 ],
 "metadata": {
  "kernelspec": {
   "display_name": "Python 3",
   "language": "python",
   "name": "python3"
  },
  "language_info": {
   "codemirror_mode": {
    "name": "ipython",
    "version": 3
   },
   "file_extension": ".py",
   "mimetype": "text/x-python",
   "name": "python",
   "nbconvert_exporter": "python",
   "pygments_lexer": "ipython3",
   "version": "3.7.3"
  }
 },
 "nbformat": 4,
 "nbformat_minor": 4
}
