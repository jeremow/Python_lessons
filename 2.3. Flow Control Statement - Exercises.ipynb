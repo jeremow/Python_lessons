{
 "cells": [
  {
   "cell_type": "markdown",
   "metadata": {},
   "source": [
    "# 2.3. Flow Control Statement - Exercises\n",
    "\n",
    "## Warmup 1\n",
    "\n",
    "Print a text which is affected to a variable"
   ]
  },
  {
   "cell_type": "code",
   "execution_count": 4,
   "metadata": {},
   "outputs": [],
   "source": [
    "# your script here : CTRL + ENTER to run\n"
   ]
  },
  {
   "cell_type": "markdown",
   "metadata": {},
   "source": [
    "## Warmup 2\n",
    "\n",
    "Transform your age into the good type to print it : \n",
    "```\n",
    "age = 26\n",
    "text = \"You're \" + ... + \" now!\"\n",
    "```"
   ]
  },
  {
   "cell_type": "code",
   "execution_count": null,
   "metadata": {},
   "outputs": [],
   "source": [
    "# your script here : CTRL + ENTER to run\n",
    "\n"
   ]
  },
  {
   "cell_type": "markdown",
   "metadata": {},
   "source": [
    "## Warmup 3\n",
    "\n",
    "Ask a user his name and print it."
   ]
  },
  {
   "cell_type": "code",
   "execution_count": null,
   "metadata": {},
   "outputs": [],
   "source": [
    "# your script here : CTRL + ENTER to run\n",
    "\n"
   ]
  },
  {
   "cell_type": "markdown",
   "metadata": {},
   "source": [
    "## Warmup 4\n",
    "\n",
    "Create a converter that will ask for amount of days and convert it to years, then print it.\n",
    "\n",
    "Using int() function convert the user's answer to integer. And then make your calculation."
   ]
  },
  {
   "cell_type": "code",
   "execution_count": null,
   "metadata": {},
   "outputs": [],
   "source": [
    "# your script here : CTRL + ENTER to run\n",
    "\n"
   ]
  },
  {
   "cell_type": "markdown",
   "metadata": {},
   "source": [
    "## Warmup 5\n",
    "\n",
    "Let's create the same converter this time with float() function instead of int()."
   ]
  },
  {
   "cell_type": "code",
   "execution_count": null,
   "metadata": {},
   "outputs": [],
   "source": [
    "# your script here : CTRL + ENTER to run\n",
    "\n"
   ]
  },
  {
   "cell_type": "markdown",
   "metadata": {},
   "source": [
    "## Exercise 1\n",
    "\n",
    "Print \"Hello World\" if a is greater than b."
   ]
  },
  {
   "cell_type": "code",
   "execution_count": null,
   "metadata": {},
   "outputs": [],
   "source": [
    "# your script here : CTRL + ENTER to run\n",
    "\n",
    "a = 15\n",
    "b = 25\n",
    "\n"
   ]
  },
  {
   "cell_type": "markdown",
   "metadata": {},
   "source": [
    "## Exercise 2\n",
    "\n",
    "Print i as long as i is less than 6."
   ]
  },
  {
   "cell_type": "code",
   "execution_count": null,
   "metadata": {},
   "outputs": [],
   "source": [
    "# your script here : CTRL + ENTER to run\n",
    "\n"
   ]
  },
  {
   "cell_type": "markdown",
   "metadata": {},
   "source": [
    "## Exercise 3\n",
    "\n",
    "Loop/Browse through a string. Each time the letter __a__ appears, print \"Hey, I'm here\"."
   ]
  },
  {
   "cell_type": "code",
   "execution_count": null,
   "metadata": {},
   "outputs": [],
   "source": [
    "# your script here : CTRL + ENTER to run\n",
    "\n"
   ]
  },
  {
   "cell_type": "markdown",
   "metadata": {},
   "source": [
    "## Exercise 4\n",
    "\n",
    "Given two integer numbers, print their product. If the product is greater than 1000, then print their sum"
   ]
  },
  {
   "cell_type": "code",
   "execution_count": null,
   "metadata": {},
   "outputs": [],
   "source": [
    "# your script here : CTRL + ENTER to run\n",
    "\n",
    "a = 15\n",
    "b = 25\n",
    "\n"
   ]
  },
  {
   "cell_type": "markdown",
   "metadata": {},
   "source": [
    "## Exercise 5\n",
    "\n",
    "Given a __range__ of the first 10 numbers, Iterate from the start number to the end number, and In each iteration print the sum of the current number and previous number."
   ]
  },
  {
   "cell_type": "code",
   "execution_count": null,
   "metadata": {},
   "outputs": [],
   "source": [
    "# your script here : CTRL + ENTER to run\n",
    "\n"
   ]
  },
  {
   "cell_type": "markdown",
   "metadata": {},
   "source": [
    "## Exercise 6\n",
    "\n",
    "Print the following pattern\n",
    "``` \n",
    "1 \n",
    "2 2 \n",
    "3 3 3 \n",
    "4 4 4 4 \n",
    "5 5 5 5 5 \n",
    "```"
   ]
  },
  {
   "cell_type": "code",
   "execution_count": null,
   "metadata": {},
   "outputs": [],
   "source": [
    "# your script here : CTRL + ENTER to run\n",
    "\n"
   ]
  },
  {
   "cell_type": "markdown",
   "metadata": {},
   "source": [
    "## Exercise 7\n",
    "\n",
    "Print each digit from an integer in the reverse order (For example 1234 : 4 3 2 1).\n",
    "Think about what does ``number % 10``..."
   ]
  },
  {
   "cell_type": "code",
   "execution_count": null,
   "metadata": {},
   "outputs": [],
   "source": [
    "# your script here : CTRL + ENTER to run\n",
    "\n"
   ]
  },
  {
   "cell_type": "markdown",
   "metadata": {},
   "source": [
    "## Exercise 8\n",
    "\n",
    "Calculate income tax for the given income by adhering to the below rules :\n",
    "\n",
    "| Taxable Income      | Rate (in %) |\n",
    "| :---      | ----   |\n",
    "| First 500,000T      | 0       |\n",
    "| Between 500,000 and 1,000,000T  | 10        |\n",
    "| After 1,000,000T | 20 |"
   ]
  },
  {
   "cell_type": "code",
   "execution_count": null,
   "metadata": {},
   "outputs": [],
   "source": [
    "# your script here : CTRL + ENTER to run\n",
    "\n",
    "income = 1500000\n",
    "\n"
   ]
  },
  {
   "cell_type": "markdown",
   "metadata": {},
   "source": [
    "## Exercise 9\n",
    "\n",
    "Print multiplication table form 1 to 10 like this :\n",
    "```\n",
    "1:  1 2 3 4 5 6 7 8 9 10 \t\t\n",
    "2:  2 4 6 8 10 12 14 16 18 20 \t\t\n",
    "3:  3 6 9 12 15 18 21 24 27 30 \t\t\n",
    "4:  4 8 12 16 20 24 28 32 36 40 \t\t\n",
    "5:  5 10 15 20 25 30 35 40 45 50 \t\t\n",
    "6:  6 12 18 24 30 36 42 48 54 60 \t\t\n",
    "7:  7 14 21 28 35 42 49 56 63 70 \t\t\n",
    "8:  8 16 24 32 40 48 56 64 72 80 \t\t\n",
    "9:  9 18 27 36 45 54 63 72 81 90 \t\t\n",
    "10: 10 20 30 40 50 60 70 80 90 100\n",
    "```"
   ]
  },
  {
   "cell_type": "code",
   "execution_count": null,
   "metadata": {},
   "outputs": [],
   "source": [
    "# your script here : CTRL + ENTER to run\n",
    "\n"
   ]
  },
  {
   "cell_type": "markdown",
   "metadata": {},
   "source": [
    "## Exercise 10\n",
    "\n",
    "For a given word, add a star \\* after every letter of the word and print it at the end.\n",
    "Example: ``word = 'python'`` gives `p*y*t*h*o*n*`"
   ]
  },
  {
   "cell_type": "code",
   "execution_count": null,
   "metadata": {},
   "outputs": [],
   "source": [
    "# your script here : CTRL + ENTER to run\n",
    "\n"
   ]
  },
  {
   "cell_type": "markdown",
   "metadata": {},
   "source": [
    "## Exercise 11\n",
    "\n",
    "Count all letters, digits, and special symbols from a given string\n",
    "\n",
    "Given:\n",
    "\n",
    "```\n",
    "str1 = \"P@#yn26at^&i5ve\"\n",
    "```\n",
    "\n",
    "Expected Outcome:\n",
    "\n",
    "```\n",
    "Total counts of chars, digits,and symbols \n",
    "\n",
    "Chars = 8 \n",
    "Digits = 3 \n",
    "Symbol = 4\n",
    "```\n",
    "\n",
    "The __method__ to find letters for a string is : `isalpha()` and to find numbers : `isnumeric()`.\n",
    "\n",
    "Example: "
   ]
  },
  {
   "cell_type": "code",
   "execution_count": 3,
   "metadata": {
    "scrolled": true
   },
   "outputs": [
    {
     "name": "stdout",
     "output_type": "stream",
     "text": [
      "True\n",
      "False\n"
     ]
    }
   ],
   "source": [
    "string = \"A\"\n",
    "print(string.isalpha())\n",
    "print(string.isnumeric())"
   ]
  },
  {
   "cell_type": "code",
   "execution_count": null,
   "metadata": {},
   "outputs": [],
   "source": [
    "# your script here : CTRL + ENTER to run\n",
    "\n"
   ]
  },
  {
   "cell_type": "markdown",
   "metadata": {},
   "source": [
    "## Exercise 12\n",
    "\n",
    "Write a script that asks the user to enter their name and their age. Print out a message addressed to them that tells them the year that they will turn 100 years old."
   ]
  },
  {
   "cell_type": "code",
   "execution_count": null,
   "metadata": {},
   "outputs": [],
   "source": [
    "# your script here : CTRL + ENTER to run\n",
    "\n"
   ]
  },
  {
   "cell_type": "markdown",
   "metadata": {},
   "source": [
    "## Exercise 13\n",
    "\n",
    "Ask the user for a number. Depending on whether the number is even or odd, print out an appropriate message to the user."
   ]
  },
  {
   "cell_type": "code",
   "execution_count": null,
   "metadata": {},
   "outputs": [],
   "source": [
    "# your script here : CTRL + ENTER to run\n",
    "\n"
   ]
  },
  {
   "cell_type": "markdown",
   "metadata": {},
   "source": [
    "## Exercise 14\n",
    "\n",
    "Write a script which will print Fizz / Buzz or FizzBuzz from a user given input.\n",
    "\n",
    "    If the number is divisible by 3, it should print “Fizz”.\n",
    "    If it is divisible by 5, it should print “Buzz”.\n",
    "    If it is divisible by both 3 and 5, it should print “FizzBuzz”.\n",
    "    Otherwise, it should print the number.\n"
   ]
  },
  {
   "cell_type": "code",
   "execution_count": null,
   "metadata": {},
   "outputs": [],
   "source": [
    "# your script here : CTRL + ENTER to run\n",
    "\n"
   ]
  },
  {
   "cell_type": "markdown",
   "metadata": {},
   "source": [
    "## Exercise 15\n",
    "\n",
    "Make a two-player Rock-Paper-Scissors game. Ask the two players their names. Then ask them what they want to play. After I let you think about it. And to finish, print the result and the winner.\n",
    "\n",
    "Remember the rules:\n",
    "\n",
    "    Rock beats scissors\n",
    "    Scissors beats paper\n",
    "    Paper beats rock\n"
   ]
  }
 ],
 "metadata": {
  "kernelspec": {
   "display_name": "Python 3",
   "language": "python",
   "name": "python3"
  },
  "language_info": {
   "codemirror_mode": {
    "name": "ipython",
    "version": 3
   },
   "file_extension": ".py",
   "mimetype": "text/x-python",
   "name": "python",
   "nbconvert_exporter": "python",
   "pygments_lexer": "ipython3",
   "version": "3.7.3"
  }
 },
 "nbformat": 4,
 "nbformat_minor": 4
}
