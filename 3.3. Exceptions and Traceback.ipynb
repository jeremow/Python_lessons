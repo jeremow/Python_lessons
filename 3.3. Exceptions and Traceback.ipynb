{
 "cells": [
  {
   "cell_type": "markdown",
   "metadata": {},
   "source": [
    "# 3. Functions and modules\n",
    "\n",
    "We will apprehend now the exceptions in Python. A way to traceback the errors we can make."
   ]
  },
  {
   "cell_type": "markdown",
   "metadata": {},
   "source": [
    "## 3.3. Exceptions and traceback\n",
    "\n",
    "In this part, we'll see how Python can intercept errors. It's necessary in some cases to avoid your program to continue with a false result. There are soooo many options that you can learn here. But I'm not going too far. I will simplify to give the essentials and for the Python professionals, a lesson will be available at the end but facultative.\n",
    "\n",
    "Exceptions are the way we intercept the errors. Why do we care? Because it can be interesting to know what kind of errors and where it happened. But also if a user for example type a number instead of a string, we can intercept the error and ask him again.\n",
    "\n",
    "### The basics\n",
    "\n",
    "The basic error you all know is the division by zero. Impossible in pure computation. Let's see again."
   ]
  },
  {
   "cell_type": "code",
   "execution_count": null,
   "metadata": {},
   "outputs": [],
   "source": [
    "42/0"
   ]
  },
  {
   "cell_type": "markdown",
   "metadata": {},
   "source": [
    "What do we see here ?\n",
    "- It writes first the kind of error you did : `ZeroDivisionError`\n",
    "- Then you have the __Traceback__. It will trace you to the error, say you the line, the file, etc. Here we're in a interpreter so it's written `<ipython> in <module>`. But if you where in the file `bar.py`, it would be `bar.py in <module>`\n",
    "- Finally there is a few information more about the error. Here, no so much because it's a classic but we can another example."
   ]
  },
  {
   "cell_type": "code",
   "execution_count": null,
   "metadata": {},
   "outputs": [],
   "source": [
    "'Hello' + 5"
   ]
  },
  {
   "cell_type": "markdown",
   "metadata": {},
   "source": [
    "`TypeError` is a really basic error but here you can see some information about it `TypeError: can only concatenate str (not \"int\") to str`.\n",
    "\n",
    "What if you create a script and the error spread all over your functions ?"
   ]
  },
  {
   "cell_type": "code",
   "execution_count": null,
   "metadata": {},
   "outputs": [],
   "source": [
    "def say_hello(name):\n",
    "    sentence = 'hello ' + name\n",
    "    print(sentence)\n",
    "    \n",
    "def ask_name_and_say_hello():\n",
    "    name = input('What\\'s your name? ')\n",
    "    name = int(name) # so the problem won't be the user but the script itself. You don't convert name into integer.\n",
    "    say_hello(name)\n",
    "\n",
    "ask_name_and_say_hello()"
   ]
  },
  {
   "cell_type": "markdown",
   "metadata": {},
   "source": [
    "You can see here the traceback if from the most recent to the origin of the error. The script is nonsense but you can see Python give you all the traceback. I think the example is relevant and is alone enough to understand with all the functions."
   ]
  },
  {
   "cell_type": "markdown",
   "metadata": {},
   "source": [
    "### Intercept your own errors `try ... except`\n",
    "\n",
    "You can test some instructions and catch the error if it fails. The syntax is the following one:\n",
    "- `try:` with instructions indented below\n",
    "- `expect ...:` with the type of Error an then indented instructions. If you don't specify any Error, it will catch all possible errors. It isn't recommended at all."
   ]
  },
  {
   "cell_type": "code",
   "execution_count": null,
   "metadata": {},
   "outputs": [],
   "source": [
    "num = input('write an integer :')\n",
    "try:\n",
    "    num = int(num)\n",
    "\n",
    "except ValueError:\n",
    "    print('You enter a name instead of a number, take the value 0')\n",
    "    num = 0\n",
    "\n",
    "print(num)"
   ]
  },
  {
   "cell_type": "markdown",
   "metadata": {},
   "source": [
    "There are a lot of existing errors. The famous one are :\n",
    "- `NameError` if the variable you call doesn't exist\n",
    "- `TypeError` when you try to do something with the wrong type of variable"
   ]
  },
  {
   "cell_type": "markdown",
   "metadata": {},
   "source": [
    "### `raise` your Error\n",
    "\n",
    "If you want to catch error by yourself, you can also use the keyword `raise`. You're probably asking why raise our own errors if Python can do it alone ? When we learn about the oriented-object, you'll see what's the point. Here's the syntax : `raise name_of_the_error('message to print')`. In a real context but useless here :"
   ]
  },
  {
   "cell_type": "code",
   "execution_count": null,
   "metadata": {},
   "outputs": [],
   "source": [
    "i = int(input('Write a number: '))\n",
    "try:\n",
    "    if i < 0:\n",
    "        raise ValueError\n",
    "except ValueError:\n",
    "    print('You have a negative value')"
   ]
  }
 ],
 "metadata": {
  "kernelspec": {
   "display_name": "Python 3",
   "language": "python",
   "name": "python3"
  },
  "language_info": {
   "codemirror_mode": {
    "name": "ipython",
    "version": 3
   },
   "file_extension": ".py",
   "mimetype": "text/x-python",
   "name": "python",
   "nbconvert_exporter": "python",
   "pygments_lexer": "ipython3",
   "version": "3.7.3"
  }
 },
 "nbformat": 4,
 "nbformat_minor": 4
}
