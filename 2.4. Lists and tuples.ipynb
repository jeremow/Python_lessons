{
 "cells": [
  {
   "cell_type": "markdown",
   "metadata": {},
   "source": [
    "# 2.4. Lists and tuples\n",
    "\n",
    "I hope you begin to love Python. It's one of the most powerful language but we only begin to touch the head of it. The two next parts about __Lists__ and __Dictionaries__ are really important. You will use at least the lists everywhere.\n",
    "\n",
    "Lists are sequences which will contain other __objects__ of any types and even mix it inside of it. \n",
    "\n",
    "## Creating and editing our first lists\n",
    "\n",
    "There are two ways of creating a list."
   ]
  },
  {
   "cell_type": "code",
   "execution_count": null,
   "metadata": {},
   "outputs": [],
   "source": [
    "my_list = list()\n",
    "\n",
    "my_list2 = [] # I personnaly prefer this one\n",
    "\n",
    "print('my_list:', type(my_list))\n",
    "print('my_list2:', type(my_list2))"
   ]
  },
  {
   "cell_type": "markdown",
   "metadata": {},
   "source": [
    "\"Jérémy, I see the word __class__ and I panicked. What is this ?\"\n",
    "\n",
    "Don't worry, it's not a insult or anything. It's part of Python syntax to create objects. I will abord with you a little now. If you don't understand, doesn't matter because we will explain it really in a better way in chapter 3. \n",
    "\n",
    "## Brief introduction to methods and classes with string\n",
    "\n",
    "Here we go with an example : how to lowercase a sentence.\n",
    "```\n",
    ">>> my_str = 'MY FIRST STRING'\n",
    ">>> lowercase_my_str(my_str)\n",
    ">>> 'my first string'\n",
    "```\n",
    "\n",
    "That's what we want but we'll do another way than using a function."
   ]
  },
  {
   "cell_type": "code",
   "execution_count": null,
   "metadata": {},
   "outputs": [],
   "source": [
    "my_str = 'MY FIRST STRING'\n",
    "print( my_str.lower() )"
   ]
  },
  {
   "cell_type": "markdown",
   "metadata": {},
   "source": [
    "Oh wow, what's the hell? A point between my variable and a ... function? What's going on?\n",
    "\n",
    "It's easy. The point between your string `my_str` and the function `lower()` represents the belonging. Lower belongs to my_str. If you type `type(my_str)` you'll receive `<class 'str'>`. Because your **object** `my_str` comes from the **class** ``str``. A class is a data type, but it allows to define type-specific functions and variables. We call it **methods** and **attributes**. Remember these name!\n",
    "\n",
    "So each time you create a **string**, it comes from the **class** ``str`` and you call **methods** like `lower()` with a point between the **variable** and the **method** to get some functions associated to the class.\n",
    "\n",
    "Be careful with our example, it won't store automatically your new object. See :"
   ]
  },
  {
   "cell_type": "code",
   "execution_count": null,
   "metadata": {},
   "outputs": [],
   "source": [
    "my_str = 'MY FIRST STRING'\n",
    "print('my_str.lower :', my_str.lower()) # it prints the lowered string"
   ]
  },
  {
   "cell_type": "code",
   "execution_count": null,
   "metadata": {
    "scrolled": true
   },
   "outputs": [],
   "source": [
    "print('my_str :', my_str) # It is always the first object which is printed."
   ]
  },
  {
   "cell_type": "code",
   "execution_count": null,
   "metadata": {},
   "outputs": [],
   "source": [
    "# Now I store it :\n",
    "my_str = my_str.lower()\n",
    "print('my_str :', my_str) # and print again, now it's lowercase !"
   ]
  },
  {
   "cell_type": "markdown",
   "metadata": {},
   "source": [
    "## Go back to the lists !\n",
    "\n",
    "You can initialize some data directly in the list when creating it. You don't have to create first empty. And not only with numbers, but everything you want can be instanced in a list. Even list itself as you see. "
   ]
  },
  {
   "cell_type": "code",
   "execution_count": null,
   "metadata": {},
   "outputs": [],
   "source": [
    "my_list = [1, 2, 3]\n",
    "print(my_list)\n",
    "\n",
    "my_list = ['Hey', 'You', 18, [1, 2, 3]]\n",
    "print(my_list)"
   ]
  },
  {
   "cell_type": "markdown",
   "metadata": {},
   "source": [
    "You also see that we erase the previous list if we affect again a new value. Now how can we access just one element in a list ? Here we are :"
   ]
  },
  {
   "cell_type": "code",
   "execution_count": null,
   "metadata": {},
   "outputs": [],
   "source": [
    "my_list = ['Hey', 'You', 18, 3.14]\n",
    "print(my_list[2])"
   ]
  },
  {
   "cell_type": "markdown",
   "metadata": {},
   "source": [
    "\"The second element is ``18``? Nope! The second element is ``You``! But why it displays something else?\". Most important thing in Python, and I said to you already before, __lists__ began at index 0. So if you want to access the first element :"
   ]
  },
  {
   "cell_type": "code",
   "execution_count": null,
   "metadata": {},
   "outputs": [],
   "source": [
    "print(my_list[0])"
   ]
  },
  {
   "cell_type": "markdown",
   "metadata": {},
   "source": [
    "And now it works! Magic?\n",
    "\n",
    "It's good to access one element, but it would be even better if we can access a part of it, or even the last element without knowing at the first place the length of our list."
   ]
  },
  {
   "cell_type": "code",
   "execution_count": null,
   "metadata": {
    "scrolled": true
   },
   "outputs": [],
   "source": [
    "pi = [3.1, 3.14, 3.142, 3.1416, 3.14159, 3.141593, 3.1415927] # Here's the approximation of pi\n",
    "\n",
    "\n",
    "print(pi[0])\n",
    "print(pi[1:4])\n",
    "print(pi[-1])\n"
   ]
  },
  {
   "cell_type": "markdown",
   "metadata": {},
   "source": [
    "- As with the ``range()`` function, when you access a part, the last number is excluded. \n",
    "- The great artefact to get the last element in Python is the index `-1` and after you can write `pi[-2]` to get the second last element, ...\n",
    "\n",
    "If you want to change one value in the list, you just have to affect again for the index you want."
   ]
  },
  {
   "cell_type": "code",
   "execution_count": null,
   "metadata": {},
   "outputs": [],
   "source": [
    "pi = [3.1, 3.14, 3.142, 3.1416, 3.14159, 3.141593, 3.1415927] # Here's the approximation of pi\n",
    "\n",
    "print(pi)\n",
    "\n",
    "pi[0] = 42\n",
    "print(pi)"
   ]
  },
  {
   "cell_type": "code",
   "execution_count": null,
   "metadata": {},
   "outputs": [],
   "source": [
    "pi = [3.1, 3.14, 3.142, 3.1416, 3.14159, 3.141593, 3.1415927]\n",
    "\n",
    "pi2 = pi\n",
    "\n",
    "pi2[0] = 0\n",
    "print(pi2)\n",
    "print(pi)"
   ]
  },
  {
   "cell_type": "markdown",
   "metadata": {},
   "source": [
    "## Insert and remove objects in a existing list\n",
    "\n",
    "To add some new element to the end of our list, we use the method `append()`. A _method_ ? Yeah remember just before, I said a function used inside an object like `my_string.lower()` is called a __method__!\n",
    "\n",
    "Let's see :"
   ]
  },
  {
   "cell_type": "code",
   "execution_count": null,
   "metadata": {},
   "outputs": [],
   "source": [
    "dishes = ['buuz', 'khushuur']\n",
    "print(dishes)\n",
    "\n",
    "dishes.append('khorkhog')\n",
    "print(dishes)"
   ]
  },
  {
   "cell_type": "markdown",
   "metadata": {},
   "source": [
    "\"Jeremy, why don't we store ``my_list`` when we add an element like with strings?\" Wow you remember so well! It's the most important difference between ``list`` and ``str``. The result of a method will automatically update your list, not with a string."
   ]
  },
  {
   "cell_type": "code",
   "execution_count": null,
   "metadata": {},
   "outputs": [],
   "source": [
    "my_list = [1, 2, 3]\n",
    "my_list.append(4) # it updates the list\n",
    "print(my_list)\n",
    "\n",
    "my_str = \"HEY\"\n",
    "my_str.lower() # it doesn't update the string\n",
    "print(my_str)"
   ]
  },
  {
   "cell_type": "code",
   "execution_count": null,
   "metadata": {},
   "outputs": [],
   "source": [
    "my_list = [1, 2, 3]\n",
    "my_list.append(4) # it updates the list\n",
    "print(my_list)\n",
    "\n",
    "my_str = \"HEY\"\n",
    "my_str = my_str.lower() # it update the string\n",
    "print(my_str)"
   ]
  },
  {
   "cell_type": "markdown",
   "metadata": {},
   "source": [
    "And if you try to store a list, you will have a `None` object because the methods of a list don't return anything."
   ]
  },
  {
   "cell_type": "code",
   "execution_count": null,
   "metadata": {},
   "outputs": [],
   "source": [
    "my_list = [1, 2, 3]\n",
    "my_list2 = my_list.append(4) # try to store the result in my_list2\n",
    "print('my_list: ', my_list)\n",
    "print('my_list2: ', my_list2)"
   ]
  },
  {
   "cell_type": "markdown",
   "metadata": {},
   "source": [
    "If you want to insert on a certain index, you can use ``insert(index, value)`` method.\n",
    "\n",
    "To remove some value, easy: ``remove(value)``. Be careful, if there is a value several times in the list, it will only remove the first one it finds.\n",
    "\n",
    "Let's see together :"
   ]
  },
  {
   "cell_type": "code",
   "execution_count": null,
   "metadata": {},
   "outputs": [],
   "source": [
    "my_list = [1, 2, 3, 'picole']\n",
    "\n",
    "## Add la picole\n",
    "my_list.insert(1,'picole')\n",
    "print(my_list)\n",
    "\n",
    "## Remove la picole\n",
    "my_list.remove('picole')\n",
    "print(my_list)"
   ]
  },
  {
   "cell_type": "markdown",
   "metadata": {},
   "source": [
    "To concatenate two lists, there is the ``extend`` method which works as a ``+=``. "
   ]
  },
  {
   "cell_type": "code",
   "execution_count": null,
   "metadata": {},
   "outputs": [],
   "source": [
    "## Concatenate two lists\n",
    "my_list = [1, 2, 3]\n",
    "my_list2 = [4, 5, 6]\n",
    "my_list.extend(my_list2)\n",
    "print(my_list)\n",
    "\n",
    "## OR\n",
    "\n",
    "my_list = [1, 2, 3]\n",
    "my_list += my_list2\n",
    "print(my_list)"
   ]
  },
  {
   "cell_type": "markdown",
   "metadata": {},
   "source": [
    "## Broswing a list\n",
    "\n",
    "Like for string, there is the keyword __``in``__ for the list. You can travel through a list with a ``for ... in ...`` loop. The __in__ will give the value of the browsing variable. Here's the example : "
   ]
  },
  {
   "cell_type": "code",
   "execution_count": null,
   "metadata": {},
   "outputs": [],
   "source": [
    "my_list = ['buuz', 'khushuur', 'khorkhog', 'spaghetti', 'ratatouille']\n",
    "\n",
    "for element in my_list:\n",
    "    print(element)"
   ]
  },
  {
   "cell_type": "markdown",
   "metadata": {},
   "source": [
    "\"But I want the index Jeremy!\". You could so to something like this ..."
   ]
  },
  {
   "cell_type": "code",
   "execution_count": null,
   "metadata": {},
   "outputs": [],
   "source": [
    "my_list = ['buuz', 'khushuur', 'khorkhog', 'spaghetti', 'ratatouille']\n",
    "\n",
    "for i in range(0, len(my_list)): # function len() give the number of element of a list, a string, ...\n",
    "    print('i: {}, element: {}'.format(i, my_list[i]))"
   ]
  },
  {
   "cell_type": "markdown",
   "metadata": {},
   "source": [
    "It becomes a little messy, why not using a ready-to-go function that Python has : `enumerate`. when using this function, it returns a **tuple**. I'm not swearing. It's the correct term."
   ]
  },
  {
   "cell_type": "code",
   "execution_count": null,
   "metadata": {},
   "outputs": [],
   "source": [
    "my_list = ['buuz', 'khushuur', 'khorkhog', 'spaghetti', 'ratatouille']\n",
    "\n",
    "for element in enumerate(my_list):\n",
    "    print(element) ## (0, 'buuz') is a tuple !"
   ]
  },
  {
   "cell_type": "markdown",
   "metadata": {},
   "source": [
    "You can also separate the **tuple** using two different variables in the ``for`` loop like below."
   ]
  },
  {
   "cell_type": "code",
   "execution_count": null,
   "metadata": {},
   "outputs": [],
   "source": [
    "my_list = ['buuz', 'khushuur', 'khorkhog', 'spaghetti', 'ratatouille']\n",
    "\n",
    "for i, element in enumerate(my_list):\n",
    "    print('i: {}, element: {}'.format(i,element))"
   ]
  },
  {
   "cell_type": "markdown",
   "metadata": {},
   "source": [
    "A **tuple** works as a list BUT he cannot be modify after he's defined. If you try, it will return an error. I show it to you because you have to know it exists but you will almost never direclty use it. Python will use it for you without even saying anything!"
   ]
  },
  {
   "cell_type": "code",
   "execution_count": null,
   "metadata": {},
   "outputs": [],
   "source": [
    "a = tuple((2, 'b')) # create a tuple\n",
    "print(a[0], a[1])\n",
    "\n",
    "a[0] = 1"
   ]
  },
  {
   "cell_type": "code",
   "execution_count": null,
   "metadata": {},
   "outputs": [],
   "source": [
    "# find the list in a list of lists whose sum of elements is the highest\n",
    "\n",
    "given_list = [[1,2,3], [4,5,6], [10,11,12], [7,8,9]]"
   ]
  }
 ],
 "metadata": {
  "kernelspec": {
   "display_name": "Python 3",
   "language": "python",
   "name": "python3"
  },
  "language_info": {
   "codemirror_mode": {
    "name": "ipython",
    "version": 3
   },
   "file_extension": ".py",
   "mimetype": "text/x-python",
   "name": "python",
   "nbconvert_exporter": "python",
   "pygments_lexer": "ipython3",
   "version": "3.7.3"
  }
 },
 "nbformat": 4,
 "nbformat_minor": 4
}
