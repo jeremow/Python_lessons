{
 "cells": [
  {
   "cell_type": "markdown",
   "metadata": {},
   "source": [
    "# 2.5. Dictionaries - Exercises\n",
    "\n",
    "A dictionary is the nearest object from a list. The difference between a list and dictionary is that a list contains other objects and you need the position to find it. A dictionary contains also objects but not in a particular order. They are sorted with **keys**."
   ]
  },
  {
   "cell_type": "markdown",
   "metadata": {},
   "source": [
    "## Warmup 1\n",
    "\n",
    "Remove the element of the key ``key4``."
   ]
  },
  {
   "cell_type": "code",
   "execution_count": null,
   "metadata": {},
   "outputs": [],
   "source": [
    "my_dict = {'key1': 'hello', 'key2': 13, 'key3': [1, 2, 3], 'key4': True}\n",
    "\n"
   ]
  },
  {
   "cell_type": "markdown",
   "metadata": {},
   "source": [
    "## Warmup 2\n",
    "\n",
    "Add the boolean ``False`` to the key `key4`"
   ]
  },
  {
   "cell_type": "code",
   "execution_count": null,
   "metadata": {},
   "outputs": [],
   "source": [
    "my_dict = {'key1': 'hello', 'key2': 13, 'key3': [1, 2, 3]}\n",
    "\n"
   ]
  },
  {
   "cell_type": "markdown",
   "metadata": {},
   "source": [
    "## Warmup 3\n",
    "\n",
    "Loop into the dictionary `fruits` and print the keys of it."
   ]
  },
  {
   "cell_type": "code",
   "execution_count": null,
   "metadata": {},
   "outputs": [],
   "source": [
    "fruits = {'watermelon': 15, 'apple': 10, 'peach': 25, 'orange': 30}\n",
    "\n"
   ]
  },
  {
   "cell_type": "markdown",
   "metadata": {},
   "source": [
    "## Warmup 4\n",
    "\n",
    "Loop into the dictionary `fruits` and print the values of it."
   ]
  },
  {
   "cell_type": "code",
   "execution_count": null,
   "metadata": {},
   "outputs": [],
   "source": [
    "fruits = {'watermelon': 15, 'apple': 10, 'peach': 25, 'orange': 30}\n",
    "\n"
   ]
  },
  {
   "cell_type": "markdown",
   "metadata": {},
   "source": [
    "## Warmup 5\n",
    "\n",
    "Loop into the dictionary `fruits` and print the keys and values of it."
   ]
  },
  {
   "cell_type": "code",
   "execution_count": null,
   "metadata": {},
   "outputs": [],
   "source": [
    "fruits = {'watermelon': 15, 'apple': 10, 'peach': 25, 'orange': 30}\n",
    "\n"
   ]
  },
  {
   "cell_type": "markdown",
   "metadata": {},
   "source": [
    "## Exercise 1\n",
    "\n",
    "__Filter a dictionary based on values__\n",
    "\n",
    "You have a dictionary with name as keys and ages, and you want to create another dictionary with only the people under 18."
   ]
  },
  {
   "cell_type": "code",
   "execution_count": null,
   "metadata": {},
   "outputs": [],
   "source": [
    "people = {'Jeremy': 26, 'Zayaa': 4, 'Zul': 16, 'Khulan': 33, 'Tuguldur': 12, 'Buyanaa': 48}\n",
    "children = {}\n",
    "\n"
   ]
  },
  {
   "cell_type": "markdown",
   "metadata": {},
   "source": [
    "## Exercise 2\n",
    "\n",
    "Find the highest value in the dictionary"
   ]
  },
  {
   "cell_type": "code",
   "execution_count": null,
   "metadata": {},
   "outputs": [],
   "source": [
    "people = {'Jeremy': 26, 'Zayaa': 4, 'Zul': 16, 'Khulan': 33, 'Tuguldur': 12, 'Buyanaa': 48}\n",
    "\n"
   ]
  },
  {
   "cell_type": "markdown",
   "metadata": {},
   "source": [
    "## Exercise 3\n",
    "\n",
    "Get the highest price in a shop and put it in tuple."
   ]
  },
  {
   "cell_type": "code",
   "execution_count": null,
   "metadata": {
    "scrolled": true
   },
   "outputs": [],
   "source": [
    "shop = {'apple': 6, 'pear': 12, 'coconut': 42, 'mango': 33, 'ananas': 15}\n",
    "max_item = ('',0)\n",
    "\n"
   ]
  },
  {
   "cell_type": "markdown",
   "metadata": {},
   "source": [
    "## Exercise 4\n",
    "\n",
    "Filter a dictionary based on values. For example for values over 30 :\n",
    "\n",
    "    Input: shop = {'apple': 6, 'pear': 12, 'coconut': 42, 'mango': 33, 'ananas': 15}\n",
    "    Output: result = {'coconut': 42, 'mango': 33'}"
   ]
  },
  {
   "cell_type": "code",
   "execution_count": null,
   "metadata": {},
   "outputs": [],
   "source": [
    "shop = {'apple': 6, 'pear': 12, 'coconut': 42, 'mango': 33, 'ananas': 15}\n",
    "result = {}\n",
    "\n"
   ]
  },
  {
   "cell_type": "code",
   "execution_count": null,
   "metadata": {},
   "outputs": [],
   "source": [
    "shop = {'apple': 6, 'pear': 12, 'coconut': 42, 'mango': 33, 'ananas': 15}\n",
    "\n"
   ]
  },
  {
   "cell_type": "markdown",
   "metadata": {},
   "source": [
    "## Exercise 5\n",
    "\n",
    "Write a script to create a dictionary from a string.\n",
    "Be careful: You have to count when a letter appears several times.\n",
    "    \n",
    "    Input: 'erdenezul'\n",
    "    Output: {'e': 3, 'r': 1, 'd': 1, 'n': 1, 'z': 1, 'u': 1, 'l': 1}"
   ]
  },
  {
   "cell_type": "code",
   "execution_count": null,
   "metadata": {},
   "outputs": [],
   "source": [
    "my_string = 'erdenezul'\n",
    "dict_str = {}\n",
    "\n"
   ]
  },
  {
   "cell_type": "markdown",
   "metadata": {},
   "source": [
    "## Exercise 6\n",
    "\n",
    "You have a list of students in list. It prints ``True`` if there is the value of the specified key exist. Else ``False``."
   ]
  },
  {
   "cell_type": "code",
   "execution_count": null,
   "metadata": {},
   "outputs": [],
   "source": [
    "students = [\n",
    "        {'student_id': 1, 'name': 'Jeremy', 'class': '1'}, \n",
    "        {'student_id': 2, 'name': 'Tuguldur', 'class': '3'},\n",
    "        {'student_id': 3, 'name': 'Pujee', 'class': '2'}, \n",
    "        {'student_id': 4, 'name': 'Zul', 'class': '2'}, \n",
    "        {'student_id': 5, 'name': 'Demberel', 'class': '1'}\n",
    "        ]\n",
    "\n",
    "key = 'class' # you can change to test\n",
    "value = 'Demberel' # you can change to test -> it has to return true\n",
    "\n"
   ]
  },
  {
   "cell_type": "markdown",
   "metadata": {},
   "source": [
    "## Exercise 7\n",
    "\n",
    "For this exercise, we will keep track of when our friend’s birthdays are, and be able to find that information based on their name. Create a dictionary of names and birthdays. When you run your program it should ask the user to enter a name, and return the birthday of that person back to them. The interaction should look something like this:\n",
    "\n",
    "    >>> Welcome to the birthday dictionary. We know the birthdays of:\n",
    "    Albert Einstein\n",
    "    Benjamin Franklin\n",
    "    Ada Lovelace\n",
    "    >>> Who's birthday do you want to look up?\n",
    "    Benjamin Franklin\n",
    "    >>> Benjamin Franklin's birthday is 01/17/1706.\n",
    "    \n",
    "( Albert Einstein: 03/14/1879 ; Benjamin Franklin: 01/17/1706 ; Ada Lovelace: 12/10/1815 )"
   ]
  },
  {
   "cell_type": "code",
   "execution_count": null,
   "metadata": {},
   "outputs": [],
   "source": [
    "\n",
    "\n"
   ]
  },
  {
   "cell_type": "markdown",
   "metadata": {},
   "source": [
    "## Exercise 8\n",
    "\n",
    "Date Decoder. A date of the form 8-MAR-2021 includes the name of the month, which must be translated to a number. Create a dictionary suitable for decoding month names to numbers. Use string operations to split the date into 3 items using the \"-\" character. Translate the month, correct the year to include all of the digits.\n",
    "\n",
    "It will accept a date in the ``\"dd-MMM-yyyy\"`` format and respond with a list of  ``[ y , m , d ]``.\n",
    "\n",
    "    Input: \"8-MAR-2021\"\n",
    "    Output: [2021, 3, 8]"
   ]
  },
  {
   "cell_type": "code",
   "execution_count": null,
   "metadata": {},
   "outputs": [],
   "source": [
    "date = \"8-MAR-2021\"\n"
   ]
  }
 ],
 "metadata": {
  "kernelspec": {
   "display_name": "Python 3",
   "language": "python",
   "name": "python3"
  },
  "language_info": {
   "codemirror_mode": {
    "name": "ipython",
    "version": 3
   },
   "file_extension": ".py",
   "mimetype": "text/x-python",
   "name": "python",
   "nbconvert_exporter": "python",
   "pygments_lexer": "ipython3",
   "version": "3.7.3"
  }
 },
 "nbformat": 4,
 "nbformat_minor": 4
}
