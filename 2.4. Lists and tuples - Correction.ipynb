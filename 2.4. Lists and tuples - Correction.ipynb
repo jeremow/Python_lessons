{
 "cells": [
  {
   "cell_type": "markdown",
   "metadata": {},
   "source": [
    "# 2.4. Lists and tuples - Correction\n",
    "\n",
    "## Warmup 1\n",
    "\n",
    "Assign the first element of a list to a variable"
   ]
  },
  {
   "cell_type": "code",
   "execution_count": 5,
   "metadata": {},
   "outputs": [
    {
     "name": "stdout",
     "output_type": "stream",
     "text": [
      "1\n"
     ]
    }
   ],
   "source": [
    "L = [1, 2, 3, 4]\n",
    "a = L[0]\n",
    "print(a)"
   ]
  },
  {
   "cell_type": "markdown",
   "metadata": {},
   "source": [
    "## Warmup 2\n",
    "\n",
    "Insert an element to a specific index in a list"
   ]
  },
  {
   "cell_type": "code",
   "execution_count": 6,
   "metadata": {},
   "outputs": [
    {
     "name": "stdout",
     "output_type": "stream",
     "text": [
      "[1, 2, 'babuchka', 3, 4]\n"
     ]
    }
   ],
   "source": [
    "L = [1, 2, 3, 4]\n",
    "\n",
    "L.insert(2, \"babuchka\")\n",
    "print(L)"
   ]
  },
  {
   "cell_type": "markdown",
   "metadata": {},
   "source": [
    "## 1. Write a script to sum all the items in a list\n",
    "\n",
    "Using a for loop."
   ]
  },
  {
   "cell_type": "code",
   "execution_count": 1,
   "metadata": {},
   "outputs": [
    {
     "name": "stdout",
     "output_type": "stream",
     "text": [
      "10\n"
     ]
    }
   ],
   "source": [
    "# CTRL+ENTER to run (or SHIFT+ENTER on Linux)\n",
    "\n",
    "list_numbers = [1, 2, 3, 4]\n",
    "\n",
    "answer = 0\n",
    "\n",
    "for element in list_numbers:\n",
    "    answer += element\n",
    "\n",
    "print(answer)\n",
    "\n",
    "# sum(list_numbers) "
   ]
  },
  {
   "cell_type": "markdown",
   "metadata": {},
   "source": [
    "## 2. Write a script to multiply all the numbers of a list with a constant"
   ]
  },
  {
   "cell_type": "code",
   "execution_count": 15,
   "metadata": {},
   "outputs": [
    {
     "name": "stdout",
     "output_type": "stream",
     "text": [
      "[10, 20, 30, 40]\n"
     ]
    }
   ],
   "source": [
    "# CTRL+ENTER to run (or SHIFT+ENTER on Linux)\n",
    "\n",
    "list_numbers = [1, 2, 3, 4]\n",
    "a = 10\n",
    "list_numbers2 = []\n",
    "\n",
    "for element in list_numbers:\n",
    "    list_numbers2.append(a * element)\n",
    "    \n",
    "print(list_numbers2)"
   ]
  },
  {
   "cell_type": "code",
   "execution_count": 19,
   "metadata": {},
   "outputs": [
    {
     "name": "stdout",
     "output_type": "stream",
     "text": [
      "[10, 20, 30, 40]\n"
     ]
    }
   ],
   "source": [
    "list_numbers = [1, 2, 3, 4, 15, 52]\n",
    "a = 10\n",
    "\n",
    "list_numbers2 = [a*element for element in list_numbers if element < 10]\n",
    "\n",
    "print(list_numbers2)"
   ]
  },
  {
   "cell_type": "markdown",
   "metadata": {},
   "source": [
    "## 3. Write a script to get the biggest number from a list\n",
    "\n",
    "Using a loop and a condition inside. For you knowledge, there is the function `max` who return you directly the maximum, but the goal here is to manipulate lists ..."
   ]
  },
  {
   "cell_type": "code",
   "execution_count": 6,
   "metadata": {
    "scrolled": true
   },
   "outputs": [
    {
     "name": "stdout",
     "output_type": "stream",
     "text": [
      "304\n"
     ]
    }
   ],
   "source": [
    "list_numbers = [1, 2, 304, 4, 15, 52]\n",
    "max_nb = list_numbers[0]\n",
    "\n",
    "for element in list_numbers[1:]:\n",
    "    if element > max_nb:\n",
    "        max_nb = element\n",
    "\n",
    "print(max_nb)"
   ]
  },
  {
   "cell_type": "code",
   "execution_count": 4,
   "metadata": {},
   "outputs": [
    {
     "ename": "NameError",
     "evalue": "name 'inf' is not defined",
     "output_type": "error",
     "traceback": [
      "\u001b[0;31m---------------------------------------------------------------------------\u001b[0m",
      "\u001b[0;31mNameError\u001b[0m                                 Traceback (most recent call last)",
      "\u001b[0;32m<ipython-input-4-87636b9e1bda>\u001b[0m in \u001b[0;36m<module>\u001b[0;34m\u001b[0m\n\u001b[0;32m----> 1\u001b[0;31m \u001b[0;36m3\u001b[0m \u001b[0;34m>\u001b[0m \u001b[0;34m-\u001b[0m\u001b[0minf\u001b[0m\u001b[0;34m\u001b[0m\u001b[0;34m\u001b[0m\u001b[0m\n\u001b[0m",
      "\u001b[0;31mNameError\u001b[0m: name 'inf' is not defined"
     ]
    }
   ],
   "source": []
  },
  {
   "cell_type": "markdown",
   "metadata": {},
   "source": [
    "## 4. Write a script to copy a list\n",
    "\n",
    "Be careful, you cannot just do my_list1 = my_list2."
   ]
  },
  {
   "cell_type": "code",
   "execution_count": 7,
   "metadata": {},
   "outputs": [
    {
     "name": "stdout",
     "output_type": "stream",
     "text": [
      "[1, 2, 3, 4, 5]\n"
     ]
    }
   ],
   "source": [
    "my_list1 = [1, 2, 3, 4, 5]\n",
    "my_list2 = []\n",
    "\n",
    "for element in my_list1:\n",
    "    my_list2.append(element)\n",
    "\n",
    "print(my_list2)"
   ]
  },
  {
   "cell_type": "markdown",
   "metadata": {},
   "source": [
    "## 5. Write a script to append two lists together"
   ]
  },
  {
   "cell_type": "code",
   "execution_count": 9,
   "metadata": {},
   "outputs": [
    {
     "data": {
      "text/plain": [
       "[1, 2, 3, 4, 5, 6, 7, 8, 9, 10]"
      ]
     },
     "execution_count": 9,
     "metadata": {},
     "output_type": "execute_result"
    }
   ],
   "source": [
    "my_list1 = [1, 2, 3, 4, 5]\n",
    "my_list2 = [6, 7, 8, 9, 10]\n",
    "\n",
    "my_list1 += my_list2\n",
    "my_list1"
   ]
  },
  {
   "cell_type": "markdown",
   "metadata": {},
   "source": [
    "## 6. Write a script to sum all the items in list given by a user\n",
    "\n",
    "You have to use ``input`` but you cannot just ask once. You have to make a while-loop condition or a for-loop with a precise number of elements you want to put in ... and append in your list each time for you pass in the loop. Think about it."
   ]
  },
  {
   "cell_type": "code",
   "execution_count": 10,
   "metadata": {},
   "outputs": [
    {
     "name": "stdout",
     "output_type": "stream",
     "text": [
      "How many elements in the list: 3\n",
      "Element number 0: 2\n",
      "Element number 1: 5\n",
      "Element number 2: 6\n",
      "[2, 5, 6]\n",
      "13\n"
     ]
    }
   ],
   "source": [
    "L = []\n",
    "sum = 0\n",
    "nb_element = int(input(\"How many elements in the list: \"))\n",
    "\n",
    "for i in range(0, nb_element):\n",
    "    user_nb = int(input(\"Element number \" + str(i) + \": \"))\n",
    "    sum += user_nb\n",
    "    L.append(user_nb)\n",
    "    \n",
    "print(L)\n",
    "print(sum)"
   ]
  },
  {
   "cell_type": "markdown",
   "metadata": {},
   "source": [
    "## 7.  Write a script to get the last two elements of a list"
   ]
  },
  {
   "cell_type": "code",
   "execution_count": 13,
   "metadata": {},
   "outputs": [
    {
     "name": "stdout",
     "output_type": "stream",
     "text": [
      "[15, 52]\n"
     ]
    }
   ],
   "source": [
    "L = [1, 2, 304, 4, 15, 52]\n",
    "\n",
    "print(L[-2:])"
   ]
  },
  {
   "cell_type": "markdown",
   "metadata": {},
   "source": [
    "## 8. Write a script to get a list with only the values of even indexes\n",
    "\n",
    "[15, 13, 59, 40] would give [15, 59]"
   ]
  },
  {
   "cell_type": "code",
   "execution_count": 16,
   "metadata": {},
   "outputs": [
    {
     "name": "stdout",
     "output_type": "stream",
     "text": [
      "[15, 59]\n"
     ]
    }
   ],
   "source": [
    "L = [15, 13, 59, 40]\n",
    "print(L[::2])"
   ]
  },
  {
   "cell_type": "markdown",
   "metadata": {},
   "source": [
    "## 9. Write a script asking the user an index and then split the list into two different lists\n",
    "\n",
    "[1, 2, 3, 4] with the index 1 would give [1, 2] and [3, 4]"
   ]
  },
  {
   "cell_type": "code",
   "execution_count": 22,
   "metadata": {},
   "outputs": [
    {
     "name": "stdout",
     "output_type": "stream",
     "text": [
      "Give the index to split: 6\n",
      "[1, 2, 3, 4] []\n"
     ]
    }
   ],
   "source": [
    "L = [1, 2, 3, 4]\n",
    "\n",
    "split_nb = int(input(\"Give the index to split: \"))\n",
    "\n",
    "if split_nb >= len(L):\n",
    "    split_nb = len(L) - 1\n",
    "\n",
    "L1 = L[:split_nb + 1]\n",
    "L2 = L[split_nb + 1:]\n",
    "print(L1, L2)"
   ]
  },
  {
   "cell_type": "markdown",
   "metadata": {},
   "source": [
    "## 10. Write a script to insert a given string at the beginning of all items in a list\n",
    "\n",
    "list : [1,2,3,4], string : mongolia\n",
    "Expected output : ['mongolia1', 'mongolia2', 'mongolia3', 'mongolia4']"
   ]
  },
  {
   "cell_type": "code",
   "execution_count": 6,
   "metadata": {},
   "outputs": [
    {
     "name": "stdout",
     "output_type": "stream",
     "text": [
      "['mongolia1', 'mongolia2', 'mongolia3', 'mongolia4']\n",
      "['mongolia1', 'mongolia2', 'mongolia3', 'mongolia4']\n"
     ]
    }
   ],
   "source": [
    "list1 = [1, 2, 3, 4]\n",
    "list2 = []\n",
    "s = 'mongolia'\n",
    "\n",
    "for i, element in enumerate(list1):\n",
    "    list2.append(s + str(list1[i]))\n",
    "\n",
    "for i in range(0, len(list1)):\n",
    "    list2.append(s + str(list1[i]))\n",
    "    list1[i] = s + str(list1[i])\n",
    "    \n",
    "print(list1)\n",
    "print(list2)"
   ]
  },
  {
   "cell_type": "code",
   "execution_count": 3,
   "metadata": {
    "scrolled": false
   },
   "outputs": [
    {
     "name": "stdout",
     "output_type": "stream",
     "text": [
      "mongolia1\n"
     ]
    }
   ],
   "source": [
    "s = 'mongolia'\n",
    "print(s + str(1))"
   ]
  },
  {
   "cell_type": "markdown",
   "metadata": {},
   "source": [
    "## 11. List less than 5\n",
    "\n",
    "  a = [1, 1, 2, 3, 5, 8, 13, 21, 34, 55, 89]\n",
    "\n",
    "and write a program that prints out all the elements of the list that are less than 5."
   ]
  },
  {
   "cell_type": "code",
   "execution_count": 23,
   "metadata": {},
   "outputs": [
    {
     "name": "stdout",
     "output_type": "stream",
     "text": [
      "[1, 1, 2, 3]\n"
     ]
    }
   ],
   "source": [
    "a = [1, 1, 2, 3, 5, 8, 13, 21, 34, 55, 89]\n",
    "L = [element for element in a if element < 5]\n",
    "print(L)"
   ]
  },
  {
   "cell_type": "markdown",
   "metadata": {},
   "source": [
    "## 12. Write a script to create a 3X3 grid with numbers (Lists inside of a list)\n",
    "\n",
    "Excepted output: [[1, 2, 3], [1, 2, 3], [1, 2, 3]] "
   ]
  },
  {
   "cell_type": "code",
   "execution_count": 24,
   "metadata": {},
   "outputs": [
    {
     "name": "stdout",
     "output_type": "stream",
     "text": [
      "[[1, 2, 3], [1, 2, 3], [1, 2, 3]]\n"
     ]
    }
   ],
   "source": [
    "L_model = [1, 2, 3]\n",
    "L = []\n",
    "\n",
    "for i in range(0, 3):\n",
    "    L.append(L_model)\n",
    "\n",
    "print(L)"
   ]
  },
  {
   "cell_type": "markdown",
   "metadata": {},
   "source": [
    "## 13. Write a script to sort a given list of numbers numerically\n",
    "\n",
    "Without the method `sort` of course"
   ]
  },
  {
   "cell_type": "code",
   "execution_count": 27,
   "metadata": {},
   "outputs": [
    {
     "name": "stdout",
     "output_type": "stream",
     "text": [
      "[1, 2, 5, 43, 95]\n"
     ]
    }
   ],
   "source": [
    "L = [5, 1, 95, 43, 2]\n",
    "\n",
    "for i in range(0, len(L)):\n",
    "    for j in range(0, len(L)):\n",
    "        if i == j:\n",
    "            continue\n",
    "        else:\n",
    "            if L[i] < L[j]:\n",
    "                L[i], L[j] = L[j], L[i]\n",
    "                \n",
    "print(L)"
   ]
  },
  {
   "cell_type": "markdown",
   "metadata": {},
   "source": [
    "## 14. List Comprehensions\n",
    "\n",
    "Let’s say I give you a list saved in a variable: a = [1, 4, 9, 16, 25, 36, 49, 64, 81, 100]. Write one line of Python that takes this list a and makes a new list that has only the even elements of this list in it. There is something you can do: it's using a for loop in a list structure in one line ... if you are here already, ask me and I will show to you an example."
   ]
  },
  {
   "cell_type": "code",
   "execution_count": 7,
   "metadata": {},
   "outputs": [
    {
     "name": "stdout",
     "output_type": "stream",
     "text": [
      "[4, 16, 36, 64, 100]\n"
     ]
    }
   ],
   "source": [
    "a = [1, 4, 9, 16, 25, 36, 49, 64, 81, 100]\n",
    "\n",
    "list2 = [element for element in a if element % 2 == 0]\n",
    "\n",
    "print(list2)"
   ]
  },
  {
   "cell_type": "markdown",
   "metadata": {},
   "source": [
    "## 15. List Remove Duplicates\n",
    "\n",
    "Write a script that takes a list and print a new list that contains all the elements of the first list minus all the duplicates. ( `if *** in ***` )\n",
    "\n",
    "    Input: a = [1, 4, 1, 16, 1, 36, 49, 64, 1, 100]\n",
    "    Ouput: b = [1, 4, 16, 36, 49, 64, 100]"
   ]
  },
  {
   "cell_type": "code",
   "execution_count": 28,
   "metadata": {},
   "outputs": [
    {
     "name": "stdout",
     "output_type": "stream",
     "text": [
      "[1, 4, 16, 36, 49, 64, 100]\n"
     ]
    }
   ],
   "source": [
    "a = [1, 4, 1, 16, 1, 36, 49, 64, 1, 100]\n",
    "b = []\n",
    "\n",
    "for element in a:\n",
    "    if element in b:\n",
    "        continue\n",
    "    else:\n",
    "        b.append(element)\n",
    "print(b)"
   ]
  }
 ],
 "metadata": {
  "kernelspec": {
   "display_name": "Python 3",
   "language": "python",
   "name": "python3"
  },
  "language_info": {
   "codemirror_mode": {
    "name": "ipython",
    "version": 3
   },
   "file_extension": ".py",
   "mimetype": "text/x-python",
   "name": "python",
   "nbconvert_exporter": "python",
   "pygments_lexer": "ipython3",
   "version": "3.7.3"
  }
 },
 "nbformat": 4,
 "nbformat_minor": 4
}
