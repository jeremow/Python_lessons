{
 "cells": [
  {
   "cell_type": "markdown",
   "metadata": {},
   "source": [
    "# 2.5. Dictionaries\n",
    "\n",
    "A dictionary is the nearest object from a list. The difference between a list and dictionary is that a list contains other objects and you need the position to find it. A dictionary contains also objects but not in a particular order. They are sorted with **keys**.\n",
    "\n",
    "For example, a dictionary can contain an address book and you access to the contact when you precise the name.\n",
    "\n",
    "\n",
    "## Create your first dictionary\n",
    "\n",
    "To create your first dictionary :"
   ]
  },
  {
   "cell_type": "code",
   "execution_count": 1,
   "metadata": {
    "scrolled": true
   },
   "outputs": [],
   "source": [
    "my_dict = dict()\n",
    "# or \n",
    "my_dict = {}"
   ]
  },
  {
   "cell_type": "markdown",
   "metadata": {},
   "source": [
    "Now you know that a list is defined with brackets ``[]``, a tuple with parentheses ``()`` and dictionary with braces ``{}``.\n",
    "\n",
    "To add a value, you just have the key you want to associate the value. Little example:"
   ]
  },
  {
   "cell_type": "code",
   "execution_count": 1,
   "metadata": {},
   "outputs": [
    {
     "name": "stdout",
     "output_type": "stream",
     "text": [
      "{'jeremow': 91117788, 'zul': 84708791}\n"
     ]
    }
   ],
   "source": [
    "# Creation of the dictionary\n",
    "my_dict = {}\n",
    "\n",
    "# Adding the value 91117788 to the key 'jeremow'\n",
    "my_dict['jeremow'] = 91117788\n",
    "\n",
    "# Adding the value 84708791 to the key 'zul'\n",
    "my_dict['zul'] = 84708791\n",
    "\n",
    "print(my_dict)"
   ]
  },
  {
   "cell_type": "markdown",
   "metadata": {},
   "source": [
    "If you want to change the value of a key, it's easy, just associate the key with a new value like this :"
   ]
  },
  {
   "cell_type": "code",
   "execution_count": 4,
   "metadata": {},
   "outputs": [
    {
     "name": "stdout",
     "output_type": "stream",
     "text": [
      "{'jeremow': 97778811, 'zul': 84708791}\n"
     ]
    }
   ],
   "source": [
    "my_dict['jeremow'] = 97778811\n",
    "\n",
    "print(my_dict)"
   ]
  },
  {
   "cell_type": "markdown",
   "metadata": {},
   "source": [
    "If you call a key which doesn't exist, it will return a `KeyError`.\n",
    "\n",
    "We used strings as keys, but you can also use numbers. It seems like a list with using numbers but the difference is, if you delete an index, it won't move all the others elements. Remember that a dictionary isn't ordered like a list."
   ]
  },
  {
   "cell_type": "code",
   "execution_count": 8,
   "metadata": {},
   "outputs": [
    {
     "name": "stdout",
     "output_type": "stream",
     "text": [
      "{0: 'H', 1: 'e', 2: 'l', 3: 'l', 4: 'o'}\n"
     ]
    }
   ],
   "source": [
    "my_dict = {}\n",
    "\n",
    "my_dict[0] = 'H'\n",
    "my_dict[1] = 'e'\n",
    "my_dict[2] = 'l'\n",
    "my_dict[3] = 'l'\n",
    "my_dict[4] = 'o'\n",
    "\n",
    "print(my_dict)"
   ]
  },
  {
   "cell_type": "markdown",
   "metadata": {},
   "source": [
    "You can also fill a dictionary directly in one line:\n"
   ]
  },
  {
   "cell_type": "code",
   "execution_count": 9,
   "metadata": {},
   "outputs": [
    {
     "name": "stdout",
     "output_type": "stream",
     "text": [
      "{0: 'H', 1: 'e', 2: 'l', 3: 'l', 4: 'o'}\n"
     ]
    }
   ],
   "source": [
    "my_dict = {0: 'H', 1: 'e', 2: 'l', 3: 'l', 4: 'o'}\n",
    "\n",
    "print(my_dict)"
   ]
  },
  {
   "cell_type": "markdown",
   "metadata": {},
   "source": [
    "Imagine you want to play chess and remember where each piece are in a grid (from a to h, and 1 to 8) :"
   ]
  },
  {
   "cell_type": "code",
   "execution_count": 10,
   "metadata": {},
   "outputs": [
    {
     "name": "stdout",
     "output_type": "stream",
     "text": [
      "{('a', 1): 'White Rook', ('b', 1): 'White Knight', ('a', 2): 'White Pawn', ('b', 2): 'White Pawn'}\n"
     ]
    }
   ],
   "source": [
    "chess_board = {}\n",
    "chess_board['a', 1] = 'White Rook' # bottom left of the chess board\n",
    "chess_board['b', 1] = 'White Knight' # next to the rook\n",
    "chess_board['a', 2] = 'White Pawn' # in front of the rook\n",
    "chess_board['b', 2] = 'White Pawn' # in front of the knight \n",
    "#...\n",
    "print(chess_board)"
   ]
  },
  {
   "cell_type": "markdown",
   "metadata": {},
   "source": [
    "_What's happening? We can put several keys inside of a dictionary?_ \n",
    "\n",
    "Not exactly, Python will interpret as ... a __tuple__ ! If you don't precise parenthesis here, you can see that the display is as a tuple. If you feared about forgetting that's a tuple, you can precise the parenthesis for Python but I personnaly think it's enough representative without!\n",
    "\n",
    "## Remove keys from dictionary\n",
    "\n",
    "Something I didn't tell you before and it works with the variables is the keyword __``del``__. With it, you free the memory and delete the variable you don't want anymore."
   ]
  },
  {
   "cell_type": "code",
   "execution_count": 11,
   "metadata": {
    "scrolled": true
   },
   "outputs": [
    {
     "ename": "NameError",
     "evalue": "name 'a' is not defined",
     "output_type": "error",
     "traceback": [
      "\u001b[0;31m---------------------------------------------------------------------------\u001b[0m",
      "\u001b[0;31mNameError\u001b[0m                                 Traceback (most recent call last)",
      "\u001b[0;32m<ipython-input-11-f16ced4a4160>\u001b[0m in \u001b[0;36m<module>\u001b[0;34m\u001b[0m\n\u001b[1;32m      1\u001b[0m \u001b[0ma\u001b[0m \u001b[0;34m=\u001b[0m \u001b[0;36m15\u001b[0m\u001b[0;34m\u001b[0m\u001b[0;34m\u001b[0m\u001b[0m\n\u001b[1;32m      2\u001b[0m \u001b[0;32mdel\u001b[0m \u001b[0ma\u001b[0m\u001b[0;34m\u001b[0m\u001b[0;34m\u001b[0m\u001b[0m\n\u001b[0;32m----> 3\u001b[0;31m \u001b[0mprint\u001b[0m\u001b[0;34m(\u001b[0m\u001b[0ma\u001b[0m\u001b[0;34m)\u001b[0m\u001b[0;34m\u001b[0m\u001b[0;34m\u001b[0m\u001b[0m\n\u001b[0m",
      "\u001b[0;31mNameError\u001b[0m: name 'a' is not defined"
     ]
    }
   ],
   "source": [
    "a = 15\n",
    "del a\n",
    "print(a)"
   ]
  },
  {
   "cell_type": "markdown",
   "metadata": {},
   "source": [
    "It works for everything but also for lists and dictionary to remove a specific element or key."
   ]
  },
  {
   "cell_type": "code",
   "execution_count": 12,
   "metadata": {},
   "outputs": [
    {
     "name": "stdout",
     "output_type": "stream",
     "text": [
      "['hey', 'shout', 'my', 'name']\n"
     ]
    }
   ],
   "source": [
    "# Example with list\n",
    "my_list = ['hey', 'you', 'shout', 'my', 'name']\n",
    "del my_list[1]\n",
    "print(my_list)"
   ]
  },
  {
   "cell_type": "code",
   "execution_count": 2,
   "metadata": {},
   "outputs": [
    {
     "name": "stdout",
     "output_type": "stream",
     "text": [
      "{'bayaraa': 'too old'}\n"
     ]
    }
   ],
   "source": [
    "# Example with dictionary\n",
    "my_dict = {'jeremy': 26, 'bayaraa': 'too old'}\n",
    "del my_dict['jeremy']\n",
    "print(my_dict)"
   ]
  },
  {
   "cell_type": "markdown",
   "metadata": {},
   "source": [
    "I'm not a big fan for lists and dictionaries to use it because methods exist to do it in a clean way. For lists, it was the `remove` method and for dictionaries, it's the `pop` method. You precise as parameter the key you want to delete."
   ]
  },
  {
   "cell_type": "code",
   "execution_count": 14,
   "metadata": {},
   "outputs": [
    {
     "name": "stdout",
     "output_type": "stream",
     "text": [
      "original dict :\n",
      " {0: 'H', 1: 'e', 2: 'l', 3: 'l', 4: 'o'}\n",
      "Dict without the key 4:\n",
      " {0: 'H', 1: 'e', 2: 'l', 3: 'l'}\n",
      "Dict without the key 1:\n",
      " {0: 'H', 2: 'l', 3: 'l'}\n"
     ]
    }
   ],
   "source": [
    "my_dict = {0: 'H', 1: 'e', 2: 'l', 3: 'l', 4: 'o'}\n",
    "print('original dict :\\n', my_dict)\n",
    "\n",
    "my_dict.pop(4)\n",
    "print('Dict without the key 4:\\n', my_dict)\n",
    "\n",
    "my_dict.pop(1)\n",
    "print('Dict without the key 1:\\n', my_dict)"
   ]
  },
  {
   "cell_type": "markdown",
   "metadata": {},
   "source": [
    "You know understand why it's not a list, when you remove an element, it doesn't change the number in `my_dict`... because it's a key, not an index.\n",
    "\n",
    "Other interesting thing about the `pop` method: it returns the value you pop out of the dictionary. It can be useful to use it a last time before removing it."
   ]
  },
  {
   "cell_type": "code",
   "execution_count": 15,
   "metadata": {},
   "outputs": [
    {
     "name": "stdout",
     "output_type": "stream",
     "text": [
      "Value removed: 26\n",
      "Updated dictionary:\n",
      " {'pseudo': 'jeremow'}\n"
     ]
    }
   ],
   "source": [
    "my_dict = {'pseudo': 'jeremow', 'age': 26}\n",
    "\n",
    "age = my_dict.pop('age')\n",
    "\n",
    "print('Value removed:', age)\n",
    "print('Updated dictionary:\\n', my_dict)"
   ]
  },
  {
   "cell_type": "markdown",
   "metadata": {},
   "source": [
    "## Going through a dictionary\n",
    "\n",
    "When you want to browse a dictionary, the `for`-loop will be useful again. You can get the keys, or the values or even both of them. It depends the method you use to browse the dictionary. The three methods will be `keys()`, `values()`,  and `items()`."
   ]
  },
  {
   "cell_type": "code",
   "execution_count": 17,
   "metadata": {},
   "outputs": [
    {
     "name": "stdout",
     "output_type": "stream",
     "text": [
      "Printing keys of fruits:\n",
      "  watermelon\n",
      "  apple\n",
      "  peach\n",
      "  orange\n",
      "\n",
      "Printing values of fruits:\n",
      "  15\n",
      "  10\n",
      "  25\n",
      "  30\n",
      "\n",
      "Printing keys and values of fruits:\n",
      "  There are 15 watermelons\n",
      "  There are 10 apples\n",
      "  There are 25 peachs\n",
      "  There are 30 oranges\n"
     ]
    }
   ],
   "source": [
    "fruits = {'watermelon': 15, 'apple': 10, 'peach': 25, 'orange': 30}\n",
    "\n",
    "print('Printing keys of fruits:')\n",
    "\n",
    "for fruit_key in fruits.keys():\n",
    "    print(' ', fruit_key)\n",
    "\n",
    "print('\\nPrinting values of fruits:')\n",
    "\n",
    "for fruit_value in fruits.values():\n",
    "    print(' ', fruit_value)\n",
    "\n",
    "print('\\nPrinting keys and values of fruits:')\n",
    "\n",
    "for fruit_key, fruit_value in fruits.items():\n",
    "    print('  There are {} {}'.format(fruit_value, fruit_key))"
   ]
  }
 ],
 "metadata": {
  "kernelspec": {
   "display_name": "Python 3",
   "language": "python",
   "name": "python3"
  },
  "language_info": {
   "codemirror_mode": {
    "name": "ipython",
    "version": 3
   },
   "file_extension": ".py",
   "mimetype": "text/x-python",
   "name": "python",
   "nbconvert_exporter": "python",
   "pygments_lexer": "ipython3",
   "version": "3.7.3"
  }
 },
 "nbformat": 4,
 "nbformat_minor": 4
}
