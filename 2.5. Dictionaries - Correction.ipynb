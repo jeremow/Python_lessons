{
 "cells": [
  {
   "cell_type": "markdown",
   "metadata": {},
   "source": [
    "# 2.5. Dictionaries - Correction\n",
    "\n",
    "A dictionary is the nearest object from a list. The difference between a list and dictionary is that a list contains other objects and you need the position to find it. A dictionary contains also objects but not in a particular order. They are sorted with **keys**."
   ]
  },
  {
   "cell_type": "markdown",
   "metadata": {},
   "source": [
    "## Warmup 1\n",
    "\n",
    "Remove the element of the key ``key4``."
   ]
  },
  {
   "cell_type": "code",
   "execution_count": 1,
   "metadata": {},
   "outputs": [
    {
     "name": "stdout",
     "output_type": "stream",
     "text": [
      "{'key1': 'hello', 'key2': 13, 'key3': [1, 2, 3]}\n"
     ]
    }
   ],
   "source": [
    "my_dict = {'key1': 'hello', 'key2': 13, 'key3': [1, 2, 3], 'key4': True}\n",
    "\n",
    "# del my_dict['key4']\n",
    "my_dict.pop('key4')\n",
    "\n",
    "print(my_dict)"
   ]
  },
  {
   "cell_type": "markdown",
   "metadata": {},
   "source": [
    "## Warmup 2\n",
    "\n",
    "Add the boolean ``False`` to the key `key4`"
   ]
  },
  {
   "cell_type": "code",
   "execution_count": 3,
   "metadata": {},
   "outputs": [
    {
     "name": "stdout",
     "output_type": "stream",
     "text": [
      "{'key1': 'hello', 'key2': 13, 'key3': [1, 2, 3], 'key4': False}\n"
     ]
    }
   ],
   "source": [
    "my_dict = {'key1': 'hello', 'key2': 13, 'key3': [1, 2, 3]}\n",
    "\n",
    "my_dict['key4'] = False\n",
    "\n",
    "print(my_dict)"
   ]
  },
  {
   "cell_type": "markdown",
   "metadata": {},
   "source": [
    "## Warmup 3\n",
    "\n",
    "Loop into the dictionary `fruits` and print the keys of it."
   ]
  },
  {
   "cell_type": "code",
   "execution_count": 1,
   "metadata": {},
   "outputs": [
    {
     "name": "stdout",
     "output_type": "stream",
     "text": [
      "watermelon\n",
      "apple\n",
      "peach\n",
      "orange\n"
     ]
    }
   ],
   "source": [
    "fruits = {'watermelon': 15, 'apple': 10, 'peach': 25, 'orange': 30}\n",
    "\n",
    "for key in fruits.keys():\n",
    "    print(key)"
   ]
  },
  {
   "cell_type": "markdown",
   "metadata": {},
   "source": [
    "## Warmup 4\n",
    "\n",
    "Loop into the dictionary `fruits` and print the values of it."
   ]
  },
  {
   "cell_type": "code",
   "execution_count": 2,
   "metadata": {},
   "outputs": [
    {
     "name": "stdout",
     "output_type": "stream",
     "text": [
      "15\n",
      "10\n",
      "25\n",
      "30\n"
     ]
    }
   ],
   "source": [
    "fruits = {'watermelon': 15, 'apple': 10, 'peach': 25, 'orange': 30}\n",
    "\n",
    "for value in fruits.values():\n",
    "    print(value)"
   ]
  },
  {
   "cell_type": "markdown",
   "metadata": {},
   "source": [
    "## Warmup 5\n",
    "\n",
    "Loop into the dictionary `fruits` and print the keys and values of it."
   ]
  },
  {
   "cell_type": "code",
   "execution_count": 3,
   "metadata": {},
   "outputs": [
    {
     "name": "stdout",
     "output_type": "stream",
     "text": [
      "watermelon : 15\n",
      "apple : 10\n",
      "peach : 25\n",
      "orange : 30\n"
     ]
    }
   ],
   "source": [
    "fruits = {'watermelon': 15, 'apple': 10, 'peach': 25, 'orange': 30}\n",
    "\n",
    "for key, value in fruits.items():\n",
    "    print(key, ':', value)"
   ]
  },
  {
   "cell_type": "markdown",
   "metadata": {},
   "source": [
    "## Exercise 1\n",
    "\n",
    "__Filter a dictionary based on values__\n",
    "\n",
    "You have a dictionary with name as keys and ages, and you want to create another dictionary with only the people under 18."
   ]
  },
  {
   "cell_type": "code",
   "execution_count": 4,
   "metadata": {},
   "outputs": [
    {
     "name": "stdout",
     "output_type": "stream",
     "text": [
      "{'Zayaa': 4, 'Zul': 16, 'Tuguldur': 12}\n"
     ]
    }
   ],
   "source": [
    "people = {'Jeremy': 26, 'Zayaa': 4, 'Zul': 16, 'Khulan': 33, 'Tuguldur': 12, 'Buyanaa': 48}\n",
    "children = {}\n",
    "\n",
    "for key, value in people.items() :\n",
    "    if value < 18:\n",
    "        children[key] = value\n",
    "\n",
    "print(children)"
   ]
  },
  {
   "cell_type": "markdown",
   "metadata": {},
   "source": [
    "## Exercise 2\n",
    "\n",
    "Find the highest value in the dictionary"
   ]
  },
  {
   "cell_type": "code",
   "execution_count": 5,
   "metadata": {},
   "outputs": [
    {
     "name": "stdout",
     "output_type": "stream",
     "text": [
      "Highest value is 48 for Buyanaa\n"
     ]
    }
   ],
   "source": [
    "people = {'Jeremy': 26, 'Zayaa': 4, 'Zul': 16, 'Khulan': 33, 'Tuguldur': 12, 'Buyanaa': 48}\n",
    "\n",
    "max_value = 0\n",
    "for key, value in people.items() :\n",
    "    if value > max_value:\n",
    "        max_value = value\n",
    "        name = key\n",
    "        \n",
    "print('Highest value is', max_value,'for', name)"
   ]
  },
  {
   "cell_type": "markdown",
   "metadata": {},
   "source": [
    "## Exercise 3\n",
    "\n",
    "Get the highest price in a shop and put it in tuple."
   ]
  },
  {
   "cell_type": "code",
   "execution_count": 6,
   "metadata": {
    "scrolled": true
   },
   "outputs": [
    {
     "name": "stdout",
     "output_type": "stream",
     "text": [
      "('coconut', 42)\n"
     ]
    }
   ],
   "source": [
    "shop = {'apple': 6, 'pear': 12, 'coconut': 42, 'mango': 33, 'ananas': 15}\n",
    "max_item = ('',0)\n",
    "\n",
    "for item in shop.items():\n",
    "    if item[1] > max_item[1]:\n",
    "        max_item = item\n",
    "    \n",
    "print(max_item)"
   ]
  },
  {
   "cell_type": "markdown",
   "metadata": {},
   "source": [
    "## Exercise 4\n",
    "\n",
    "Filter a dictionary based on values. For example for values over 30 :\n",
    "\n",
    "    Input: shop = {'apple': 6, 'pear': 12, 'coconut': 42, 'mango': 33, 'ananas': 15}\n",
    "    Output: result = {'coconut': 42, 'mango': 33'}"
   ]
  },
  {
   "cell_type": "code",
   "execution_count": 10,
   "metadata": {},
   "outputs": [
    {
     "name": "stdout",
     "output_type": "stream",
     "text": [
      "{'coconut': 42, 'mango': 33}\n"
     ]
    }
   ],
   "source": [
    "shop = {'apple': 6, 'pear': 12, 'coconut': 42, 'mango': 33, 'ananas': 15}\n",
    "result = {}\n",
    "\n",
    "for key, value in shop.items():\n",
    "    if value > 30:\n",
    "        result[key] = value\n",
    "\n",
    "print(result)"
   ]
  },
  {
   "cell_type": "code",
   "execution_count": 11,
   "metadata": {},
   "outputs": [
    {
     "name": "stdout",
     "output_type": "stream",
     "text": [
      "{'coconut': 42, 'mango': 33}\n"
     ]
    }
   ],
   "source": [
    "shop = {'apple': 6, 'pear': 12, 'coconut': 42, 'mango': 33, 'ananas': 15}\n",
    "\n",
    "result = {key: value for key, value in shop.items() if value > 30}\n",
    "\n",
    "print(result)"
   ]
  },
  {
   "cell_type": "markdown",
   "metadata": {},
   "source": [
    "## Exercise 5\n",
    "\n",
    "Write a script to create a dictionary from a string.\n",
    "Be careful: You have to count when a letter appears several times.\n",
    "    \n",
    "    Input: 'erdenezul'\n",
    "    Output: {'e': 3, 'r': 1, 'd': 1, 'n': 1, 'z': 1, 'u': 1, 'l': 1}"
   ]
  },
  {
   "cell_type": "code",
   "execution_count": 13,
   "metadata": {},
   "outputs": [
    {
     "name": "stdout",
     "output_type": "stream",
     "text": [
      "{'e': 3, 'r': 1, 'd': 1, 'n': 1, 'z': 1, 'u': 1, 'l': 1}\n"
     ]
    }
   ],
   "source": [
    "my_string = 'erdenezul'\n",
    "dict_str = {}\n",
    "\n",
    "for letter in my_string:\n",
    "    if letter in dict_str.keys():\n",
    "        dict_str[letter] += 1\n",
    "    else:\n",
    "        dict_str[letter] = 1\n",
    "\n",
    "print(dict_str)"
   ]
  },
  {
   "cell_type": "markdown",
   "metadata": {},
   "source": [
    "## Exercise 6\n",
    "\n",
    "You have a list of students in list. It prints ``True`` if there is the value of the specified key exist. Else ``False``."
   ]
  },
  {
   "cell_type": "code",
   "execution_count": 17,
   "metadata": {},
   "outputs": [
    {
     "name": "stdout",
     "output_type": "stream",
     "text": [
      "True\n"
     ]
    }
   ],
   "source": [
    "students = [\n",
    "        {'student_id': 1, 'name': 'Jeremy', 'class': '1'}, \n",
    "        {'student_id': 2, 'name': 'Tuguldur', 'class': '3'},\n",
    "        {'student_id': 3, 'name': 'Pujee', 'class': '2'}, \n",
    "        {'student_id': 4, 'name': 'Zul', 'class': '2'}, \n",
    "        {'student_id': 5, 'name': 'Demberel', 'class': '1'}\n",
    "        ]\n",
    "\n",
    "key = 'class' # you can change to test\n",
    "value = 'Demberel' # you can change to test -> it has to return true\n",
    "\n",
    "ans = False\n",
    "for student in students:\n",
    "    if student[key] == value:\n",
    "        ans = True\n",
    "print(ans)"
   ]
  },
  {
   "cell_type": "markdown",
   "metadata": {},
   "source": [
    "## Exercise 7\n",
    "\n",
    "For this exercise, we will keep track of when our friend’s birthdays are, and be able to find that information based on their name. Create a dictionary of names and birthdays. When you run your program it should ask the user to enter a name, and return the birthday of that person back to them. The interaction should look something like this:\n",
    "\n",
    "    >>> Welcome to the birthday dictionary. We know the birthdays of:\n",
    "    Albert Einstein\n",
    "    Benjamin Franklin\n",
    "    Ada Lovelace\n",
    "    >>> Who's birthday do you want to look up?\n",
    "    Benjamin Franklin\n",
    "    >>> Benjamin Franklin's birthday is 01/17/1706.\n",
    "    \n",
    "( Albert Einstein: 03/14/1879 ; Benjamin Franklin: 01/17/1706 ; Ada Lovelace: 12/10/1815 )"
   ]
  },
  {
   "cell_type": "code",
   "execution_count": 22,
   "metadata": {},
   "outputs": [
    {
     "name": "stdout",
     "output_type": "stream",
     "text": [
      "Welcome to the birthday dictionary. We know the birthdays of:\n",
      "Albert Einstein\n",
      "Benjamin Franklin\n",
      "Ada Lovelace\n",
      "Who's birthday do you want to look up?\n",
      "Albert Einstein\n",
      "Albert Einstein's birthday is 03/14/1879\n"
     ]
    }
   ],
   "source": [
    "birth_dict = {'Albert Einstein': '03/14/1879', 'Benjamin Franklin': '01/17/1706', 'Ada Lovelace': '12/10/1815'}\n",
    "\n",
    "print('Welcome to the birthday dictionary. We know the birthdays of:')\n",
    "for name in birth_dict.keys():\n",
    "    print(name)\n",
    "\n",
    "user_ans = input(\"Who's birthday do you want to look up?\\n\")\n",
    "\n",
    "print(\"{}'s birthday is {}\".format(user_ans, birth_dict[user_ans]))\n"
   ]
  },
  {
   "cell_type": "markdown",
   "metadata": {},
   "source": [
    "## Exercise 8\n",
    "\n",
    "Date Decoder. A date of the form 8-MAR-2021 includes the name of the month, which must be translated to a number. Create a dictionary suitable for decoding month names to numbers. Use string operations to split the date into 3 items using the \"-\" character. Translate the month, correct the year to include all of the digits.\n",
    "\n",
    "It will accept a date in the ``\"dd-MMM-yyyy\"`` format and respond with a list of  ``[ y , m , d ]``.\n",
    "\n",
    "    Input: \"8-MAR-2021\"\n",
    "    Output: [2021, 3, 8]"
   ]
  },
  {
   "cell_type": "code",
   "execution_count": 21,
   "metadata": {},
   "outputs": [
    {
     "name": "stdout",
     "output_type": "stream",
     "text": [
      "[2021, 3, 8]\n"
     ]
    }
   ],
   "source": [
    "date = \"8-MAR-2021\"\n",
    "dict_month = {\"JAN\": 1, \"FEB\": 2, \"MAR\": 3, \"APR\": 4, \"MAY\": 5, \"JUN\": 6, \"JUL\": 7, \"AUG\": 8, \"SEP\": 9, \"OCT\": 10, \"NOV\": 11, \"DEC\": 12}\n",
    "\n",
    "split_date = date.split(\"-\")\n",
    "\n",
    "day = int(split_date[0])\n",
    "month = dict_month[split_date[1]]\n",
    "year = int(split_date[2])\n",
    "\n",
    "date_list = [year, month, day]\n",
    "print(date_list)"
   ]
  }
 ],
 "metadata": {
  "kernelspec": {
   "display_name": "Python 3",
   "language": "python",
   "name": "python3"
  },
  "language_info": {
   "codemirror_mode": {
    "name": "ipython",
    "version": 3
   },
   "file_extension": ".py",
   "mimetype": "text/x-python",
   "name": "python",
   "nbconvert_exporter": "python",
   "pygments_lexer": "ipython3",
   "version": "3.7.3"
  }
 },
 "nbformat": 4,
 "nbformat_minor": 4
}
