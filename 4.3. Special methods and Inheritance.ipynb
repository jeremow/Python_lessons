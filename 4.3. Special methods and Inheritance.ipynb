{
 "cells": [
  {
   "cell_type": "markdown",
   "metadata": {},
   "source": [
    "# 4. Object-oriented programmation with Obspy\n",
    "\n",
    "In this chapter, we will study what Python was planned to be : an oriented-object language!\n",
    "_\"Jérémy, you lost me...\"_. No worries! We will go slowly. Theses lessons about Classes, methods and everything are brand new to you if you didn't study other oriented-object languages.\n",
    "\n",
    "In this chapter, we will see:\n",
    "\n",
    "- Open and write into a file: not really into _object-oriented_ stuff but I wanted to see that with you.\n",
    "- Apprehend classes and define properties : The really beginning of you being a master of Python ... After this you will conquer the world for sure\n",
    "- Specific methods: A class is not just methods and attributes, you can do a bit more (a lot more actually)\n",
    "- Inheritance: For small projects, a little bit useless but when you will write the whole Windows OS in Python in the last chapter ... (not true, don't panick!). It's a important notion in object-oriented programmation that you can find anywhere.\n",
    "\n",
    "## 4.3. Special methods and Inheritance\n",
    "\n",
    "### 4.3.1. Special methods\n",
    "\n",
    "What it that? We already saw one, it was the `__init__` function of our class which is the instantiator. But in fact, there are much more than you can imagine. I will explain the main ones but not too much. If you're interested in, you'll find by yourself the possibilities.\n",
    "\n",
    "I think you understood but these methods are always written with two underscores before and after. \n",
    "\n",
    "#### Representation of your object\n",
    "\n",
    "When you give your object to the interpreter or to the ``print`` function, if you didn't define anything, you'll have the ugly version :"
   ]
  },
  {
   "cell_type": "code",
   "execution_count": null,
   "metadata": {},
   "outputs": [],
   "source": [
    "class Station:\n",
    "    def __init__(self, station):\n",
    "        self.station = station"
   ]
  },
  {
   "cell_type": "code",
   "execution_count": null,
   "metadata": {},
   "outputs": [],
   "source": [
    "SONA0 = Station('SONA0')\n",
    "print(SONA0)\n",
    "SONA0 # work as it's given to the interpreter"
   ]
  },
  {
   "cell_type": "markdown",
   "metadata": {},
   "source": [
    "Useful information but not for you, so you can interact with it to give you what's interesting about object with the special method `__repr__`"
   ]
  },
  {
   "cell_type": "code",
   "execution_count": null,
   "metadata": {},
   "outputs": [],
   "source": [
    "class Station:\n",
    "    def __init__(self, station):\n",
    "        self.station = station\n",
    "    \n",
    "    def __repr__(self):\n",
    "        return \"My station is called: {} (without print)\".format(self.station)\n",
    "    def __str__(self):\n",
    "        return \"My station is called {} (with print)\".format(self.station)"
   ]
  },
  {
   "cell_type": "code",
   "execution_count": null,
   "metadata": {},
   "outputs": [],
   "source": [
    "SONA0 = Station('SONA0')\n",
    "print(SONA0)\n",
    "SONA0"
   ]
  },
  {
   "cell_type": "markdown",
   "metadata": {},
   "source": [
    "It's magic, right? And to modify the behavior of `print`, you have to create a method called `__str__`. I don't give you the example, but you get it."
   ]
  },
  {
   "cell_type": "markdown",
   "metadata": {},
   "source": [
    "#### Access to the attributes of your class\n",
    "\n",
    "If you want to play with the attributes of your class, you'll have to modify the function `__getattr__`, `__setattr__` or `__delattr__`. It allows you to add some attributes to your classes or print something if the attribute doesn't exist or even delete some attributes... you can also modify it to avoid someone to do this in the class. I don't explain more, do research if you want.\n",
    "\n",
    "#### Mathematics methods\n",
    "\n",
    "To manipulate time for example, you need to do modify how the `+` and other signs will work because it's not the same as with number. And here we are without the hours to simplify:"
   ]
  },
  {
   "cell_type": "code",
   "execution_count": null,
   "metadata": {},
   "outputs": [],
   "source": [
    "class Time:\n",
    "    \"\"\"Class for time\"\"\"\n",
    "    \n",
    "    def __init__(self, min=0, sec=0):\n",
    "        \"\"\"Instantiator of the class\"\"\"\n",
    "        self.min = min # Nb of minutes\n",
    "        self.sec = sec # Nb of seconds\n",
    "    def __str__(self):\n",
    "        \"\"\"Display in a beautiful way\"\"\"\n",
    "        return \"{0:02}:{1:02}\".format(self.min, self.sec)"
   ]
  },
  {
   "cell_type": "markdown",
   "metadata": {},
   "source": [
    "(If you want to learn more about string formatting : [here](<https://docs.python.org/py3k/library/string.html#string-formatting>))"
   ]
  },
  {
   "cell_type": "code",
   "execution_count": null,
   "metadata": {
    "scrolled": true
   },
   "outputs": [],
   "source": [
    "t1 = Time(3, 5)\n",
    "print(t1)"
   ]
  },
  {
   "cell_type": "code",
   "execution_count": null,
   "metadata": {},
   "outputs": [],
   "source": [
    "t1 + 4"
   ]
  },
  {
   "cell_type": "markdown",
   "metadata": {},
   "source": [
    "Oh, it's an error. Yes, Python doesn't know how to add your `Time` class and an integer... like the `str` class if you remember.So you have to write it with `__add__` special method."
   ]
  },
  {
   "cell_type": "code",
   "execution_count": null,
   "metadata": {},
   "outputs": [],
   "source": [
    "class Time:\n",
    "    \"\"\"Class for time\"\"\"\n",
    "    \n",
    "    def __init__(self, min=0, sec=0):\n",
    "        \"\"\"Instantiator of the class\"\"\"\n",
    "        self.min = min # Nb of minutes\n",
    "        self.sec = sec # Nb of seconds\n",
    "        \n",
    "    def __str__(self):\n",
    "        \"\"\"Display in a beautiful way\"\"\"\n",
    "        return \"{0:02}:{1:02}\".format(self.min, self.sec)\n",
    "    \n",
    "    def __add__(self, object_to_add):\n",
    "        \"\"\"The object to add is an integer, number in seconds\"\"\"\n",
    "        new_time = Time()\n",
    "        # We copy self in the created object to have the same time\n",
    "        new_time.min = self.min\n",
    "        new_time.sec = self.sec\n",
    "        # We add the new time\n",
    "        new_time.sec += object_to_add\n",
    "        # if the new time in seconds >= 60\n",
    "        if new_time.sec >= 60:\n",
    "            new_time.min += new_time.sec // 60\n",
    "            new_time.sec = new_time.sec % 60\n",
    "        # we return the new Time\n",
    "        return new_time"
   ]
  },
  {
   "cell_type": "code",
   "execution_count": null,
   "metadata": {},
   "outputs": [],
   "source": [
    "t1 = Time(3, 5)\n",
    "print(t1)\n",
    "\n",
    "t1 = t1 + 56\n",
    "print(t1)"
   ]
  },
  {
   "cell_type": "markdown",
   "metadata": {},
   "source": [
    "That's for add but there are also for everything else :\n",
    "- ``__sub__``: for ``-`` ;\n",
    "- ``__mul__``: for ``*`` ;\n",
    "- ``__truediv__``: for ``/`` ;\n",
    "- ``__floordiv__``: for ``//`` ;\n",
    "- ``__mod__``: for ``%`` (modulo) ;\n",
    "- ``__pow__``: for ``**`` (power) ;\n",
    "\n",
    "And what about `t1 = 56 + t1`. You have the eyes Sherlock. It doesn't work ..."
   ]
  },
  {
   "cell_type": "code",
   "execution_count": null,
   "metadata": {},
   "outputs": [],
   "source": [
    "t1 = 56 + t1"
   ]
  },
  {
   "cell_type": "markdown",
   "metadata": {},
   "source": [
    "To avoid this problem, you have to declare `__radd__` like this:"
   ]
  },
  {
   "cell_type": "code",
   "execution_count": null,
   "metadata": {},
   "outputs": [],
   "source": [
    "    def __radd__(self, object_to_add):\n",
    "        return self + object_to_add"
   ]
  },
  {
   "cell_type": "markdown",
   "metadata": {},
   "source": [
    "If you want to use `+=` you have to redefine `__iadd__`, etc.\n",
    "\n",
    "Other useful special methods are the comparison operators you can change ( [Hereeee](<https://blog.cambridgespark.com/magic-methods-a8d93dc55012>) )\n",
    "\n",
    "### 4.3.2. Inheritance\n",
    "\n",
    "What is inheritance? Inheritance is one of the most used concepts in object-oriented programming. At first you'll ask yourself \"What the fuck am I learning?\" and after you'll be like \"Why the fuck am I learning this?\" and finally \"Why the fuck didn't know about that before?\".\n",
    "\n",
    "And here the guide to go through it ... we will begin with examples out of ``obspy``.\n",
    "\n",
    "#### The concept\n",
    "\n",
    "Inheritance is a concept where you can declare that one of your class will be built on the model of another one which is called the __Base Class__. If a class ``Child`` inherits from the class `Mother`, the objects created on the model of the `Child` will have access to the __methods__ and __attributes__ of the class `Mother`. This `Child` class is called __Derived Class__.\n",
    "\n",
    "The goal is to add some features to our Base Class like other methods and attributes which will get some great make up on it. The Derived Class can also redefined some methods in the Base Class to adapt to your personal use (print other stuffs, change figures ...).\n",
    "\n",
    "Buut let's start at the beginning with an example. We have a class `Animal` where we can create ... animals. When we define an animal, they have attributes (like the diet: meat or plants) and methods (like eat, drink, shout).\n",
    "\n",
    "Now we can define the class `Dog` which inherits from the `Animal` class, so it has its methods and attributes. Why `Dog` from `Animal` and not the contrary :\n",
    "\n",
    "- `Dog` inherits from `Animal` because a dog is an animal ;\n",
    "- `Animal` doesn't inherit from `Dog` because an animal is not a dog.\n",
    "\n",
    "With the same model : an car is a vehicule. So a `Car` can inherits from `Vehicule`. Now we can write a little bit of code!\n",
    "\n",
    "#### The single inheritance\n",
    "\n",
    "We oppose __single inheritance__ to __multiple inheritance__ that we won't see together. If it interests you later, contact me and I will write for you a little something about it.\n",
    "\n",
    "Here's the syntax. We will define a ``BaseClass`` and a ``DerivedClass`` which inherits from ``BaseClass``."
   ]
  },
  {
   "cell_type": "code",
   "execution_count": null,
   "metadata": {},
   "outputs": [],
   "source": [
    "class BaseClass:\n",
    "    \"\"\"\n",
    "    Base Class to draw a picture of inheritance\n",
    "    \"\"\"\n",
    "    def my_method(self):\n",
    "        pass\n",
    "    pass # word to let something empty\n",
    "\n",
    "class DerivedClass(BaseClass):\n",
    "    \"\"\"\n",
    "    Derived Class which inherits from BaseClass. \n",
    "    Same methods and attributes.\n",
    "    Even if there is none here.\n",
    "    \"\"\"\n",
    "    \n",
    "    pass"
   ]
  },
  {
   "cell_type": "markdown",
   "metadata": {},
   "source": [
    "So you have the syntax to create inheritance between two classes. So, you write methods and attributes into ``BaseClass`` and then you create an instance the ``DerivedClass``. If you call a method of the object :"
   ]
  },
  {
   "cell_type": "code",
   "execution_count": null,
   "metadata": {},
   "outputs": [],
   "source": [
    "my_object = DerivedClass()\n",
    "my_object.my_method()"
   ]
  },
  {
   "cell_type": "markdown",
   "metadata": {},
   "source": [
    "If the method doesn't exist in `DerivedClass`, Python will search for it in the `BaseClass`. But it's not that easy to understand and with a concrete example, you'll understand what I mean."
   ]
  },
  {
   "cell_type": "code",
   "execution_count": null,
   "metadata": {},
   "outputs": [],
   "source": [
    "class Person:\n",
    "    \"\"\"Class for a person\"\"\"\n",
    "    def __init__(self, name):\n",
    "        \"\"\"Instantiator\"\"\"\n",
    "        self.name = name\n",
    "        self.surname = \"Jeremy\"\n",
    "    def __str__(self):\n",
    "        \"\"\"Method to print our object in a beautiful way\"\"\"\n",
    "        return \"{} {}\".format(self.surname, self.name)\n",
    "\n",
    "class Seismologist(Person):\n",
    "    \"\"\"Class to define a seismologist.\n",
    "    Inherits from Person\"\"\"\n",
    "    \n",
    "    def __init__(self, name, position):\n",
    "        \"\"\"A Seismologist is defined with his name and position\"\"\"\n",
    "        self.name = name\n",
    "        self.position = position\n",
    "    def __str__(self):\n",
    "        \"\"\"Method to print our object in a beautiful way\"\"\"\n",
    "        return \"Name: {0}, position {1}\".format(self.name, self.position)"
   ]
  },
  {
   "cell_type": "markdown",
   "metadata": {},
   "source": [
    "So now, we have a single inheritance. But if we create a Seismologist, you'll have some problems ... let's see together."
   ]
  },
  {
   "cell_type": "code",
   "execution_count": null,
   "metadata": {
    "scrolled": true
   },
   "outputs": [],
   "source": [
    "jeremy = Seismologist(\"Hraman\", \"cooperant\")\n",
    "\n",
    "print(jeremy.name)\n",
    "print(jeremy)\n",
    "print(jeremy.surname)"
   ]
  },
  {
   "cell_type": "markdown",
   "metadata": {},
   "source": [
    "Why the ``surname`` doesn't exist even if we defined it in the class ``Person``? Because when we wrote the classes, we defined the method `__init__` in both of it. So when you create an object of `Seismologist`, it will call the instantiator `__init__` from the class `Seismologist` and not the `Person` one. HOWEVER, the attribute `surname` is in defined only in the instantiator of the class `Person`, so you don't have access to it.\n",
    "\n",
    "So, the way to avoid this problem is to call the instantiator of the class `Person` when calling the instantiator of the class `Seismologist`. I think it's a little blurry in your head but watch to this example."
   ]
  },
  {
   "cell_type": "code",
   "execution_count": null,
   "metadata": {},
   "outputs": [],
   "source": [
    "class Person:\n",
    "    \"\"\"Class for a person\"\"\"\n",
    "    def __init__(self, name):\n",
    "        \"\"\"Instantiator\"\"\"\n",
    "        self.name = name\n",
    "        self.surname = \"Jeremy\"\n",
    "    def __str__(self):\n",
    "        \"\"\"Method to print our object in a beautiful way\"\"\"\n",
    "        return \"{} {}\".format(self.surname, self.name)\n",
    "\n",
    "class Seismologist(Person):\n",
    "    \"\"\"Class to define a seismologist.\n",
    "    Inherits from Person\"\"\"\n",
    "    \n",
    "    def __init__(self, name, position):\n",
    "        \"\"\"A Seismologist is defined with his name and position\"\"\"\n",
    "        Person.__init__(self, name)\n",
    "        self.position = position\n",
    "    def __str__(self):\n",
    "        \"\"\"Method to print our object in a beautiful way\"\"\"\n",
    "        return \"Name: {0}, position {1}\".format(self.name, self.position)"
   ]
  },
  {
   "cell_type": "markdown",
   "metadata": {},
   "source": [
    "And now, we do the same actions as before :"
   ]
  },
  {
   "cell_type": "code",
   "execution_count": null,
   "metadata": {},
   "outputs": [],
   "source": [
    "jeremy = Seismologist(\"Hraman\", \"cooperant\")\n",
    "\n",
    "print(jeremy.name)\n",
    "print(jeremy)\n",
    "print(jeremy.surname)"
   ]
  },
  {
   "cell_type": "markdown",
   "metadata": {},
   "source": [
    "It's magic, no? If it's not so clear in your head, try to read it again, change methods, call new attributes ...\n",
    "\n",
    "#### Two functions really useful\n",
    "\n",
    "`issubclass` and `isinstance`.\n",
    "\n",
    "`issubclass` allow you to verify if a class inherits from another one like this:"
   ]
  },
  {
   "cell_type": "code",
   "execution_count": null,
   "metadata": {},
   "outputs": [],
   "source": [
    "print(issubclass(Seismologist, Person))\n",
    "print(issubclass(Seismologist, object))\n",
    "print(issubclass(Person, object))\n",
    "print(issubclass(Person, Seismologist))"
   ]
  },
  {
   "cell_type": "markdown",
   "metadata": {},
   "source": [
    "Yeah, I didn't say to you, but as a object-oriented language, ALL is object in Python. So everything derives from it and inherits from it.\n",
    "\n",
    "``isinstance`` allow you to verify if an object you created (an instance) belongs to a class or its base classes."
   ]
  },
  {
   "cell_type": "code",
   "execution_count": null,
   "metadata": {},
   "outputs": [],
   "source": [
    "print(isinstance(jeremy, Seismologist))\n",
    "print(isinstance(jeremy, Person))\n",
    "print(isinstance(jeremy, object)) \n",
    "# please, I'm not just an object, I have a soul"
   ]
  },
  {
   "cell_type": "markdown",
   "metadata": {},
   "source": [
    "Hereeee we finished with the theory of Python for this year!! We will next week be interested in Obspy, you happy?"
   ]
  }
 ],
 "metadata": {
  "kernelspec": {
   "display_name": "Python 3",
   "language": "python",
   "name": "python3"
  },
  "language_info": {
   "codemirror_mode": {
    "name": "ipython",
    "version": 3
   },
   "file_extension": ".py",
   "mimetype": "text/x-python",
   "name": "python",
   "nbconvert_exporter": "python",
   "pygments_lexer": "ipython3",
   "version": "3.7.3"
  }
 },
 "nbformat": 4,
 "nbformat_minor": 4
}
