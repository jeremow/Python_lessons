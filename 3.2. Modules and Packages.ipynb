{
 "cells": [
  {
   "cell_type": "markdown",
   "metadata": {},
   "source": [
    "# 3. Functions and modules\n",
    "\n",
    "__Modules__ allow you to group several _Functions_ with the same principle. For example, all the mathematical functions are in module named _math_. "
   ]
  },
  {
   "cell_type": "markdown",
   "metadata": {},
   "source": [
    "## 3.2. Library : Modules & Packages\n",
    "\n",
    "We just used functions already loaded in Python for the moment but the number of functions outside already written allow us to do a lot more. \n",
    "\n",
    "A module is simply a file with functions and variables. If you want to use it, you have to import it in your program. They cannot be directly imported in your code because they have to be interpreted first.\n",
    "\n",
    "### The method `import`\n",
    "\n",
    "Not as easy as import this keyword :"
   ]
  },
  {
   "cell_type": "code",
   "execution_count": null,
   "metadata": {},
   "outputs": [],
   "source": [
    "import math\n"
   ]
  },
  {
   "cell_type": "markdown",
   "metadata": {},
   "source": [
    "Now you imported the module. You can simply use all the functions inside of it. You just have to call the function with the `module_name` + '.' + `function_name`. For example : `math.sqrt` is the square root function."
   ]
  },
  {
   "cell_type": "code",
   "execution_count": null,
   "metadata": {},
   "outputs": [],
   "source": [
    "math.sqrt(25)\n"
   ]
  },
  {
   "cell_type": "markdown",
   "metadata": {},
   "source": [
    "If you want to know what functions are inside of a module, you can write `help(\"math\")` in the interpreter and then move with _Enter_ to go on line by line ; _Space_ to go one page further and _Q_ to quit the help (not working like this here in Jupyter but in interpreter on your computer). However I advise you to directly go on the documentation on the internet for each module. It's really well designed and you can search better for what you need.\n",
    "(For math module : https://docs.python.org/3/library/math.html )"
   ]
  },
  {
   "cell_type": "markdown",
   "metadata": {},
   "source": [
    "### Change the name of a module\n",
    "One possibility is you can change the name of the module. So for `math`, the example is not really appropriated. But you can change it anyway. The little word to use is `as`."
   ]
  },
  {
   "cell_type": "code",
   "execution_count": null,
   "metadata": {},
   "outputs": [],
   "source": [
    "import math as mathematics\n",
    "mathematics.sqrt(25)"
   ]
  },
  {
   "cell_type": "markdown",
   "metadata": {},
   "source": [
    "It is called a workspace. Now your workspace of math module is called _mathematics_.\n",
    "We'll see later but it's useful for some other module like `matplotlib`. I don't explain so much but for example you can write `import matplotlib.pyplot as plt`. You see now why it can be useful, you time is precious."
   ]
  },
  {
   "cell_type": "markdown",
   "metadata": {},
   "source": [
    "### Other way to import : `from ... import ...`\n",
    "\n",
    "You can also just import some functions of a module without getting all of them. This method allow you to get some functions and after you don't need the name of the module anymore. Just see, it's easy :"
   ]
  },
  {
   "cell_type": "code",
   "execution_count": null,
   "metadata": {},
   "outputs": [],
   "source": [
    "from math import sqrt\n",
    "sqrt(25)"
   ]
  },
  {
   "cell_type": "markdown",
   "metadata": {},
   "source": [
    "No, you have the `sqrt` function as if it was in your script code. You can import several functions with a comma between them : `from math import sqrt, cos`.\n",
    "\n",
    "Other great thing to know but you have to be careful about it. You can import all the functions of a module without the name of it with `from ... import *`. For example with the module `math` :"
   ]
  },
  {
   "cell_type": "code",
   "execution_count": null,
   "metadata": {},
   "outputs": [],
   "source": [
    "from math import *\n",
    "acos(pi/4) # arcosine function"
   ]
  },
  {
   "cell_type": "markdown",
   "metadata": {},
   "source": [
    "You have to pay attention to it if the functions are in many modules. It can interfere between them and you don't know where the function comes from. In this case, to have no doubt, you import the module with his name. You really know the function is from math module for example and not other imported modules."
   ]
  },
  {
   "cell_type": "markdown",
   "metadata": {},
   "source": [
    "### One file to control them all\n",
    "\n",
    "As you already know, you can write instructions in the interpreter but also create file directly in your software. The two most common are PyCharm and Spyder. PyCharm stays at the top-professional level of all the softwares. Spyder is more educational. \n",
    "\n",
    "Now the real work begins. But first, I will use a function you perhaps don't know : `input`. If you know it, it's good! You can communicate with the user."
   ]
  },
  {
   "cell_type": "code",
   "execution_count": null,
   "metadata": {},
   "outputs": [],
   "source": [
    "# example to use input function\n",
    "\n",
    "name = input('Write your name : ')\n",
    "\n",
    "print('Hello', name)"
   ]
  },
  {
   "cell_type": "markdown",
   "metadata": {},
   "source": [
    "Easy, right? You can also ask for number :"
   ]
  },
  {
   "cell_type": "code",
   "execution_count": null,
   "metadata": {},
   "outputs": [],
   "source": [
    "print('I will compute you age in 5 years')\n",
    "age = input('How old are you :')\n",
    "\n",
    "print('In 5 years you will be', age+5)"
   ]
  },
  {
   "cell_type": "markdown",
   "metadata": {},
   "source": [
    "Yes, it's an error but why? When you write something in the interpreter via the input, he cannot guess if you write number or anything else. So he considered that's a string and you have to deal with. You can however change the type in Python with the short name of it.\n",
    "\n",
    "If you want an integer, you use the function `int`, `float` for float, `str` for string ..."
   ]
  },
  {
   "cell_type": "code",
   "execution_count": null,
   "metadata": {},
   "outputs": [],
   "source": [
    "print('I will compute you age in 5 years')\n",
    "age = input('How old are you :')\n",
    "age = int(age)\n",
    "\n",
    "print('In 5 years you will be', age+5)"
   ]
  },
  {
   "cell_type": "markdown",
   "metadata": {},
   "source": [
    "You're now ready for the next level. You will open your software and create a new file. You copy/paste this code in it or right click on this and save the file [for Windows](<code/2_2_modules/bar_example_win.py>) or [for Linux](<code/2_2_modules/bar_example_lin.py>). "
   ]
  },
  {
   "cell_type": "code",
   "execution_count": null,
   "metadata": {},
   "outputs": [],
   "source": [
    "# -*- coding: utf-8 -*-\n",
    "\n",
    "import os # this library is useful to communicate the operating system of your computer\n",
    "\n",
    "# we define our function to get the order price :\n",
    "\n",
    "def order_price(nb_beer, price_beer=4000):\n",
    "    \"\"\"\n",
    "    Function which returns the price of a specific order of beers\n",
    "    \n",
    "    (nb_beer >= 0)\n",
    "    \"\"\"\n",
    "    return nb_beer * price_beer\n",
    "\n",
    "nb_beer = input(\"How many beers do you want to drink ? \") # asking the user to give his order\n",
    "\n",
    "nb_beer = int(nb_beer) # convert\n",
    "\n",
    "total_price = order_price(nb_beer) # compute the price\n",
    "\n",
    "print('Your order of {} beer(s) will cost you {}T'.format(nb_beer, total_price))\n",
    "\n",
    "os.system('pause') # this line is used by Windows to avoid quitting the terminal when you launch it\n"
   ]
  },
  {
   "cell_type": "markdown",
   "metadata": {},
   "source": [
    "We can directly run file here, but the point is to practise on your own computer.\n",
    "\n",
    "_\"What's this first line?\"_  : We need it on your computer if you use accents. Perhaps not so many in english but for example in my french name _Jérémy_. That's not a lesson about encoding but utf-8 will be universal for languages with latin letters. \n",
    "\n",
    "If you run on linux you have to add this line before all, it's the path where the python interpreter is."
   ]
  },
  {
   "cell_type": "code",
   "execution_count": null,
   "metadata": {},
   "outputs": [],
   "source": [
    "#!/usr/bin/python3.8"
   ]
  },
  {
   "cell_type": "markdown",
   "metadata": {},
   "source": [
    "If you run the file you just saved by double clicking on it (in my case bar_example_win.py), you'll see this on Windows :\n",
    "\n",
    "![bar_example_win](images/bar_example_win.png)\n",
    "\n",
    "You can also launch it directly in PyCharm using this :\n",
    "\n",
    "![pycharm](images/pycharm.png)\n",
    "\n",
    "_Okay Jérémy, but where do we go now? What are we doing?_\n",
    "\n",
    "Yeah sorry, that was really important to understand that before following the lesson about modules. If you knew about all of this, it doesn't kill after all this time to see it again!"
   ]
  },
  {
   "cell_type": "markdown",
   "metadata": {},
   "source": [
    "### Conquer the world and create your own modules\n",
    "\n",
    "Time to create your module. Create a folder on your computer and with PyCharm create two files \n",
    "- `bar.py` which will contain our function `order_price` ;\n",
    "- `test.py` which execute some test on your module.\n",
    "\n",
    "The code of `bar.py` :"
   ]
  },
  {
   "cell_type": "code",
   "execution_count": null,
   "metadata": {},
   "outputs": [],
   "source": [
    "# -*- coding: utf-8 -*-\n",
    "\n",
    "\"\"\"module bar with the function order_price\"\"\"\n",
    "\n",
    "def order_price(nb_beer, price_beer=4000):\n",
    "    \"\"\"\n",
    "    Function which returns the price of a specific order of beers\n",
    "    \n",
    "    (nb_beer >= 0)\n",
    "    \"\"\"\n",
    "    return nb_beer * price_beer"
   ]
  },
  {
   "cell_type": "markdown",
   "metadata": {},
   "source": [
    "It's for the first example, it seems useless for the small amount of things we wrote but you have to understand how it works when you will be surrounded by thousands lines of code. I had some `docstring` to comment the module. Keep the habit to explain what the function, files are for.\n",
    "\n",
    "And here for the `test.py` file :"
   ]
  },
  {
   "cell_type": "code",
   "execution_count": null,
   "metadata": {},
   "outputs": [],
   "source": [
    "# -*- coding: utf-8 -*-\n",
    "\n",
    "import os\n",
    "from bar import * # or import bar\n",
    "\n",
    "nb_beer = input(\"How many beers do you want to drink ? \") \n",
    "nb_beer = int(nb_beer) \n",
    "\n",
    "# test of the function order_price\n",
    "\n",
    "total_price = order_price(nb_beer) # or bar.order_price(nb_beer)\n",
    "print('Your order of {} beer(s) will cost you {}T'.format(nb_beer, total_price))\n",
    "\n",
    "os.system('pause') "
   ]
  },
  {
   "cell_type": "markdown",
   "metadata": {},
   "source": [
    "Et voilà! Good to know it was that simple. Now you can create everything you want and further ... and it will be the next step after studying the exceptions.\n",
    "\n",
    "You will see when running `test.py` that a folder `__pycache__` has been created. It's a compiled code used py Python to run faster the next time you'll run `test.py`.  Don't be afraid, you don't have to be preoccupied by this, it's a story between Python and the OS."
   ]
  },
  {
   "cell_type": "markdown",
   "metadata": {},
   "source": [
    "### Make a test directly in the module\n",
    "\n",
    "It would be cool if we can test directly in the module file without affecting the other files when importing our module. And it's possible. If you just write after your `order_price` function: `order_price(3)` for example, when importing your module, this line will also be executed. To avoid this, you'll create a new condition in your module :"
   ]
  },
  {
   "cell_type": "code",
   "execution_count": null,
   "metadata": {},
   "outputs": [],
   "source": [
    "# -*- coding: utf-8 -*-\n",
    "\n",
    "\"\"\"module bar with the function order_price\"\"\"\n",
    "\n",
    "import os\n",
    "\n",
    "def order_price(nb_beer, price_beer=4000):\n",
    "    \"\"\"\n",
    "    Function which returns the price of a specific order of beers\n",
    "    \n",
    "    (nb_beer >= 0)\n",
    "    \"\"\"\n",
    "    return nb_beer * price_beer\n",
    "\n",
    "# test of the function order_price\n",
    "\n",
    "if __name__ == \"__main__\":\n",
    "    total_price = order_price(3)\n",
    "    print('Price:', total_price)\n",
    "    os.system('pause')"
   ]
  },
  {
   "cell_type": "markdown",
   "metadata": {},
   "source": [
    "When you double click on your module `bar.py`, it executes the function for 3 beers. However, if you launch `test.py`, it doesn't run this part of the code. What magic trick is this?\n",
    "\n",
    "With the variable `__name__`, the interpreter Python know if you run the file as the _main file_ or if you import it in another file like `test.py`. So if you run `bar.py`, Python considers it as the main file (obviously) and so it will run the code inside of it. "
   ]
  },
  {
   "cell_type": "markdown",
   "metadata": {},
   "source": [
    "### Packages ... did you think I forgot?\n",
    "\n",
    "A __module__ encapsulates several functions and other things (chapter 3 wait for it, you're not ready). And a bit higher is what we called a __package__.\n",
    "\n",
    "#### Theory\n",
    "\n",
    "The theory behind this is the organization. When you create a big software, you'll separate the things which don't match together. It's good to know what you need and what you don't need in every element. Imagine with our `bar` module if we write functions about the drinks like before but also about the workers inside it and why not the clients. Absolutely, you won't put all your functions and variables in just one file. It will be a mess and don't find what you need. Even worse for people who doesn't know how your module works.\n",
    "\n",
    "So we separate things in packages like `workers`, `clients` and `drinks`. And the final goal is to create a __library__ with packages inside of it. It's the best for the hierarchy. And why? Because you won't have to know all the packages, modules and functions to use your library but just what you need.\n",
    "\n",
    "#### Practical\n",
    "\n",
    "It is just ... folders with files inside!\n",
    "\n",
    "For our example of the bar, the hierarchy will be :\n",
    "\n",
    "- The name of the library, a folder with the name _bar_\n",
    "    - a folder _people_ with\n",
    "        - a module _client.py_\n",
    "        - a module _worker.py_\n",
    "    - a module _order.py_\n",
    "    - ...\n",
    "\n",
    "To import some packages in your program, it always with the keyword `import` and `from` :"
   ]
  },
  {
   "cell_type": "code",
   "execution_count": null,
   "metadata": {},
   "outputs": [],
   "source": [
    "import bar"
   ]
  },
  {
   "cell_type": "markdown",
   "metadata": {},
   "source": [
    "With this, you import all the library and then you can call some modules inside of it with a point between names :"
   ]
  },
  {
   "cell_type": "code",
   "execution_count": null,
   "metadata": {},
   "outputs": [],
   "source": [
    "bar.people # call the subpackage people\n",
    "bar.people.client # call the module client"
   ]
  },
  {
   "cell_type": "markdown",
   "metadata": {},
   "source": [
    "If you just need one module or even just one function inside you can use :"
   ]
  },
  {
   "cell_type": "code",
   "execution_count": null,
   "metadata": {},
   "outputs": [],
   "source": [
    "from bar.people import client # import the module\n",
    "from bar.people.client import get_name # import just one function of the client module"
   ]
  },
  {
   "cell_type": "markdown",
   "metadata": {},
   "source": [
    "One last example, if you put in `order.py` our function to get the price of the order. When you want to import it from our library and use it, you have to possibilities :"
   ]
  },
  {
   "cell_type": "code",
   "execution_count": null,
   "metadata": {},
   "outputs": [],
   "source": [
    "from bar.order import order_price\n",
    "order_price(3) # call the function order_price\n",
    "\n",
    "### OR ###\n",
    "\n",
    "import bar.order\n",
    "bar.order.order_price(3) # call the function order_price"
   ]
  },
  {
   "cell_type": "markdown",
   "metadata": {},
   "source": [
    "Now you understand all, we'll see how to manage exceptions and then our first big exercise! I'm pride of you all, you read it till there and it's already a big step in the programming world of Python."
   ]
  }
 ],
 "metadata": {
  "kernelspec": {
   "display_name": "Python 3",
   "language": "python",
   "name": "python3"
  },
  "language_info": {
   "codemirror_mode": {
    "name": "ipython",
    "version": 3
   },
   "file_extension": ".py",
   "mimetype": "text/x-python",
   "name": "python",
   "nbconvert_exporter": "python",
   "pygments_lexer": "ipython3",
   "version": "3.7.3"
  }
 },
 "nbformat": 4,
 "nbformat_minor": 4
}
