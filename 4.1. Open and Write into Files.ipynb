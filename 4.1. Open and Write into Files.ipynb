{
 "cells": [
  {
   "cell_type": "markdown",
   "metadata": {},
   "source": [
    "# 4. Object-oriented programmation with Obspy\n",
    "\n",
    "In this chapter, we will study what Python was planned to be : an object-oriented language!\n",
    "_\"Jérémy, you lost me...\"_. No worries! We will go slowly. Theses lessons about Classes, methods and everything are brand new to you if you didn't study other oriented-object languages.\n",
    "\n",
    "In this chapter, we will see:\n",
    "\n",
    "- Open and write into a file: not really into _object-oriented_ stuff but I wanted to see that with you.\n",
    "- Apprehend classes and define properties : The really beginning of you being a master of Python ... After this you will conquer the world for sure\n",
    "- Specific methods: A class is not just methods and attributes, you can do a bit more (a lot more actually)\n",
    "- Inheritance: For small projects, a little bit useless but when you will write the whole Windows OS in Python in the last chapter ... (not true, don't panick!). It's a important notion in object-oriented programmation that you can find anywhere.\n",
    "\n",
    "## 4.1. Open and write into a file\n",
    "\n",
    "You'll have to open and write into files a lot of time, to save some data of your script, open data from another software ... When you work with Python, the directory where the script is will be the current directory. To know where you are, you have to use the module `os` and the function `getcwd()`"
   ]
  },
  {
   "cell_type": "code",
   "execution_count": null,
   "metadata": {},
   "outputs": [],
   "source": [
    "import os\n",
    "print(os.getcwd())\n"
   ]
  },
  {
   "cell_type": "markdown",
   "metadata": {},
   "source": [
    "Now, if you want to change the folder you're in, there is the function `chdir('/path/to/directory')`. I let you experiment on your own!\n",
    "\n",
    "_Good to know that but how do we open and write into files ?_\n",
    "First you have to open the file with Python with the function ... `open()` (not in the os module!). It takes two parameters: the path to the file (the file you want to open or create) and how do you want to open it :\n",
    "\n",
    "- `'r'` : open in read mode. You cannot edit it.\n",
    "- `'w'` : open in write mode. Be careful, the content of the file will be erased. If the file doesn't exist, Python creates it.\n",
    "- `'a'` : open in append-writing mode. You'll write at the end of the file without erasing it. If the file doesn't exist, Python creates it."
   ]
  },
  {
   "cell_type": "code",
   "execution_count": null,
   "metadata": {},
   "outputs": [],
   "source": [
    "my_file = open('code/3_1/file.txt','w')"
   ]
  },
  {
   "cell_type": "markdown",
   "metadata": {},
   "source": [
    "When you write a path like this `'code/3_1/file.txt'`, it will begin at the current directory (``os.getcwd()``). But if you write like this with a slash as first character, it will be the real path so the real path of your computer. For example, for the same folder as before: `'/home/jeremow/Python_level2/code/3_1'`. It can be dangerous if you want to give your script to someone using real path.\n",
    "\n",
    "Then you can write in it with the method `write()` and read it with the method ... `read()`. So smart it is. But, only strings! If you want to put numbers, you have to convert it with `str()` to avoid errors."
   ]
  },
  {
   "cell_type": "code",
   "execution_count": null,
   "metadata": {},
   "outputs": [],
   "source": [
    "my_file.write('Sain uu, I am a real mongolian man ; Hello ; Bonjour')"
   ]
  },
  {
   "cell_type": "markdown",
   "metadata": {},
   "source": [
    "To close the file, you use the method `close()`. If another part of your script or another software want to open it but it's opened in your variable `my_file`, you'll get errors."
   ]
  },
  {
   "cell_type": "code",
   "execution_count": null,
   "metadata": {},
   "outputs": [],
   "source": [
    "my_file.close()"
   ]
  },
  {
   "cell_type": "markdown",
   "metadata": {},
   "source": [
    "You cannot read and write at the same time, so you have to close it first and then open it in readable mode"
   ]
  },
  {
   "cell_type": "code",
   "execution_count": null,
   "metadata": {},
   "outputs": [],
   "source": [
    "my_file = open('code/3_1/file.txt','r')\n",
    "content = my_file.read()\n",
    "print(content)\n",
    "my_file.close()"
   ]
  },
  {
   "cell_type": "markdown",
   "metadata": {},
   "source": [
    "In fact, we don't use so much the method ``close()`` because we will use another keyword called __with__. I swear to you that's one of the last we will learn! With the __with__ statement, you can do operations on file without caring about closing it after. Here is the syntax:"
   ]
  },
  {
   "cell_type": "code",
   "execution_count": null,
   "metadata": {},
   "outputs": [],
   "source": [
    "with open(path_file, opening_mode) as variable_name:\n",
    "    # statement block"
   ]
  },
  {
   "cell_type": "markdown",
   "metadata": {},
   "source": [
    "We have here:\n",
    "- the keyword __with__ to manipulate the file\n",
    "- the function __open()__ which will return the object bound to your file\n",
    "- `as` to give another name\n",
    "- the variable which contains the file as an object.\n",
    "\n",
    "With a little example:"
   ]
  },
  {
   "cell_type": "code",
   "execution_count": null,
   "metadata": {
    "scrolled": true
   },
   "outputs": [],
   "source": [
    "with open('code/3_1/file.txt','r') as my_file:\n",
    "    content = my_file.read()\n",
    "    print(content)\n",
    "    my_list = []\n",
    "    my_list = content.split(';')\n",
    "    print(my_list)"
   ]
  },
  {
   "cell_type": "markdown",
   "metadata": {},
   "source": [
    "Python will automatically close the file you wrote in. So even if an error occurs, the file will be closed and you don't have to fear to lose your data. Here's an example with `obspy` library. WOW JEREMY YOU WILL USE OBSPY FOR THE FIRST TIME WITH US, I'M SO HAPPY. Yeah I know."
   ]
  },
  {
   "cell_type": "code",
   "execution_count": null,
   "metadata": {},
   "outputs": [],
   "source": [
    "from obspy import read\n",
    "\n",
    "st = read('code/3_1/RD.SONA0..SHZ.D.2020.001', 'mseed') # class Stream variable\n",
    "\n",
    "tr = st[0] # class Trace variable\n",
    "stats_text = str(tr.stats)\n",
    "\n",
    "with open('code/3_1/file.txt', 'w') as my_stats:\n",
    "    my_stats.write(stats_text)\n",
    "\n",
    "with open('code/3_1/file.txt', 'r') as my_stats:\n",
    "    print(my_stats.read())"
   ]
  },
  {
   "cell_type": "markdown",
   "metadata": {},
   "source": [
    "Little explanation :\n",
    "- l.1: First we import the function `read` from obspy library\n",
    "- l.3: When using `read()`, you can pass the path of your file (here a miniseed). If you precise the type on the second argument, it will be faster for the function to read it. It returns a `Stream` obspy class object which contain all the information about seismic data.\n",
    "- l.4: Then we take out the first trace. In a stream, you can have different seismic trace like one on the 1st of January and one on the 13rd but also one from the station SONA0 and one from the station SONA4 for example.\n",
    "- l.5: Then we get the stats of the trace (sampling rate, station, etc ...) and convert it to text.\n",
    "- l.7-11: To finish, we write into a text file and recover it afterwards."
   ]
  },
  {
   "cell_type": "markdown",
   "metadata": {},
   "source": [
    "If you're interested in saving objects like dictionaries into file, I let you see around the module __`pickle`__ [here](<https://wiki.python.org/moin/UsingPickle>). Be careful with unknown pickle file through internet, never trust it. Only use Pickle file you created yourself."
   ]
  }
 ],
 "metadata": {
  "kernelspec": {
   "display_name": "Python 3",
   "language": "python",
   "name": "python3"
  },
  "language_info": {
   "codemirror_mode": {
    "name": "ipython",
    "version": 3
   },
   "file_extension": ".py",
   "mimetype": "text/x-python",
   "name": "python",
   "nbconvert_exporter": "python",
   "pygments_lexer": "ipython3",
   "version": "3.7.3"
  }
 },
 "nbformat": 4,
 "nbformat_minor": 4
}
