{
 "cells": [
  {
   "cell_type": "markdown",
   "metadata": {},
   "source": [
    "# 2.1. Variables\n",
    "\n",
    "Now you know what is Python, we can get into it. We will go easy but I think you'll understand everything because you're smart students!\n",
    "\n",
    "## What is it and why it's important\n",
    "\n",
    "Variables are present in all programming languages. Without it, you cannot code a single script. So it's important because if you cannot save a result to use it later, it'll become annoying really fast.\n",
    "\n",
    "If you compare the memory of your computer with a wardrobe. Each drawer can store data and some of them are your variables.\n",
    "\n",
    "## How does it work ?\n",
    "\n",
    "To give the variable a value : `name_of_your_variable =  value`. Wow so complicated.\n",
    "\n",
    "Few rules :\n",
    "1. Name of your variable can only contain letters, capital or not, numbers and underscore `_`.\n",
    "2. Name cannot begin with a number\n",
    "3. Python is case sensitive so `age` is different from `AGE`  and `Age`.\n",
    "\n",
    "A convention with Python is to write the variables lowercase and replacing spaces with underscore. You can do whatever you want, but if you want that your code will be understandable by everyone, it's good to adopt conventions of writing.\n",
    "\n",
    "We take an example. Imagine your computer is asking your age. He stores it in the variable `age` and after your birthday, he will update it adding one to this variable. If someone want to display your age, he can call `age`. \n",
    "\n",
    "In the interpreter (distinguished by `>>>` in PyCharm), if you write :"
   ]
  },
  {
   "cell_type": "code",
   "execution_count": null,
   "metadata": {},
   "outputs": [],
   "source": [
    "# CTRL + ENTER to execute here\n",
    "my_age = 26"
   ]
  },
  {
   "cell_type": "markdown",
   "metadata": {},
   "source": [
    "You see that nothing happen, but if you call :"
   ]
  },
  {
   "cell_type": "code",
   "execution_count": null,
   "metadata": {},
   "outputs": [],
   "source": [
    "# CTRL + ENTER to execute here\n",
    "my_age"
   ]
  },
  {
   "cell_type": "markdown",
   "metadata": {},
   "source": [
    "You see the output displays what you entered just before. It was saved silently and after, you can get it.\n",
    "\n",
    "You can know do simple operations on it like :"
   ]
  },
  {
   "cell_type": "code",
   "execution_count": null,
   "metadata": {},
   "outputs": [],
   "source": [
    "# CTRL + ENTER to execute here\n",
    "my_age = my_age + 1\n",
    "my_age"
   ]
  },
  {
   "cell_type": "markdown",
   "metadata": {},
   "source": [
    "Oh wow, I'm older! And you can also use it to create another variable :"
   ]
  },
  {
   "cell_type": "code",
   "execution_count": null,
   "metadata": {
    "scrolled": true
   },
   "outputs": [],
   "source": [
    "# CTRL + ENTER to execute here\n",
    "my_age_x2 = my_age * 2\n",
    "my_age_x2"
   ]
  },
  {
   "cell_type": "code",
   "execution_count": null,
   "metadata": {},
   "outputs": [],
   "source": [
    "# CTRL + ENTER to execute here\n",
    "my_age"
   ]
  },
  {
   "cell_type": "markdown",
   "metadata": {},
   "source": [
    "It doesn't change our first variable but create another one with a different name. If you use the same name twice, it will erase the first value you wrote in it.\n",
    "\n",
    "Some words are forbidden in Python because they are used for another purposes. Here's the list of them :\n",
    "``and``, ``del``, ``from``, ``none``, ``true``, ``as``, ``elif``, ``global``, ``nonlocal``, ``try``, ``assert``, ``else``, ``if``, ``not``, ``while``, ``break``, ``except``, ``import``, ``or``, ``with``, ``class``, ``false``, ``in``, ``pass``, ``yield``, ``continue``, ``finally``, ``is``, ``raise``, ``def``, ``for``, ``lambda``, ``return``\n",
    "\n",
    "We will see most of them during this class in the next lessons. Don't be afraid, it seems a lot to learn but when you're used to it, it's really easy."
   ]
  }
 ],
 "metadata": {
  "kernelspec": {
   "display_name": "Python 3",
   "language": "python",
   "name": "python3"
  },
  "language_info": {
   "codemirror_mode": {
    "name": "ipython",
    "version": 3
   },
   "file_extension": ".py",
   "mimetype": "text/x-python",
   "name": "python",
   "nbconvert_exporter": "python",
   "pygments_lexer": "ipython3",
   "version": "3.7.3"
  }
 },
 "nbformat": 4,
 "nbformat_minor": 4
}
