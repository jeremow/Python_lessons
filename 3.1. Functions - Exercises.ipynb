{
 "cells": [
  {
   "cell_type": "markdown",
   "metadata": {},
   "source": [
    "# 3.1. Functions - Exercises\n",
    "\n",
    "## Warmup 1\n",
    "\n",
    "Create a function `say_hello` which __display__ the message \"ooooo sain baina uu?\""
   ]
  },
  {
   "cell_type": "code",
   "execution_count": null,
   "metadata": {},
   "outputs": [],
   "source": [
    "# here the code to define your function (CTRL+ENTER with Win, SHIFT+ENTER with Lin). \n",
    "\n",
    "\n",
    "# here's the test\n",
    "say_hello()"
   ]
  },
  {
   "cell_type": "markdown",
   "metadata": {},
   "source": [
    "## Warmup 2\n",
    "\n",
    "Create a function `say_hello` which takes one parameter `name` and __display__ \"`name`, sain baina uu?\""
   ]
  },
  {
   "cell_type": "code",
   "execution_count": null,
   "metadata": {},
   "outputs": [],
   "source": [
    "# here's your function say_hello\n",
    "\n",
    "\n",
    "\n",
    "# here's the test\n",
    "say_hello('Baigalaa')"
   ]
  },
  {
   "cell_type": "markdown",
   "metadata": {},
   "source": [
    "## Warmup 3\n",
    "\n",
    "Create a function `present_user` which takes 2 parameters `name` and `age` and __display__ \"Minii ner `name`. Bi `age`-n nastai\""
   ]
  },
  {
   "cell_type": "code",
   "execution_count": null,
   "metadata": {},
   "outputs": [],
   "source": [
    "# here's your function present_user\n",
    "\n",
    "\n",
    "# here's the test\n",
    "present_user('Jeremy', 26)"
   ]
  },
  {
   "cell_type": "markdown",
   "metadata": {},
   "source": [
    "## Warmup 4\n",
    "\n",
    "Create a function `say_hello` which takes one parameter `name` and __display__ \"`name`, sain baina uu?\". Default value of `name` is not precised is _Zochin_."
   ]
  },
  {
   "cell_type": "code",
   "execution_count": null,
   "metadata": {},
   "outputs": [],
   "source": [
    "# here's your function say_hello\n",
    "\n",
    "\n",
    "\n",
    "# here's the test\n",
    "say_hello('Tunga')\n",
    "say_hello()"
   ]
  },
  {
   "cell_type": "markdown",
   "metadata": {},
   "source": [
    "## Warmup 5\n",
    "\n",
    "Create a function `get_2x_age` which takes `age` as parameter, __display__ \"You're `age` and twice your age is : `age_2x`\" and __return__ two times your age. Default value is _18_."
   ]
  },
  {
   "cell_type": "code",
   "execution_count": null,
   "metadata": {},
   "outputs": [],
   "source": [
    "# here's your function get_2x_age\n",
    "\n",
    "\n",
    "\n",
    "# here's the test\n",
    "twice_my_age = get_2x_age(26)\n",
    "print(twice_my_age)\n",
    "\n",
    "twice_my_age = get_2x_age()\n",
    "print(twice_my_age)"
   ]
  },
  {
   "cell_type": "markdown",
   "metadata": {},
   "source": [
    "## Exercise 1\n",
    "\n",
    "Create a function `above_limit` which takes in parameter a _list_ `L` and an _integer_ `limit` and __return__ a new list with only the numbers of `L` which are above or equal to `limit`."
   ]
  },
  {
   "cell_type": "code",
   "execution_count": null,
   "metadata": {},
   "outputs": [],
   "source": [
    "# here's your function above_limit\n",
    "\n",
    "\n",
    "            \n",
    "    \n",
    "# here's the test\n",
    "my_list = [2, 15, 18, 25, 96]\n",
    "above_list = above_limit(my_list, 16)\n",
    "print(above_list) # must display [18, 25, 96]"
   ]
  },
  {
   "cell_type": "markdown",
   "metadata": {},
   "source": [
    "## Exercise 2\n",
    "\n",
    "Create a function `first_elements` which takes a _list_ `L` and an _integer_ `nb_elements` in parameters and __return__ a new list with only the first `nb_elements` elements of the list `L`. If `nb_elements` is superior to the length of the list `L`, __return__ a new list with all the elements of `L` (don't return `L` itself!). \n",
    "\n",
    "To get the length of a list: `len(my_list)`."
   ]
  },
  {
   "cell_type": "code",
   "execution_count": null,
   "metadata": {},
   "outputs": [],
   "source": [
    "# here's your function first_elements\n",
    "\n",
    "\n",
    "\n",
    "# here's the test\n",
    "my_list = [2, 15, 18, 25, 96]\n",
    "my_new_list = first_elements(my_list, 2)\n",
    "print(my_new_list) # must display [2, 15]\n",
    "\n",
    "my_new_list = first_elements(my_list, 10)\n",
    "print(my_new_list) # must display [2, 15, 18, 25, 96]"
   ]
  },
  {
   "cell_type": "markdown",
   "metadata": {},
   "source": [
    "## Exercise 3\n",
    "\n",
    "Create a function `last_elements` which takes a _list_ `L` and an _integer_ `nb_elements` in parameters and __return__ a new list with only the last `nb_elements` elements of the list `L` beginning from the __end__. If `nb_elements` is superior to the length of the list `L`, __return__ an empty list.\n",
    "\n",
    "To get the length of a list: `len(my_list)`.\n",
    "\n",
    "`\n",
    "my_list = [2, 3, 4] \n",
    "my_list.reverse()\n",
    "print(my_list) # [4, 3, 2]\n",
    "`\n",
    "\n",
    "\n",
    "\n",
    "\n"
   ]
  },
  {
   "cell_type": "code",
   "execution_count": null,
   "metadata": {},
   "outputs": [],
   "source": [
    "# here's your function last_elements\n",
    "\n",
    "\n",
    "\n",
    "# here's the test\n",
    "my_list = [2, 15, 18, 25, 96]\n",
    "my_new_list = last_elements(my_list, 2)\n",
    "print(my_new_list) # must display [96, 25]\n",
    "\n",
    "\n",
    "my_new_list = last_elements(my_list, 10)\n",
    "print(my_new_list) # must display []"
   ]
  },
  {
   "cell_type": "code",
   "execution_count": null,
   "metadata": {},
   "outputs": [],
   "source": [
    "# here's your function last_elements\n",
    "\n",
    "\n",
    "    \n",
    "# here's the test\n",
    "my_list = [2, 15, 18, 25, 96]\n",
    "my_new_list = last_elements(my_list, 2)\n",
    "print(my_new_list) # must display [96, 25]\n",
    "\n",
    "my_new_list = last_elements(my_list, 10)\n",
    "print(my_new_list) # must display []"
   ]
  },
  {
   "cell_type": "markdown",
   "metadata": {},
   "source": [
    "## Exercise 4\n",
    "\n",
    "Create a function `fact` which take a number as parameter and __return__ the factorial of this number. It must be a non-negative integer, if negative, __display__ \"Number must be positive\" and __return__ None. _(Be careful, fact(0) = 1 ...)_"
   ]
  },
  {
   "cell_type": "code",
   "execution_count": null,
   "metadata": {
    "scrolled": true
   },
   "outputs": [],
   "source": [
    "# here's your function fact\n",
    "\n",
    "# BASIC\n",
    "\n",
    "\n",
    "\n",
    "# RECURSIVE\n",
    "\n",
    "\n",
    "\n",
    "# here's the test\n",
    "nb = fact(5)\n",
    "print(nb) # must display 120\n",
    "\n",
    "nb = fact(-1) # must display \"Number must be positive\"\n",
    "print(nb) # must display None"
   ]
  },
  {
   "cell_type": "markdown",
   "metadata": {},
   "source": [
    "## Exercise 5\n",
    "\n",
    "Create a function `case_letters` that takes a string as parameter and display the number of upper case letters and lower case letters. The method to see if a character is in lower case: ``char.islower()`` return True if char is in lower case. For upper case: ``char.isupper()`` ..."
   ]
  },
  {
   "cell_type": "code",
   "execution_count": null,
   "metadata": {},
   "outputs": [],
   "source": [
    "# here's your function case_letters\n",
    "\n",
    "\n",
    "\n",
    "# here's the test\n",
    "case_letters('JeReMY') # must display: \"Number of lower case letters: 2 ; Number of upper case letters: 4.\"\n",
    "case_letters('Hello, I am a real Mongolian Woman')\n",
    "# must display: \"Number of lower case letters: 23 ; Number of upper case letters: 4.\""
   ]
  },
  {
   "cell_type": "markdown",
   "metadata": {},
   "source": [
    "## Exercise 6\n",
    "\n",
    "Create a function `is_pangram` which take a _string_ as parameter and __display__ whether a string is a pangram or not and __return__ ``True`` or ``False``. A pangram is a sentence with every letter of the alphabet at least once. To do it, you have to check every letter of the sentence and add to a defined dictionary the number of times you see a letter. I give you the dictionary you can copy :\n",
    "\n",
    "`alphabet = {'a': 0, 'b': 0, 'c': 0, 'd': 0, 'e': 0, 'f': 0, 'g': 0, 'h': 0, 'i': 0, 'j': 0, 'k': 0, 'l': 0, 'm': 0, 'n': 0, 'o': 0, 'p': 0, 'q': 0, 'r': 0, 's': 0, 't': 0, 'u': 0, 'v': 0, 'w': 0, 'x': 0, 'y': 0, 'z': 0}`\n",
    "\n",
    "If one of the value associated to the key is equal to 0, that means that's not a pangram. The french sentence \"Portez ce vieux whisky au juge blond qui fume\" contains exactly each letter only once.\n"
   ]
  },
  {
   "cell_type": "code",
   "execution_count": null,
   "metadata": {},
   "outputs": [],
   "source": [
    "# here's your function is_pangram\n",
    "\n",
    "\n",
    "\n",
    "# here's the test\n",
    "answer = is_pangram('Portez ce vieux whisky au juge blond qui fume') # must display: \"The sentence is a pangram\"\n",
    "print(answer) # must display True\n",
    "\n",
    "answer = is_pangram('Hello, I am a real Mongolian Woman') # must display: \"The sentence isn't a pangram\"\n",
    "print(answer) # must display False"
   ]
  },
  {
   "cell_type": "markdown",
   "metadata": {},
   "source": [
    "## Exercise 7\n",
    "\n",
    "Write a little game __More Or Less__ as a function `more_or_less` that randomly generates a number between two given numbers and ask the user to give a number until he finds it. You will write the function `more_or_less` which takes two parameters: the limits of the game and launch the game and you'll write the function `compare_number` which takes two numbers as parameters (the one which is generated by the game and the input one of the user) and __display__ if the number to guess is higher or lower than the user number and __return__ `False`, __display__ \"You win\" if you find the number and __return__ ``True``. \n",
    "\n",
    "To generate randomly, we will use a function called `random.randint(a, b)` with `a` and `b` the range where the number will be choosen randomly from a library called `random`."
   ]
  },
  {
   "cell_type": "code",
   "execution_count": null,
   "metadata": {},
   "outputs": [],
   "source": [
    "# here's your function compare_number\n",
    "\n",
    "import random\n",
    "\n",
    "def compare_numbers(nb_to_guess, user_nb):\n",
    "    if #... :\n",
    "        print()\n",
    "        return \n",
    "    elif #... :\n",
    "        print()\n",
    "        return\n",
    "    else:\n",
    "        print()\n",
    "        return \n",
    "    \n",
    "def more_or_less(low_lim, high_lim):\n",
    "    \n",
    "    nb_to_guess = random.randint() # complete\n",
    "    user_win = False\n",
    "    \n",
    "    while user_win is not True:\n",
    "        # input number and convert into int ...\n",
    "        #complete\n",
    "        user_win = compare_numbers() # complete\n",
    "        \n",
    "# here's the game to play\n",
    "\n",
    "# to test the game at first, it will be easier if the range is really tight.\n",
    "# When it works properly, you can change the high limit to 50 for example.\n",
    "more_or_less(1, 4) \n"
   ]
  },
  {
   "cell_type": "markdown",
   "metadata": {},
   "source": [
    "## Exercise 8\n",
    "\n",
    "Open the software you use (PyCharm or Spyder) and create a new Python file called `shop.py`. If you don't have one, you can work here directly\n",
    "\n",
    "You manage a fruit shop. Your wholesaler has a **list** of fruits available in infinite amount you can buy. His list will be composed of orange, apple, grape, watermelon, peach, banana, apricots, cherries. You don't have to buy all of the fruits. You store them in a **dictionary**. If you don't have the product, it disappear from your dictionary. A client can come in your shop and buy fruits if there are enough.\n",
    "\n",
    "You'll create three functions: `buy_fruit_from_wholesaler`, `sell_fruit_to_client`, `print_wholesaler` and `print_storage`.\n",
    "\n",
    "Don't be afraid, I don't let you like this. Here's some code to begin you can copy: "
   ]
  },
  {
   "cell_type": "code",
   "execution_count": null,
   "metadata": {},
   "outputs": [],
   "source": [
    "# -*- coding: utf-8 -*-\n",
    "\n",
    "def print_storage(storage_dict):\n",
    "    \"\"\"\n",
    "    Function to display the storage of our fruits shop\n",
    "    If the storage_dict is empty, print: 'Sorry, no article available'. Else print the details of the shop.\n",
    "    \n",
    "    Return nothing\n",
    "    \"\"\"\n",
    "    \n",
    "    print('Welcome to my supermarket! Here\\'s what we have today:')\n",
    "    \n",
    "    if :\n",
    "    else:\n",
    "        for :\n",
    "\n",
    "def print_wholesaler(wholesaler_list):\n",
    "    \"\"\"\n",
    "    Function to display the available fruits in the wholesaler\n",
    "    \n",
    "    Return nothing\n",
    "    \"\"\"\n",
    "    \n",
    "    print('Welcome to the wholesaler! Here\\'s the fruits available in infinite quantity:')\n",
    "    \n",
    "    for :\n",
    "\n",
    "         \n",
    "\n",
    "def sell_fruit_to_client(storage_dict, fruit, quantity):\n",
    "    \"\"\"\n",
    "    Function to sell to a client a fruit in a certain amount quantity.\n",
    "    Verify if there is enough fruits in the storage_dict :\n",
    "        If there is enough, it substracts the number from the dictionary.\n",
    "        If there isn't enough, it says to the client how many there are left.\n",
    "        If the article doesn't exist, it says Sorry, we don't have this article.\n",
    "    If an article has an amount of 0, it will pop out of the dictionary. \n",
    "    No need to return anything, the dictionary is a reference ... \n",
    "    That means that when the job with the function is done, it automatically updates the dict without returning it.\n",
    "    (I put an example below to get the concept of reference)\n",
    "    \"\"\"\n",
    "    \n",
    "    if :\n",
    "    else:\n",
    "        if :\n",
    "        elif :\n",
    "        else:    \n",
    "    \n",
    "\n",
    "def buy_fruit_from_wholesaler(fruits_list, storage_dict, fruit, quantity):\n",
    "    \"\"\"\n",
    "    Function to buy a certain fruit in the quantity you want and add it to you storage_dict.\n",
    "    Verify if the article exist in the wholesaler_list, if you have already the article you want yo buy. \n",
    "    If no, it adds it to your dictionary.\n",
    "    If yes, it adds to the amount already written in it.\n",
    "    \"\"\"\n",
    "\n",
    "    if :\n",
    "    else:\n",
    "        if :\n",
    "        elif :\n",
    "        else:\n",
    "\n",
    "    \n",
    "### Here we test the functions ... you'll see later why we write it like this \n",
    "if __name__=='__main__':\n",
    "    \n",
    "    # our shop is here :\n",
    "    fruits_shop = {}\n",
    "    \n",
    "    # The wholesaler list is here\n",
    "    wholesaler_list = ['orange', 'apple', 'grape', 'watermelon', 'peach', 'banana', 'apricot', 'cherry'] \n",
    "    \n",
    "    print_storage(fruits_shop) # Nothing for the moment\n",
    "    \n",
    "    buy_fruit_from_wholesaler(wholesaler_list, fruits_shop, 'banana', 25)\n",
    "    buy_fruit_from_wholesaler(wholesaler_list, fruits_shop, 'apple', 17)\n",
    "    buy_fruit_from_wholesaler(wholesaler_list, fruits_shop, 'watermelon', 91)\n",
    "    buy_fruit_from_wholesaler(wholesaler_list, fruits_shop, 'avocado', 10) # fruit isn't in the wholesaler list\n",
    "    \n",
    "    sell_fruit_to_client(fruits_shop, 'banana', 5)\n",
    "    sell_fruit_to_client(fruits_shop, 'apple', 17)\n",
    "    sell_fruit_to_client(fruits_shop, 'cherry', 40) # fruit isn't in the storage\n",
    "    sell_fruit_to_client(fruits_shop, 'watermelon', 92) # too much, he cannot buy it\n",
    "    \n",
    "    print_storage(fruits_shop) # you normally get 20 bananas and 91 watermelons.\n",
    "    \n",
    "    pass # this word can be useful to create a function with nothing in it (waiting to write it later ...)"
   ]
  },
  {
   "cell_type": "markdown",
   "metadata": {},
   "source": [
    "## Exercise 8 - Advanced\n",
    "\n",
    "Make modifications on your code on the following functions : ``sell_fruit_to_client(storage_dict)`` and ``buy_fruit_from_wholesaler(fruits_list, storage_dict)``. Delete the parameters of fruits and quantity and ask the user to write it when launching the program (help : the function ``input()``...)"
   ]
  },
  {
   "cell_type": "markdown",
   "metadata": {},
   "source": [
    "### Little explanation of difference between value and reference ..."
   ]
  },
  {
   "cell_type": "code",
   "execution_count": null,
   "metadata": {},
   "outputs": [],
   "source": [
    "### What's happening with a as a number? (or a string)\n",
    "a = 15\n",
    "print('Value of a :', a)\n",
    "\n",
    "def change(a,b):\n",
    "    a = b\n",
    "    print(a)\n",
    "    \n",
    "print('value of a in the function :')\n",
    "change(a, 5)\n",
    "\n",
    "# The value isn't change out of the function\n",
    "print('Reprint a :', a)"
   ]
  },
  {
   "cell_type": "code",
   "execution_count": null,
   "metadata": {},
   "outputs": [],
   "source": [
    "### What's happening with a as a dictionary? (or a list)\n",
    "a = {'number': 15}\n",
    "print('Value of a :', a)\n",
    "\n",
    "def change(a, b):\n",
    "    a['number'] = b\n",
    "    print(a)\n",
    "    \n",
    "print('value of a in the function :')\n",
    "change(a, 5)\n",
    "\n",
    "# The value is changed even out of the function\n",
    "print('Reprint a :', a)"
   ]
  }
 ],
 "metadata": {
  "kernelspec": {
   "display_name": "Python 3",
   "language": "python",
   "name": "python3"
  },
  "language_info": {
   "codemirror_mode": {
    "name": "ipython",
    "version": 3
   },
   "file_extension": ".py",
   "mimetype": "text/x-python",
   "name": "python",
   "nbconvert_exporter": "python",
   "pygments_lexer": "ipython3",
   "version": "3.7.3"
  }
 },
 "nbformat": 4,
 "nbformat_minor": 4
}
